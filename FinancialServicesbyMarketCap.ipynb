{
  "nbformat": 4,
  "nbformat_minor": 0,
  "metadata": {
    "colab": {
      "provenance": [],
      "authorship_tag": "ABX9TyPirOnjk/jkm4gBjN12pfuq",
      "include_colab_link": true
    },
    "kernelspec": {
      "name": "python3",
      "display_name": "Python 3"
    },
    "language_info": {
      "name": "python"
    }
  },
  "cells": [
    {
      "cell_type": "markdown",
      "metadata": {
        "id": "view-in-github",
        "colab_type": "text"
      },
      "source": [
        "<a href=\"https://colab.research.google.com/github/LuminousSpace150/Financial-Services-Companies-Project/blob/main/FinancialServicesbyMarketCap.ipynb\" target=\"_parent\"><img src=\"https://colab.research.google.com/assets/colab-badge.svg\" alt=\"Open In Colab\"/></a>"
      ]
    },
    {
      "cell_type": "code",
      "source": [
        "pip install -U pandasql  # installing pandasql which allows to query pandas DataFrame using SQL syntax."
      ],
      "metadata": {
        "colab": {
          "base_uri": "https://localhost:8080/"
        },
        "id": "JByGRqdktzaX",
        "outputId": "f1201907-9867-4bc0-f468-1a6102264687"
      },
      "execution_count": 68,
      "outputs": [
        {
          "output_type": "stream",
          "name": "stdout",
          "text": [
            "Looking in indexes: https://pypi.org/simple, https://us-python.pkg.dev/colab-wheels/public/simple/\n",
            "Requirement already satisfied: pandasql in /usr/local/lib/python3.8/dist-packages (0.7.3)\n",
            "Requirement already satisfied: pandas in /usr/local/lib/python3.8/dist-packages (from pandasql) (1.5.3)\n",
            "Requirement already satisfied: sqlalchemy in /usr/local/lib/python3.8/dist-packages (from pandasql) (1.4.46)\n",
            "Requirement already satisfied: numpy in /usr/local/lib/python3.8/dist-packages (from pandasql) (1.21.6)\n",
            "Requirement already satisfied: pytz>=2020.1 in /usr/local/lib/python3.8/dist-packages (from pandas->pandasql) (2022.7.1)\n",
            "Requirement already satisfied: python-dateutil>=2.8.1 in /usr/local/lib/python3.8/dist-packages (from pandas->pandasql) (2.8.2)\n",
            "Requirement already satisfied: greenlet!=0.4.17 in /usr/local/lib/python3.8/dist-packages (from sqlalchemy->pandasql) (2.0.2)\n",
            "Requirement already satisfied: six>=1.5 in /usr/local/lib/python3.8/dist-packages (from python-dateutil>=2.8.1->pandas->pandasql) (1.15.0)\n"
          ]
        }
      ]
    },
    {
      "cell_type": "code",
      "source": [
        "pip install -U kaleido"
      ],
      "metadata": {
        "colab": {
          "base_uri": "https://localhost:8080/"
        },
        "id": "NfpJhTQLfM5N",
        "outputId": "4770e4e8-3bde-4f58-d03c-5623d0bb833b"
      },
      "execution_count": 69,
      "outputs": [
        {
          "output_type": "stream",
          "name": "stdout",
          "text": [
            "Looking in indexes: https://pypi.org/simple, https://us-python.pkg.dev/colab-wheels/public/simple/\n",
            "Requirement already satisfied: kaleido in /usr/local/lib/python3.8/dist-packages (0.2.1)\n"
          ]
        }
      ]
    },
    {
      "cell_type": "code",
      "source": [
        "pip install --upgrade pandas"
      ],
      "metadata": {
        "colab": {
          "base_uri": "https://localhost:8080/"
        },
        "id": "clmYc9GQXpg1",
        "outputId": "e7ad31c2-ee05-4c88-fc2f-7f86a8f22ff7"
      },
      "execution_count": 70,
      "outputs": [
        {
          "output_type": "stream",
          "name": "stdout",
          "text": [
            "Looking in indexes: https://pypi.org/simple, https://us-python.pkg.dev/colab-wheels/public/simple/\n",
            "Requirement already satisfied: pandas in /usr/local/lib/python3.8/dist-packages (1.5.3)\n",
            "Requirement already satisfied: numpy>=1.20.3 in /usr/local/lib/python3.8/dist-packages (from pandas) (1.21.6)\n",
            "Requirement already satisfied: pytz>=2020.1 in /usr/local/lib/python3.8/dist-packages (from pandas) (2022.7.1)\n",
            "Requirement already satisfied: python-dateutil>=2.8.1 in /usr/local/lib/python3.8/dist-packages (from pandas) (2.8.2)\n",
            "Requirement already satisfied: six>=1.5 in /usr/local/lib/python3.8/dist-packages (from python-dateutil>=2.8.1->pandas) (1.15.0)\n"
          ]
        }
      ]
    },
    {
      "cell_type": "markdown",
      "source": [
        "**Import Statements**"
      ],
      "metadata": {
        "id": "HuEux38LJkGj"
      }
    },
    {
      "cell_type": "code",
      "source": [
        "from bs4 import BeautifulSoup\n",
        "from google.colab import drive\n",
        "import requests\n",
        "import pandas as pd\n",
        "import matplotlib.pyplot as plt\n",
        "import matplotlib.ticker as ticker\n",
        "import plotly.express as px\n",
        "import seaborn as sns\n",
        "import numpy as np\n",
        "from pandasql import sqldf"
      ],
      "metadata": {
        "id": "IPCdZLpsJnY6"
      },
      "execution_count": 71,
      "outputs": []
    },
    {
      "cell_type": "markdown",
      "source": [
        "Specify `locals()` or `globals()`"
      ],
      "metadata": {
        "id": "qN55aYuRQ-DY"
      }
    },
    {
      "cell_type": "code",
      "source": [
        "pysqldf = lambda q: sqldf(q, globals())"
      ],
      "metadata": {
        "id": "AqdWo0RPRQOr"
      },
      "execution_count": 72,
      "outputs": []
    },
    {
      "cell_type": "markdown",
      "source": [
        "**Web Scraping**"
      ],
      "metadata": {
        "id": "WIp3XgEsE4xt"
      }
    },
    {
      "cell_type": "markdown",
      "source": [
        "*Step 1: Obtaining the HTML*"
      ],
      "metadata": {
        "id": "TCt6w58gE_Ok"
      }
    },
    {
      "cell_type": "code",
      "source": [
        "URL = 'https://companiesmarketcap.com/financial-services/largest-financial-service-companies-by-market-cap/'\n",
        "user_agent = 'Mozilla/5.0 (Windows NT 10.0; Win64; x64) AppleWebKit/537.36 (KHTML, like Gecko) Chrome/109.0.0.0 Safari/537.36'\n",
        "\n",
        "response = requests.get(URL, headers={'user-agent': user_agent})\n",
        "\n",
        "if response.ok:\n",
        "  message = 'Request SUCCESSFUL!'\n",
        "else:\n",
        "  message = 'Request FAILED'\n",
        "\n",
        "print('Status Code:', response.status_code)\n",
        "print(message)\n"
      ],
      "metadata": {
        "colab": {
          "base_uri": "https://localhost:8080/"
        },
        "id": "C_6QHVoeE93T",
        "outputId": "a9203dfa-ea53-4a1f-fdb7-2cad774f6b43"
      },
      "execution_count": 73,
      "outputs": [
        {
          "output_type": "stream",
          "name": "stdout",
          "text": [
            "Status Code: 200\n",
            "Request SUCCESSFUL!\n"
          ]
        }
      ]
    },
    {
      "cell_type": "markdown",
      "source": [
        "Checking the type of response variable:"
      ],
      "metadata": {
        "id": "5rp5hLOAJBGU"
      }
    },
    {
      "cell_type": "code",
      "source": [
        "type(response)"
      ],
      "metadata": {
        "colab": {
          "base_uri": "https://localhost:8080/"
        },
        "id": "-_b_ivMCJFYs",
        "outputId": "a8e46de1-d1db-4a16-91a6-1dd8b0f96549"
      },
      "execution_count": 74,
      "outputs": [
        {
          "output_type": "execute_result",
          "data": {
            "text/plain": [
              "requests.models.Response"
            ]
          },
          "metadata": {},
          "execution_count": 74
        }
      ]
    },
    {
      "cell_type": "markdown",
      "source": [
        "*Step 2: Parsing the HTML*"
      ],
      "metadata": {
        "id": "A22BNB4oJZXr"
      }
    },
    {
      "cell_type": "code",
      "source": [
        "html = response.content\n",
        "parser = 'html5lib'\n",
        "\n",
        "soup = BeautifulSoup(html, parser)\n",
        "type(soup)"
      ],
      "metadata": {
        "colab": {
          "base_uri": "https://localhost:8080/"
        },
        "id": "zyNcwRLsJQBX",
        "outputId": "36e001ff-9ddb-4614-8678-8f20a955df33"
      },
      "execution_count": 75,
      "outputs": [
        {
          "output_type": "execute_result",
          "data": {
            "text/plain": [
              "bs4.BeautifulSoup"
            ]
          },
          "metadata": {},
          "execution_count": 75
        }
      ]
    },
    {
      "cell_type": "markdown",
      "source": [
        "prettify() method is used to VIEW the Parse tree by Beautiful Soup into a nicely formatted Unicode string.\n",
        "Here, there is a separate line for each tag and string."
      ],
      "metadata": {
        "id": "SoXv2mCeKv1T"
      }
    },
    {
      "cell_type": "code",
      "source": [
        "# Printing the first 1500 characters\n",
        "print(soup.prettify()[:1500])"
      ],
      "metadata": {
        "colab": {
          "base_uri": "https://localhost:8080/"
        },
        "id": "YsAWyFw5LEEq",
        "outputId": "b7d99c82-d5a0-4150-cd63-d452a21f21d3"
      },
      "execution_count": 76,
      "outputs": [
        {
          "output_type": "stream",
          "name": "stdout",
          "text": [
            "<!DOCTYPE html>\n",
            "<html lang=\"en-US\">\n",
            " <head>\n",
            "  <title>\n",
            "   Largest financial service companies by market cap\n",
            "  </title>\n",
            "  <meta charset=\"utf-8\"/>\n",
            "  <link href=\"https://companiesmarketcap.com/favicon.ico\" rel=\"shortcut icon\" type=\"image/x-icon\"/>\n",
            "  <link href=\"/img/icons/apple-icon-57x57.png\" rel=\"apple-touch-icon\" sizes=\"57x57\"/>\n",
            "  <link href=\"/img/icons/apple-icon-60x60.png\" rel=\"apple-touch-icon\" sizes=\"60x60\"/>\n",
            "  <link href=\"/img/icons/apple-icon-72x72.png\" rel=\"apple-touch-icon\" sizes=\"72x72\"/>\n",
            "  <link href=\"/img/icons/apple-icon-76x76.png\" rel=\"apple-touch-icon\" sizes=\"76x76\"/>\n",
            "  <link href=\"/img/icons/apple-icon-114x114.png\" rel=\"apple-touch-icon\" sizes=\"114x114\"/>\n",
            "  <link href=\"/img/icons/apple-icon-120x120.png\" rel=\"apple-touch-icon\" sizes=\"120x120\"/>\n",
            "  <link href=\"/img/icons/apple-icon-144x144.png\" rel=\"apple-touch-icon\" sizes=\"144x144\"/>\n",
            "  <link href=\"/img/icons/apple-icon-152x152.png\" rel=\"apple-touch-icon\" sizes=\"152x152\"/>\n",
            "  <link href=\"/img/icons/apple-icon-180x180.png\" rel=\"apple-touch-icon\" sizes=\"180x180\"/>\n",
            "  <link href=\"/img/icons/android-icon-192x192.png\" rel=\"icon\" sizes=\"192x192\" type=\"image/png\"/>\n",
            "  <link href=\"/img/icons/favicon-32x32.png\" rel=\"icon\" sizes=\"32x32\" type=\"image/png\"/>\n",
            "  <link href=\"/img/icons/favicon-96x96.png\" rel=\"icon\" sizes=\"96x96\" type=\"image/png\"/>\n",
            "  <link href=\"/img/icons/favicon-16x16.png\" rel=\"icon\" sizes=\"16x16\" type=\"image/png\"/>\n",
            "  <link href=\"/img/icons/manifest.json\" rel=\"manifest\"/>\n",
            "  <link href=\"https://companiesmarketcap.com\n"
          ]
        }
      ]
    },
    {
      "cell_type": "markdown",
      "source": [
        "*Step 3: Extracting the Data*"
      ],
      "metadata": {
        "id": "fvS1JoVuLe2U"
      }
    },
    {
      "cell_type": "markdown",
      "source": [
        "Upon inspecting the webpage, we can see the data is encapsulated in the  'tbody' tag, which itself has a set of table rows."
      ],
      "metadata": {
        "id": "t9QRSJLPLmyD"
      }
    },
    {
      "cell_type": "markdown",
      "source": [
        "We'll use the `find()` function. This function takes the name of the desired tag as string input and returns the first occurence of that particular tag."
      ],
      "metadata": {
        "id": "Iz52cOu4MPpS"
      }
    },
    {
      "cell_type": "code",
      "source": [
        "table = soup.find('tbody')"
      ],
      "metadata": {
        "id": "vU0HO9bWLRSu"
      },
      "execution_count": 77,
      "outputs": []
    },
    {
      "cell_type": "code",
      "source": [
        "table.prettify()"
      ],
      "metadata": {
        "colab": {
          "base_uri": "https://localhost:8080/",
          "height": 122
        },
        "id": "NjYw7mxoBiLx",
        "outputId": "e26d4ca7-718d-44a3-f66b-e35385fc8f8a"
      },
      "execution_count": 78,
      "outputs": [
        {
          "output_type": "execute_result",
          "data": {
            "text/plain": [
              "'<tbody>\\n <tr>\\n  <td class=\"rank-td td-right\" data-sort=\"1\">\\n   1\\n  </td>\\n  <td class=\"name-td\">\\n   <div class=\"logo-container\">\\n    <img alt=\"Visa logo\" class=\"company-logo\" data-img-dark-path=\"/img/company-logos/64/V.D.png\" data-img-path=\"/img/company-logos/64/V.png\" loading=\"lazy\" src=\"/img/company-logos/64/V.png\"/>\\n   </div>\\n   <div class=\"name-div\">\\n    <a href=\"/visa/marketcap/\">\\n     <div class=\"company-name\">\\n      Visa\\n     </div>\\n     <div class=\"company-code\">\\n      <span class=\"rank d-none\">\\n      </span>\\n      V\\n     </div>\\n    </a>\\n   </div>\\n  </td>\\n  <td class=\"td-right\" data-sort=\"477526654976\">\\n   $477.52 B\\n  </td>\\n  <td class=\"td-right\" data-sort=\"22720\">\\n   $227.20\\n  </td>\\n  <td class=\"rh-sm\" data-sort=\"-94\">\\n   <span class=\"percentage-red\">\\n    <svg class=\"a\" viewBox=\"0 0 12 12\">\\n     <path d=\"m2 4h8l-4 4z\">\\n     </path>\\n    </svg>\\n    0.94%\\n   </span>\\n  </td>\\n  <td class=\"p-0 sparkline-td green\">\\n   <svg>\\n    <path d=\"M0,40 5,40 10,41 15,33 20,35 25,25 30,23 35,19 40,18 45,15 50,16 55,16 60,16 65,22 70,20 75,14 80,14 85,15 90,13 95,14 100,3 105,7 110,5 115,4 120,6 125,5 130,6 135,3 140,5 145,6 150,10 155,10\">\\n    </path>\\n   </svg>\\n  </td>\\n  <td>\\n   <img class=\"flag\" src=\"/img/flags/us.png\"/>\\n   <span class=\"responsive-hidden\">\\n    USA\\n   </span>\\n  </td>\\n </tr>\\n <tr>\\n  <td class=\"rank-td td-right\" data-sort=\"2\">\\n   2\\n  </td>\\n  <td class=\"name-td\">\\n   <div class=\"logo-container\">\\n    <img alt=\"JPMorgan Chase logo\" class=\"company-logo\" data-img-dark-path=\"/img/company-logos/64/JPM.D.png\" data-img-path=\"/img/company-logos/64/JPM.png\" loading=\"lazy\" src=\"/img/company-logos/64/JPM.png\"/>\\n   </div>\\n   <div class=\"name-div\">\\n    <a href=\"/jp-morgan-chase/marketcap/\">\\n     <div class=\"company-name\">\\n      JPMorgan Chase\\n     </div>\\n     <div class=\"company-code\">\\n      <span class=\"rank d-none\">\\n      </span>\\n      JPM\\n     </div>\\n    </a>\\n   </div>\\n  </td>\\n  <td class=\"td-right\" data-sort=\"413853646848\">\\n   $413.85 B\\n  </td>\\n  <td class=\"td-right\" data-sort=\"14104\">\\n   $141.04\\n  </td>\\n  <td class=\"rh-sm\" data-sort=\"44\">\\n   <span class=\"percentage-green\">\\n    <svg class=\"a\" viewBox=\"0 0 12 12\">\\n     <path d=\"M10 8H2l4-4 4 4z\">\\n     </path>\\n    </svg>\\n    0.44%\\n   </span>\\n  </td>\\n  <td class=\"p-0 sparkline-td green\">\\n   <svg>\\n    <path d=\"M0,41 5,41 10,37 15,32 20,36 25,26 30,28 35,23 40,19 45,20 50,6 55,6 60,14 65,31 70,38 75,37 80,28 85,24 90,21 95,18 100,16 105,21 110,18 115,19 120,22 125,13 130,10 135,3 140,7 145,16 150,13 155,13\">\\n    </path>\\n   </svg>\\n  </td>\\n  <td>\\n   <img class=\"flag\" src=\"/img/flags/us.png\"/>\\n   <span class=\"responsive-hidden\">\\n    USA\\n   </span>\\n  </td>\\n </tr>\\n <tr>\\n  <td class=\"rank-td td-right\" data-sort=\"3\">\\n   3\\n  </td>\\n  <td class=\"name-td\">\\n   <div class=\"logo-container\">\\n    <img alt=\"Mastercard logo\" class=\"company-logo\" loading=\"lazy\" src=\"/img/company-logos/64/MA.png\"/>\\n   </div>\\n   <div class=\"name-div\">\\n    <a href=\"/mastercard/marketcap/\">\\n     <div class=\"company-name\">\\n      Mastercard\\n     </div>\\n     <div class=\"company-code\">\\n      <span class=\"rank d-none\">\\n      </span>\\n      MA\\n     </div>\\n    </a>\\n   </div>\\n  </td>\\n  <td class=\"td-right\" data-sort=\"350689460224\">\\n   $350.68 B\\n  </td>\\n  <td class=\"td-right\" data-sort=\"36683\">\\n   $366.83\\n  </td>\\n  <td class=\"rh-sm\" data-sort=\"-97\">\\n   <span class=\"percentage-red\">\\n    <svg class=\"a\" viewBox=\"0 0 12 12\">\\n     <path d=\"m2 4h8l-4 4z\">\\n     </path>\\n    </svg>\\n    0.97%\\n   </span>\\n  </td>\\n  <td class=\"p-0 sparkline-td green\">\\n   <svg>\\n    <path d=\"M0,40 5,40 10,41 15,32 20,36 25,19 30,15 35,15 40,8 45,6 50,10 55,10 60,11 65,17 70,18 75,10 80,7 85,6 90,3 95,8 100,12 105,15 110,16 115,12 120,11 125,12 130,13 135,11 140,16 145,16 150,20 155,20\">\\n    </path>\\n   </svg>\\n  </td>\\n  <td>\\n   <img class=\"flag\" src=\"/img/flags/us.png\"/>\\n   <span class=\"responsive-hidden\">\\n    USA\\n   </span>\\n  </td>\\n </tr>\\n <tr>\\n  <td class=\"rank-td td-right\" data-sort=\"4\">\\n   4\\n  </td>\\n  <td class=\"name-td\">\\n   <div class=\"logo-container\">\\n    <img alt=\"Bank of America  logo\" class=\"company-logo\" data-img-dark-path=\"/img/company-logos/64/BAC.D.png\" data-img-path=\"/img/company-logos/64/BAC.png\" loading=\"lazy\" src=\"/img/company-logos/64/BAC.png\"/>\\n   </div>\\n   <div class=\"name-div\">\\n    <a href=\"/bank-of-america/marketcap/\">\\n     <div class=\"company-name\">\\n      Bank of America\\n     </div>\\n     <div class=\"company-code\">\\n      <span class=\"rank d-none\">\\n      </span>\\n      BAC\\n     </div>\\n    </a>\\n   </div>\\n  </td>\\n  <td class=\"td-right\" data-sort=\"284525461504\">\\n   $284.52 B\\n  </td>\\n  <td class=\"td-right\" data-sort=\"3558\">\\n   $35.58\\n  </td>\\n  <td class=\"rh-sm\" data-sort=\"-39\">\\n   <span class=\"percentage-red\">\\n    <svg class=\"a\" viewBox=\"0 0 12 12\">\\n     <path d=\"m2 4h8l-4 4z\">\\n     </path>\\n    </svg>\\n    0.39%\\n   </span>\\n  </td>\\n  <td class=\"p-0 sparkline-td green\">\\n   <svg>\\n    <path d=\"M0,41 5,41 10,37 15,30 20,31 25,28 30,33 35,31 40,28 45,27 50,19 55,19 60,26 65,35 70,40 75,33 80,29 85,26 90,23 95,18 100,17 105,18 110,16 115,12 120,10 125,7 130,7 135,3 140,6 145,14 150,15 155,15\">\\n    </path>\\n   </svg>\\n  </td>\\n  <td>\\n   <img class=\"flag\" src=\"/img/flags/us.png\"/>\\n   <span class=\"responsive-hidden\">\\n    USA\\n   </span>\\n  </td>\\n </tr>\\n <tr>\\n  <td class=\"rank-td td-right\" data-sort=\"5\">\\n   5\\n  </td>\\n  <td class=\"name-td\">\\n   <div class=\"logo-container\">\\n    <img alt=\"ICBC logo\" class=\"company-logo\" loading=\"lazy\" src=\"/img/company-logos/64/1398.HK.png\"/>\\n   </div>\\n   <div class=\"name-div\">\\n    <a href=\"/icbc/marketcap/\">\\n     <div class=\"company-name\">\\n      ICBC\\n     </div>\\n     <div class=\"company-code\">\\n      <span class=\"rank d-none\">\\n      </span>\\n      1398.HK\\n     </div>\\n    </a>\\n   </div>\\n  </td>\\n  <td class=\"td-right\" data-sort=\"217148588699\">\\n   $217.14 B\\n  </td>\\n  <td class=\"td-right\" data-sort=\"52\">\\n   $0.52\\n  </td>\\n  <td class=\"rh-sm\" data-sort=\"-25\">\\n   <span class=\"percentage-red\">\\n    <svg class=\"a\" viewBox=\"0 0 12 12\">\\n     <path d=\"m2 4h8l-4 4z\">\\n     </path>\\n    </svg>\\n    0.25%\\n   </span>\\n  </td>\\n  <td class=\"p-0 sparkline-td green\">\\n   <svg>\\n    <path d=\"M0,40 5,40 10,34 15,25 20,24 25,25 30,25 35,24 40,24 45,19 50,16 55,10 60,13 65,8 70,19 75,13 80,13 85,13 90,13 95,8 100,3 105,16 110,17 115,23 120,25 125,32 130,41 135,36 140,32 145,36 150,37 155,37\">\\n    </path>\\n   </svg>\\n  </td>\\n  <td>\\n   <img class=\"flag\" src=\"/img/flags/cn.png\"/>\\n   <span class=\"responsive-hidden\">\\n    China\\n   </span>\\n  </td>\\n </tr>\\n <tr>\\n  <td class=\"rank-td td-right\" data-sort=\"6\">\\n   6\\n  </td>\\n  <td class=\"name-td\">\\n   <div class=\"logo-container\">\\n    <img alt=\"Wells Fargo logo\" class=\"company-logo\" loading=\"lazy\" src=\"/img/company-logos/64/WFC.png\"/>\\n   </div>\\n   <div class=\"name-div\">\\n    <a href=\"/wells-fargo/marketcap/\">\\n     <div class=\"company-name\">\\n      Wells Fargo\\n     </div>\\n     <div class=\"company-code\">\\n      <span class=\"rank d-none\">\\n      </span>\\n      WFC\\n     </div>\\n    </a>\\n   </div>\\n  </td>\\n  <td class=\"td-right\" data-sort=\"182143827968\">\\n   $182.14 B\\n  </td>\\n  <td class=\"td-right\" data-sort=\"4751\">\\n   $47.51\\n  </td>\\n  <td class=\"rh-sm\" data-sort=\"-13\">\\n   <span class=\"percentage-red\">\\n    <svg class=\"a\" viewBox=\"0 0 12 12\">\\n     <path d=\"m2 4h8l-4 4z\">\\n     </path>\\n    </svg>\\n    0.13%\\n   </span>\\n  </td>\\n  <td class=\"p-0 sparkline-td green\">\\n   <svg>\\n    <path d=\"M0,41 5,41 10,38 15,34 20,35 25,33 30,35 35,35 40,33 45,33 50,25 55,25 60,26 65,30 70,32 75,27 80,21 85,24 90,19 95,16 100,15 105,14 110,11 115,8 120,9 125,7 130,6 135,4 140,3 145,7 150,7 155,7\">\\n    </path>\\n   </svg>\\n  </td>\\n  <td>\\n   <img class=\"flag\" src=\"/img/flags/us.png\"/>\\n   <span class=\"responsive-hidden\">\\n    USA\\n   </span>\\n  </td>\\n </tr>\\n <tr>\\n  <td class=\"rank-td td-right\" data-sort=\"7\">\\n   7\\n  </td>\\n  <td class=\"name-td\">\\n   <div class=\"logo-container\">\\n    <img alt=\"Morgan Stanley logo\" class=\"company-logo\" data-img-dark-path=\"/img/company-logos/64/MS.D.png\" data-img-path=\"/img/company-logos/64/MS.png\" loading=\"lazy\" src=\"/img/company-logos/64/MS.png\"/>\\n   </div>\\n   <div class=\"name-div\">\\n    <a href=\"/morgan-stanley/marketcap/\">\\n     <div class=\"company-name\">\\n      Morgan Stanley\\n     </div>\\n     <div class=\"company-code\">\\n      <span class=\"rank d-none\">\\n      </span>\\n      MS\\n     </div>\\n    </a>\\n   </div>\\n  </td>\\n  <td class=\"td-right\" data-sort=\"164887003136\">\\n   $164.88 B\\n  </td>\\n  <td class=\"td-right\" data-sort=\"9844\">\\n   $98.44\\n  </td>\\n  <td class=\"rh-sm\" data-sort=\"40\">\\n   <span class=\"percentage-green\">\\n    <svg class=\"a\" viewBox=\"0 0 12 12\">\\n     <path d=\"M10 8H2l4-4 4 4z\">\\n     </path>\\n    </svg>\\n    0.40%\\n   </span>\\n  </td>\\n  <td class=\"p-0 sparkline-td green\">\\n   <svg>\\n    <path d=\"M0,41 5,41 10,39 15,37 20,39 25,34 30,34 35,31 40,29 45,26 50,23 55,23 60,9 65,11 70,17 75,11 80,9 85,13 90,13 95,11 100,10 105,12 110,9 115,6 120,4 125,3 130,4 135,4 140,4 145,7 150,6 155,6\">\\n    </path>\\n   </svg>\\n  </td>\\n  <td>\\n   <img class=\"flag\" src=\"/img/flags/us.png\"/>\\n   <span class=\"responsive-hidden\">\\n    USA\\n   </span>\\n  </td>\\n </tr>\\n <tr>\\n  <td class=\"rank-td td-right\" data-sort=\"8\">\\n   8\\n  </td>\\n  <td class=\"name-td\">\\n   <div class=\"logo-container\">\\n    <img alt=\"China Construction Bank logo\" class=\"company-logo\" data-img-dark-path=\"/img/company-logos/64/601939.SS.D.png\" data-img-path=\"/img/company-logos/64/601939.SS.png\" loading=\"lazy\" src=\"/img/company-logos/64/601939.SS.png\"/>\\n   </div>\\n   <div class=\"name-div\">\\n    <a href=\"/china-construction-bank/marketcap/\">\\n     <div class=\"company-name\">\\n      China Construction Bank\\n     </div>\\n     <div class=\"company-code\">\\n      <span class=\"rank d-none\">\\n      </span>\\n      601939.SS\\n     </div>\\n    </a>\\n   </div>\\n  </td>\\n  <td class=\"td-right\" data-sort=\"162401562802\">\\n   $162.40 B\\n  </td>\\n  <td class=\"td-right\" data-sort=\"84\">\\n   $0.84\\n  </td>\\n  <td class=\"rh-sm\" data-sort=\"0\">\\n   <span class=\"percentage-green\">\\n    <svg class=\"a\" viewBox=\"0 0 12 12\">\\n     <path d=\"M10 8H2l4-4 4 4z\">\\n     </path>\\n    </svg>\\n    0.00%\\n   </span>\\n  </td>\\n  <td class=\"p-0 sparkline-td red\">\\n   <svg>\\n    <path d=\"M0,24 5,24 10,24 15,3 20,3 25,7 30,24 35,37 40,20 45,33 50,20 55,28 60,37 65,33 70,28 75,24 80,24 85,24 90,24 95,24 100,24 105,24 110,33 115,28 120,33 125,37 130,41 135,41 140,41 145,33 150,33 155,33\">\\n    </path>\\n   </svg>\\n  </td>\\n  <td>\\n   <img class=\"flag\" src=\"/img/flags/cn.png\"/>\\n   <span class=\"responsive-hidden\">\\n    China\\n   </span>\\n  </td>\\n </tr>\\n <tr>\\n  <td class=\"rank-td td-right\" data-sort=\"9\">\\n   9\\n  </td>\\n  <td class=\"name-td\">\\n   <div class=\"logo-container\">\\n    <img alt=\"Agricultural Bank of China logo\" class=\"company-logo\" loading=\"lazy\" src=\"/img/company-logos/64/601288.SS.png\"/>\\n   </div>\\n   <div class=\"name-div\">\\n    <a href=\"/agricultural-bank-of-china/marketcap/\">\\n     <div class=\"company-name\">\\n      Agricultural Bank of China\\n     </div>\\n     <div class=\"company-code\">\\n      <span class=\"rank d-none\">\\n      </span>\\n      601288.SS\\n     </div>\\n    </a>\\n   </div>\\n  </td>\\n  <td class=\"td-right\" data-sort=\"150617435905\">\\n   $150.61 B\\n  </td>\\n  <td class=\"td-right\" data-sort=\"44\">\\n   $0.44\\n  </td>\\n  <td class=\"rh-sm\" data-sort=\"0\">\\n   <span class=\"percentage-green\">\\n    <svg class=\"a\" viewBox=\"0 0 12 12\">\\n     <path d=\"M10 8H2l4-4 4 4z\">\\n     </path>\\n    </svg>\\n    0.00%\\n   </span>\\n  </td>\\n  <td class=\"p-0 sparkline-td green\">\\n   <svg>\\n    <path d=\"M0,31 5,31 10,41 15,12 20,12 25,22 30,22 35,31 40,31 45,22 50,3 55,31 60,31 65,22 70,22 75,22 80,22 85,22 90,22 95,22 100,22 105,22 110,31 115,22 120,22 125,31 130,22 135,22 140,22 145,12 150,12 155,12\">\\n    </path>\\n   </svg>\\n  </td>\\n  <td>\\n   <img class=\"flag\" src=\"/img/flags/cn.png\"/>\\n   <span class=\"responsive-hidden\">\\n    China\\n   </span>\\n  </td>\\n </tr>\\n <tr>\\n  <td class=\"rank-td td-right\" data-sort=\"10\">\\n   10\\n  </td>\\n  <td class=\"name-td\">\\n   <div class=\"logo-container\">\\n    <img alt=\"Charles Schwab logo\" class=\"company-logo\" loading=\"lazy\" src=\"/img/company-logos/64/SCHW.png\"/>\\n   </div>\\n   <div class=\"name-div\">\\n    <a href=\"/charles-schwab/marketcap/\">\\n     <div class=\"company-name\">\\n      Charles Schwab\\n     </div>\\n     <div class=\"company-code\">\\n      <span class=\"rank d-none\">\\n      </span>\\n      SCHW\\n     </div>\\n    </a>\\n   </div>\\n  </td>\\n  <td class=\"td-right\" data-sort=\"150197895168\">\\n   $150.19 B\\n  </td>\\n  <td class=\"td-right\" data-sort=\"8046\">\\n   $80.46\\n  </td>\\n  <td class=\"rh-sm\" data-sort=\"111\">\\n   <span class=\"percentage-green\">\\n    <svg class=\"a\" viewBox=\"0 0 12 12\">\\n     <path d=\"M10 8H2l4-4 4 4z\">\\n     </path>\\n    </svg>\\n    1.11%\\n   </span>\\n  </td>\\n  <td class=\"p-0 sparkline-td red\">\\n   <svg>\\n    <path d=\"M0,11 5,11 10,16 15,11 20,12 25,7 30,4 35,3 40,11 45,10 50,12 55,12 60,10 65,18 70,35 75,33 80,30 85,25 90,25 95,29 100,41 105,38 110,32 115,29 120,34 125,26 130,23 135,18 140,20 145,24 150,21 155,21\">\\n    </path>\\n   </svg>\\n  </td>\\n  <td>\\n   <img class=\"flag\" src=\"/img/flags/us.png\"/>\\n   <span class=\"responsive-hidden\">\\n    USA\\n   </span>\\n  </td>\\n </tr>\\n <tr>\\n  <td class=\"rank-td td-right\" data-sort=\"11\">\\n   11\\n  </td>\\n  <td class=\"name-td\">\\n   <div class=\"logo-container\">\\n    <img alt=\"CM Bank logo\" class=\"company-logo\" loading=\"lazy\" src=\"/img/company-logos/64/3968.HK.png\"/>\\n   </div>\\n   <div class=\"name-div\">\\n    <a href=\"/cm-bank/marketcap/\">\\n     <div class=\"company-name\">\\n      CM Bank\\n     </div>\\n     <div class=\"company-code\">\\n      <span class=\"rank d-none\">\\n      </span>\\n      3968.HK\\n     </div>\\n    </a>\\n   </div>\\n  </td>\\n  <td class=\"td-right\" data-sort=\"143934277139\">\\n   $143.93 B\\n  </td>\\n  <td class=\"td-right\" data-sort=\"594\">\\n   $5.94\\n  </td>\\n  <td class=\"rh-sm\" data-sort=\"-117\">\\n   <span class=\"percentage-red\">\\n    <svg class=\"a\" viewBox=\"0 0 12 12\">\\n     <path d=\"m2 4h8l-4 4z\">\\n     </path>\\n    </svg>\\n    1.17%\\n   </span>\\n  </td>\\n  <td class=\"p-0 sparkline-td green\">\\n   <svg>\\n    <path d=\"M0,41 5,41 10,38 15,31 20,33 25,32 30,28 35,30 40,29 45,27 50,24 55,20 60,17 65,20 70,16 75,12 80,12 85,12 90,12 95,3 100,4 105,8 110,12 115,12 120,15 125,23 130,30 135,30 140,28 145,28 150,30 155,30\">\\n    </path>\\n   </svg>\\n  </td>\\n  <td>\\n   <img class=\"flag\" src=\"/img/flags/cn.png\"/>\\n   <span class=\"responsive-hidden\">\\n    China\\n   </span>\\n  </td>\\n </tr>\\n <tr>\\n  <td class=\"rank-td td-right\" data-sort=\"12\">\\n   12\\n  </td>\\n  <td class=\"name-td\">\\n   <div class=\"logo-container\">\\n    <img alt=\"Royal Bank Of Canada logo\" class=\"company-logo\" loading=\"lazy\" src=\"/img/company-logos/64/RY.png\"/>\\n   </div>\\n   <div class=\"name-div\">\\n    <a href=\"/royal-bank-of-canada/marketcap/\">\\n     <div class=\"company-name\">\\n      Royal Bank Of Canada\\n     </div>\\n     <div class=\"company-code\">\\n      <span class=\"rank d-none\">\\n      </span>\\n      RY\\n     </div>\\n    </a>\\n   </div>\\n  </td>\\n  <td class=\"td-right\" data-sort=\"143721676800\">\\n   $143.72 B\\n  </td>\\n  <td class=\"td-right\" data-sort=\"10393\">\\n   $103.93\\n  </td>\\n  <td class=\"rh-sm\" data-sort=\"54\">\\n   <span class=\"percentage-green\">\\n    <svg class=\"a\" viewBox=\"0 0 12 12\">\\n     <path d=\"M10 8H2l4-4 4 4z\">\\n     </path>\\n    </svg>\\n    0.54%\\n   </span>\\n  </td>\\n  <td class=\"p-0 sparkline-td green\">\\n   <svg>\\n    <path d=\"M0,40 5,40 10,41 15,33 20,37 25,29 30,24 35,21 40,21 45,18 50,17 55,17 60,14 65,19 70,18 75,15 80,15 85,14 90,19 95,11 100,13 105,14 110,9 115,7 120,8 125,6 130,7 135,5 140,4 145,5 150,3 155,3\">\\n    </path>\\n   </svg>\\n  </td>\\n  <td>\\n   <img class=\"flag\" src=\"/img/flags/ca.png\"/>\\n   <span class=\"responsive-hidden\">\\n    Canada\\n   </span>\\n  </td>\\n </tr>\\n <tr>\\n  <td class=\"rank-td td-right\" data-sort=\"13\">\\n   13\\n  </td>\\n  <td class=\"name-td\">\\n   <div class=\"logo-container\">\\n    <img alt=\"Bank of China logo\" class=\"company-logo\" data-img-dark-path=\"/img/company-logos/64/601988.SS.D.png\" data-img-path=\"/img/company-logos/64/601988.SS.png\" loading=\"lazy\" src=\"/img/company-logos/64/601988.SS.png\"/>\\n   </div>\\n   <div class=\"name-div\">\\n    <a href=\"/bank-of-china/marketcap/\">\\n     <div class=\"company-name\">\\n      Bank of China\\n     </div>\\n     <div class=\"company-code\">\\n      <span class=\"rank d-none\">\\n      </span>\\n      601988.SS\\n     </div>\\n    </a>\\n   </div>\\n  </td>\\n  <td class=\"td-right\" data-sort=\"133406403959\">\\n   $133.40 B\\n  </td>\\n  <td class=\"td-right\" data-sort=\"48\">\\n   $0.48\\n  </td>\\n  <td class=\"rh-sm\" data-sort=\"62\">\\n   <span class=\"percentage-green\">\\n    <svg class=\"a\" viewBox=\"0 0 12 12\">\\n     <path d=\"M10 8H2l4-4 4 4z\">\\n     </path>\\n    </svg>\\n    0.62%\\n   </span>\\n  </td>\\n  <td class=\"p-0 sparkline-td green\">\\n   <svg>\\n    <path d=\"M0,41 5,41 10,41 15,19 20,19 25,14 30,25 35,30 40,25 45,25 50,3 55,14 60,8 65,14 70,8 75,8 80,8 85,8 90,8 95,8 100,8 105,3 110,8 115,8 120,14 125,14 130,19 135,25 140,19 145,14 150,3 155,3\">\\n    </path>\\n   </svg>\\n  </td>\\n  <td>\\n   <img class=\"flag\" src=\"/img/flags/cn.png\"/>\\n   <span class=\"responsive-hidden\">\\n    China\\n   </span>\\n  </td>\\n </tr>\\n <tr>\\n  <td class=\"rank-td td-right\" data-sort=\"14\">\\n   14\\n  </td>\\n  <td class=\"name-td\">\\n   <div class=\"logo-container\">\\n    <img alt=\"American Express logo\" class=\"company-logo\" loading=\"lazy\" src=\"/img/company-logos/64/AXP.png\"/>\\n   </div>\\n   <div class=\"name-div\">\\n    <a href=\"/american-express/marketcap/\">\\n     <div class=\"company-name\">\\n      American Express\\n     </div>\\n     <div class=\"company-code\">\\n      <span class=\"rank d-none\">\\n      </span>\\n      AXP\\n     </div>\\n    </a>\\n   </div>\\n  </td>\\n  <td class=\"td-right\" data-sort=\"133182750720\">\\n   $133.18 B\\n  </td>\\n  <td class=\"td-right\" data-sort=\"17925\">\\n   $179.25\\n  </td>\\n  <td class=\"rh-sm\" data-sort=\"-7\">\\n   <span class=\"percentage-red\">\\n    <svg class=\"a\" viewBox=\"0 0 12 12\">\\n     <path d=\"m2 4h8l-4 4z\">\\n     </path>\\n    </svg>\\n    0.07%\\n   </span>\\n  </td>\\n  <td class=\"p-0 sparkline-td green\">\\n   <svg>\\n    <path d=\"M0,39 5,39 10,40 15,36 20,41 25,37 30,36 35,35 40,32 45,31 50,30 55,30 60,33 65,36 70,41 75,35 80,32 85,31 90,29 95,30 100,11 105,11 110,8 115,10 120,10 125,4 130,6 135,4 140,3 145,3 150,3 155,3\">\\n    </path>\\n   </svg>\\n  </td>\\n  <td>\\n   <img class=\"flag\" src=\"/img/flags/us.png\"/>\\n   <span class=\"responsive-hidden\">\\n    USA\\n   </span>\\n  </td>\\n </tr>\\n <tr>\\n  <td class=\"rank-td td-right\" data-sort=\"15\">\\n   15\\n  </td>\\n  <td class=\"name-td\">\\n   <div class=\"logo-container\">\\n    <img alt=\"Commonwealth Bank logo\" class=\"company-logo\" loading=\"lazy\" src=\"/img/company-logos/64/CBA.AX.png\"/>\\n   </div>\\n   <div class=\"name-div\">\\n    <a href=\"/commonwealth-bank/marketcap/\">\\n     <div class=\"company-name\">\\n      Commonwealth Bank\\n     </div>\\n     <div class=\"company-code\">\\n      <span class=\"rank d-none\">\\n      </span>\\n      CBA.AX\\n     </div>\\n    </a>\\n   </div>\\n  </td>\\n  <td class=\"td-right\" data-sort=\"128715723322\">\\n   $128.71 B\\n  </td>\\n  <td class=\"td-right\" data-sort=\"7623\">\\n   $76.23\\n  </td>\\n  <td class=\"rh-sm\" data-sort=\"-49\">\\n   <span class=\"percentage-red\">\\n    <svg class=\"a\" viewBox=\"0 0 12 12\">\\n     <path d=\"m2 4h8l-4 4z\">\\n     </path>\\n    </svg>\\n    0.49%\\n   </span>\\n  </td>\\n  <td class=\"p-0 sparkline-td green\">\\n   <svg>\\n    <path d=\"M0,38 5,39 10,41 15,31 20,36 25,35 30,33 35,35 40,30 45,22 50,22 55,18 60,18 65,18 70,13 75,13 80,15 85,14 90,12 95,10 100,8 105,7 110,5 115,7 120,7 125,3 130,6 135,7 140,8 145,9 150,8 155,10\">\\n    </path>\\n   </svg>\\n  </td>\\n  <td>\\n   <img class=\"flag\" src=\"/img/flags/au.png\"/>\\n   <span class=\"responsive-hidden\">\\n    Australia\\n   </span>\\n  </td>\\n </tr>\\n <tr>\\n  <td class=\"rank-td td-right\" data-sort=\"16\">\\n   16\\n  </td>\\n  <td class=\"name-td\">\\n   <div class=\"logo-container\">\\n    <img alt=\"Toronto Dominion Bank logo\" class=\"company-logo\" loading=\"lazy\" src=\"/img/company-logos/64/TD.png\"/>\\n   </div>\\n   <div class=\"name-div\">\\n    <a href=\"/toronto-dominion-bank/marketcap/\">\\n     <div class=\"company-name\">\\n      Toronto Dominion Bank\\n     </div>\\n     <div class=\"company-code\">\\n      <span class=\"rank d-none\">\\n      </span>\\n      TD\\n     </div>\\n    </a>\\n   </div>\\n  </td>\\n  <td class=\"td-right\" data-sort=\"126882496512\">\\n   $126.88 B\\n  </td>\\n  <td class=\"td-right\" data-sort=\"6969\">\\n   $69.69\\n  </td>\\n  <td class=\"rh-sm\" data-sort=\"126\">\\n   <span class=\"percentage-green\">\\n    <svg class=\"a\" viewBox=\"0 0 12 12\">\\n     <path d=\"M10 8H2l4-4 4 4z\">\\n     </path>\\n    </svg>\\n    1.26%\\n   </span>\\n  </td>\\n  <td class=\"p-0 sparkline-td green\">\\n   <svg>\\n    <path d=\"M0,34 5,34 10,38 15,27 20,41 25,37 30,37 35,38 40,36 45,26 50,24 55,24 60,19 65,26 70,28 75,22 80,20 85,19 90,18 95,13 100,9 105,15 110,6 115,8 120,7 125,8 130,12 135,6 140,7 145,8 150,3 155,3\">\\n    </path>\\n   </svg>\\n  </td>\\n  <td>\\n   <img class=\"flag\" src=\"/img/flags/ca.png\"/>\\n   <span class=\"responsive-hidden\">\\n    Canada\\n   </span>\\n  </td>\\n </tr>\\n <tr>\\n  <td class=\"rank-td td-right\" data-sort=\"17\">\\n   17\\n  </td>\\n  <td class=\"name-td\">\\n   <div class=\"logo-container\">\\n    <img alt=\"HDFC Bank logo\" class=\"company-logo\" loading=\"lazy\" src=\"/img/company-logos/64/HDB.png\"/>\\n   </div>\\n   <div class=\"name-div\">\\n    <a href=\"/hdfc-bank/marketcap/\">\\n     <div class=\"company-name\">\\n      HDFC Bank\\n     </div>\\n     <div class=\"company-code\">\\n      <span class=\"rank d-none\">\\n      </span>\\n      HDB\\n     </div>\\n    </a>\\n   </div>\\n  </td>\\n  <td class=\"td-right\" data-sort=\"126375264256\">\\n   $126.37 B\\n  </td>\\n  <td class=\"td-right\" data-sort=\"6797\">\\n   $67.97\\n  </td>\\n  <td class=\"rh-sm\" data-sort=\"47\">\\n   <span class=\"percentage-green\">\\n    <svg class=\"a\" viewBox=\"0 0 12 12\">\\n     <path d=\"M10 8H2l4-4 4 4z\">\\n     </path>\\n    </svg>\\n    0.47%\\n   </span>\\n  </td>\\n  <td class=\"p-0 sparkline-td red\">\\n   <svg>\\n    <path d=\"M0,20 5,20 10,20 15,20 20,23 25,28 30,26 35,26 40,36 45,30 50,30 55,25 60,25 65,28 70,19 75,14 80,8 85,7 90,3 95,28 100,22 105,35 110,34 115,26 120,41 125,27 130,25 135,28 140,27 145,23 150,24 155,23\">\\n    </path>\\n   </svg>\\n  </td>\\n  <td>\\n   <img class=\"flag\" src=\"/img/flags/in.png\"/>\\n   <span class=\"responsive-hidden\">\\n    India\\n   </span>\\n  </td>\\n </tr>\\n <tr>\\n  <td class=\"rank-td td-right\" data-sort=\"18\">\\n   18\\n  </td>\\n  <td class=\"name-td\">\\n   <div class=\"logo-container\">\\n    <img alt=\"Goldman Sachs logo\" class=\"company-logo\" loading=\"lazy\" src=\"/img/company-logos/64/GS.png\"/>\\n   </div>\\n   <div class=\"name-div\">\\n    <a href=\"/goldman-sachs/marketcap/\">\\n     <div class=\"company-name\">\\n      Goldman Sachs\\n     </div>\\n     <div class=\"company-code\">\\n      <span class=\"rank d-none\">\\n      </span>\\n      GS\\n     </div>\\n    </a>\\n   </div>\\n  </td>\\n  <td class=\"td-right\" data-sort=\"124347613184\">\\n   $124.34 B\\n  </td>\\n  <td class=\"td-right\" data-sort=\"37128\">\\n   $371.28\\n  </td>\\n  <td class=\"rh-sm\" data-sort=\"89\">\\n   <span class=\"percentage-green\">\\n    <svg class=\"a\" viewBox=\"0 0 12 12\">\\n     <path d=\"M10 8H2l4-4 4 4z\">\\n     </path>\\n    </svg>\\n    0.89%\\n   </span>\\n  </td>\\n  <td class=\"p-0 sparkline-td green\">\\n   <svg>\\n    <path d=\"M0,39 5,39 10,39 15,36 20,34 25,39 30,34 35,28 40,23 45,15 50,9 55,4 60,4 65,32 70,33 75,31 80,41 85,33 90,34 95,32 100,26 105,27 110,23 115,14 120,14 125,9 130,9 135,8 140,4 145,3 150,11 155,7\">\\n    </path>\\n   </svg>\\n  </td>\\n  <td>\\n   <img class=\"flag\" src=\"/img/flags/us.png\"/>\\n   <span class=\"responsive-hidden\">\\n    USA\\n   </span>\\n  </td>\\n </tr>\\n <tr>\\n  <td class=\"rank-td td-right\" data-sort=\"19\">\\n   19\\n  </td>\\n  <td class=\"name-td\">\\n   <div class=\"logo-container\">\\n    <img alt=\"S&amp;P Global logo\" class=\"company-logo\" data-img-dark-path=\"/img/company-logos/64/SPGI.D.png\" data-img-path=\"/img/company-logos/64/SPGI.png\" loading=\"lazy\" src=\"/img/company-logos/64/SPGI.png\"/>\\n   </div>\\n   <div class=\"name-div\">\\n    <a href=\"/sp-global/marketcap/\">\\n     <div class=\"company-name\">\\n      S&amp;P Global\\n     </div>\\n     <div class=\"company-code\">\\n      <span class=\"rank d-none\">\\n      </span>\\n      SPGI\\n     </div>\\n    </a>\\n   </div>\\n  </td>\\n  <td class=\"td-right\" data-sort=\"118545580032\">\\n   $118.54 B\\n  </td>\\n  <td class=\"td-right\" data-sort=\"36386\">\\n   $363.86\\n  </td>\\n  <td class=\"rh-sm\" data-sort=\"6\">\\n   <span class=\"percentage-green\">\\n    <svg class=\"a\" viewBox=\"0 0 12 12\">\\n     <path d=\"M10 8H2l4-4 4 4z\">\\n     </path>\\n    </svg>\\n    0.06%\\n   </span>\\n  </td>\\n  <td class=\"p-0 sparkline-td green\">\\n   <svg>\\n    <path d=\"M0,37 5,41 10,41 15,41 20,36 25,40 30,31 35,29 40,26 45,18 50,15 55,16 60,16 65,15 70,18 75,20 80,15 85,13 90,15 95,16 100,15 105,11 110,16 115,9 120,8 125,3 130,11 135,14 140,12 145,17 150,18 155,18\">\\n    </path>\\n   </svg>\\n  </td>\\n  <td>\\n   <img class=\"flag\" src=\"/img/flags/us.png\"/>\\n   <span class=\"responsive-hidden\">\\n    USA\\n   </span>\\n  </td>\\n </tr>\\n <tr>\\n  <td class=\"rank-td td-right\" data-sort=\"20\">\\n   20\\n  </td>\\n  <td class=\"name-td\">\\n   <div class=\"logo-container\">\\n    <img alt=\"Citigroup logo\" class=\"company-logo\" data-img-dark-path=\"/img/company-logos/64/C.D.png\" data-img-path=\"/img/company-logos/64/C.png\" loading=\"lazy\" src=\"/img/company-logos/64/C.png\"/>\\n   </div>\\n   <div class=\"name-div\">\\n    <a href=\"/citigroup/marketcap/\">\\n     <div class=\"company-name\">\\n      Citigroup\\n     </div>\\n     <div class=\"company-code\">\\n      <span class=\"rank d-none\">\\n      </span>\\n      C\\n     </div>\\n    </a>\\n   </div>\\n  </td>\\n  <td class=\"td-right\" data-sort=\"97055555584\">\\n   $97.05 B\\n  </td>\\n  <td class=\"td-right\" data-sort=\"5011\">\\n   $50.11\\n  </td>\\n  <td class=\"rh-sm\" data-sort=\"26\">\\n   <span class=\"percentage-green\">\\n    <svg class=\"a\" viewBox=\"0 0 12 12\">\\n     <path d=\"M10 8H2l4-4 4 4z\">\\n     </path>\\n    </svg>\\n    0.26%\\n   </span>\\n  </td>\\n  <td class=\"p-0 sparkline-td green\">\\n   <svg>\\n    <path d=\"M0,41 5,41 10,41 15,38 20,31 25,32 30,29 35,28 40,25 45,22 50,20 55,15 60,15 65,13 70,18 75,18 80,9 85,4 90,7 95,5 100,3 105,5 110,6 115,3 120,3 125,3 130,10 135,10 140,9 145,9 150,15 155,14\">\\n    </path>\\n   </svg>\\n  </td>\\n  <td>\\n   <img class=\"flag\" src=\"/img/flags/us.png\"/>\\n   <span class=\"responsive-hidden\">\\n    USA\\n   </span>\\n  </td>\\n </tr>\\n <tr>\\n  <td class=\"rank-td td-right\" data-sort=\"21\">\\n   21\\n  </td>\\n  <td class=\"name-td\">\\n   <div class=\"logo-container\">\\n    <img alt=\"PayPal logo\" class=\"company-logo\" data-img-dark-path=\"/img/company-logos/64/PYPL.D.png\" data-img-path=\"/img/company-logos/64/PYPL.png\" loading=\"lazy\" src=\"/img/company-logos/64/PYPL.png\"/>\\n   </div>\\n   <div class=\"name-div\">\\n    <a href=\"/paypal/marketcap/\">\\n     <div class=\"company-name\">\\n      PayPal\\n     </div>\\n     <div class=\"company-code\">\\n      <span class=\"rank d-none\">\\n      </span>\\n      PYPL\\n     </div>\\n    </a>\\n   </div>\\n  </td>\\n  <td class=\"td-right\" data-sort=\"92114419712\">\\n   $92.11 B\\n  </td>\\n  <td class=\"td-right\" data-sort=\"8080\">\\n   $80.80\\n  </td>\\n  <td class=\"rh-sm\" data-sort=\"303\">\\n   <span class=\"percentage-green\">\\n    <svg class=\"a\" viewBox=\"0 0 12 12\">\\n     <path d=\"M10 8H2l4-4 4 4z\">\\n     </path>\\n    </svg>\\n    3.03%\\n   </span>\\n  </td>\\n  <td class=\"p-0 sparkline-td green\">\\n   <svg>\\n    <path d=\"M0,41 5,39 10,39 15,32 20,24 25,28 30,27 35,26 40,24 45,23 50,20 55,20 60,20 65,19 70,25 75,27 80,21 85,20 90,20 95,21 100,17 105,15 110,20 115,16 120,12 125,3 130,6 135,14 140,12 145,20 150,23 155,17\">\\n    </path>\\n   </svg>\\n  </td>\\n  <td>\\n   <img class=\"flag\" src=\"/img/flags/us.png\"/>\\n   <span class=\"responsive-hidden\">\\n    USA\\n   </span>\\n  </td>\\n </tr>\\n <tr>\\n  <td class=\"rank-td td-right\" data-sort=\"22\">\\n   22\\n  </td>\\n  <td class=\"name-td\">\\n   <div class=\"logo-container\">\\n    <img alt=\"Mitsubishi UFJ Financial logo\" class=\"company-logo\" loading=\"lazy\" src=\"/img/company-logos/64/MUFG.png\"/>\\n   </div>\\n   <div class=\"name-div\">\\n    <a href=\"/mitsubishi-ufj-financial/marketcap/\">\\n     <div class=\"company-name\">\\n      Mitsubishi UFJ Financial\\n     </div>\\n     <div class=\"company-code\">\\n      <span class=\"rank d-none\">\\n      </span>\\n      MUFG\\n     </div>\\n    </a>\\n   </div>\\n  </td>\\n  <td class=\"td-right\" data-sort=\"88875655168\">\\n   $88.87 B\\n  </td>\\n  <td class=\"td-right\" data-sort=\"734\">\\n   $7.34\\n  </td>\\n  <td class=\"rh-sm\" data-sort=\"138\">\\n   <span class=\"percentage-green\">\\n    <svg class=\"a\" viewBox=\"0 0 12 12\">\\n     <path d=\"M10 8H2l4-4 4 4z\">\\n     </path>\\n    </svg>\\n    1.38%\\n   </span>\\n  </td>\\n  <td class=\"p-0 sparkline-td green\">\\n   <svg>\\n    <path d=\"M0,41 5,38 10,38 15,33 20,21 25,31 30,29 35,31 40,35 45,32 50,14 55,3 60,3 65,11 70,15 75,18 80,16 85,18 90,14 95,10 100,12 105,8 110,8 115,14 120,13 125,19 130,20 135,29 140,20 145,20 150,19 155,15\">\\n    </path>\\n   </svg>\\n  </td>\\n  <td>\\n   <img class=\"flag\" src=\"/img/flags/jp.png\"/>\\n   <span class=\"responsive-hidden\">\\n    Japan\\n   </span>\\n  </td>\\n </tr>\\n <tr>\\n  <td class=\"rank-td td-right\" data-sort=\"23\">\\n   23\\n  </td>\\n  <td class=\"name-td\">\\n   <div class=\"logo-container\">\\n    <img alt=\"BNP Paribas logo\" class=\"company-logo\" loading=\"lazy\" src=\"/img/company-logos/64/BNP.PA.png\"/>\\n   </div>\\n   <div class=\"name-div\">\\n    <a href=\"/bnp-paribas/marketcap/\">\\n     <div class=\"company-name\">\\n      BNP Paribas\\n     </div>\\n     <div class=\"company-code\">\\n      <span class=\"rank d-none\">\\n      </span>\\n      BNP.PA\\n     </div>\\n    </a>\\n   </div>\\n  </td>\\n  <td class=\"td-right\" data-sort=\"85193428148\">\\n   $85.19 B\\n  </td>\\n  <td class=\"td-right\" data-sort=\"6906\">\\n   $69.06\\n  </td>\\n  <td class=\"rh-sm\" data-sort=\"-127\">\\n   <span class=\"percentage-red\">\\n    <svg class=\"a\" viewBox=\"0 0 12 12\">\\n     <path d=\"m2 4h8l-4 4z\">\\n     </path>\\n    </svg>\\n    1.27%\\n   </span>\\n  </td>\\n  <td class=\"p-0 sparkline-td green\">\\n   <svg>\\n    <path d=\"M0,39 5,41 10,35 15,32 20,24 25,23 30,21 35,21 40,24 45,23 50,19 55,18 60,20 65,20 70,19 75,22 80,19 85,17 90,15 95,15 100,12 105,11 110,11 115,8 120,7 125,13 130,12 135,15 140,10 145,5 150,3 155,6\">\\n    </path>\\n   </svg>\\n  </td>\\n  <td>\\n   <img class=\"flag\" src=\"/img/flags/fr.png\"/>\\n   <span class=\"responsive-hidden\">\\n    France\\n   </span>\\n  </td>\\n </tr>\\n <tr>\\n  <td class=\"rank-td td-right\" data-sort=\"24\">\\n   24\\n  </td>\\n  <td class=\"name-td\">\\n   <div class=\"logo-container\">\\n    <img alt=\"Al Rajhi Bank logo\" class=\"company-logo\" loading=\"lazy\" src=\"/img/company-logos/64/1120.SR.png\"/>\\n   </div>\\n   <div class=\"name-div\">\\n    <a href=\"/al-rajhi-bank/marketcap/\">\\n     <div class=\"company-name\">\\n      Al Rajhi Bank\\n     </div>\\n     <div class=\"company-code\">\\n      <span class=\"rank d-none\">\\n      </span>\\n      1120.SR\\n     </div>\\n    </a>\\n   </div>\\n  </td>\\n  <td class=\"td-right\" data-sort=\"82372066933\">\\n   $82.37 B\\n  </td>\\n  <td class=\"td-right\" data-sort=\"2059\">\\n   $20.59\\n  </td>\\n  <td class=\"rh-sm\" data-sort=\"-178\">\\n   <span class=\"percentage-red\">\\n    <svg class=\"a\" viewBox=\"0 0 12 12\">\\n     <path d=\"m2 4h8l-4 4z\">\\n     </path>\\n    </svg>\\n    1.78%\\n   </span>\\n  </td>\\n  <td class=\"p-0 sparkline-td green\">\\n   <svg>\\n    <path d=\"M0,40 5,40 10,41 15,35 20,39 25,40 30,27 35,27 40,27 45,28 50,27 55,30 60,29 65,29 70,29 75,22 80,18 85,17 90,10 95,10 100,3 105,5 110,4 115,9 120,13 125,13 130,21 135,18 140,26 145,23 150,31 155,31\">\\n    </path>\\n   </svg>\\n  </td>\\n  <td>\\n   <img class=\"flag\" src=\"/img/flags/sa.png\"/>\\n   <span class=\"responsive-hidden\">\\n    S. Arabia\\n   </span>\\n  </td>\\n </tr>\\n <tr>\\n  <td class=\"rank-td td-right\" data-sort=\"25\">\\n   25\\n  </td>\\n  <td class=\"name-td\">\\n   <div class=\"logo-container\">\\n    <img alt=\"U.S. Bancorp logo\" class=\"company-logo\" loading=\"lazy\" src=\"/img/company-logos/64/USB.png\"/>\\n   </div>\\n   <div class=\"name-div\">\\n    <a href=\"/us-bancorp/marketcap/\">\\n     <div class=\"company-name\">\\n      U.S. Bancorp\\n     </div>\\n     <div class=\"company-code\">\\n      <span class=\"rank d-none\">\\n      </span>\\n      USB\\n     </div>\\n    </a>\\n   </div>\\n  </td>\\n  <td class=\"td-right\" data-sort=\"74559700992\">\\n   $74.55 B\\n  </td>\\n  <td class=\"td-right\" data-sort=\"4870\">\\n   $48.70\\n  </td>\\n  <td class=\"rh-sm\" data-sort=\"-14\">\\n   <span class=\"percentage-red\">\\n    <svg class=\"a\" viewBox=\"0 0 12 12\">\\n     <path d=\"m2 4h8l-4 4z\">\\n     </path>\\n    </svg>\\n    0.14%\\n   </span>\\n  </td>\\n  <td class=\"p-0 sparkline-td green\">\\n   <svg>\\n    <path d=\"M0,41 5,41 10,41 15,34 20,26 25,28 30,24 35,22 40,22 45,19 50,16 55,18 60,18 65,17 70,27 75,28 80,23 85,16 90,22 95,7 100,10 105,9 110,9 115,3 120,7 125,7 130,6 135,8 140,4 145,7 150,9 155,10\">\\n    </path>\\n   </svg>\\n  </td>\\n  <td>\\n   <img class=\"flag\" src=\"/img/flags/us.png\"/>\\n   <span class=\"responsive-hidden\">\\n    USA\\n   </span>\\n  </td>\\n </tr>\\n <tr>\\n  <td class=\"rank-td td-right\" data-sort=\"26\">\\n   26\\n  </td>\\n  <td class=\"name-td\">\\n   <div class=\"logo-container\">\\n    <img alt=\"Fiserv logo\" class=\"company-logo\" loading=\"lazy\" src=\"/img/company-logos/64/FISV.png\"/>\\n   </div>\\n   <div class=\"name-div\">\\n    <a href=\"/fiserv/marketcap/\">\\n     <div class=\"company-name\">\\n      Fiserv\\n     </div>\\n     <div class=\"company-code\">\\n      <span class=\"rank d-none\">\\n      </span>\\n      FISV\\n     </div>\\n    </a>\\n   </div>\\n  </td>\\n  <td class=\"td-right\" data-sort=\"73434636288\">\\n   $73.43 B\\n  </td>\\n  <td class=\"td-right\" data-sort=\"11564\">\\n   $115.64\\n  </td>\\n  <td class=\"rh-sm\" data-sort=\"-74\">\\n   <span class=\"percentage-red\">\\n    <svg class=\"a\" viewBox=\"0 0 12 12\">\\n     <path d=\"m2 4h8l-4 4z\">\\n     </path>\\n    </svg>\\n    0.74%\\n   </span>\\n  </td>\\n  <td class=\"p-0 sparkline-td green\">\\n   <svg>\\n    <path d=\"M0,36 5,37 10,37 15,37 20,35 25,41 30,35 35,35 40,37 45,36 50,34 55,34 60,34 65,31 70,32 75,35 80,31 85,27 90,31 95,30 100,26 105,25 110,27 115,25 120,22 125,23 130,25 135,25 140,6 145,4 150,3 155,5\">\\n    </path>\\n   </svg>\\n  </td>\\n  <td>\\n   <img class=\"flag\" src=\"/img/flags/us.png\"/>\\n   <span class=\"responsive-hidden\">\\n    USA\\n   </span>\\n  </td>\\n </tr>\\n <tr>\\n  <td class=\"rank-td td-right\" data-sort=\"27\">\\n   27\\n  </td>\\n  <td class=\"name-td\">\\n   <div class=\"logo-container\">\\n    <img alt=\"Bank Central Asia\\n logo\" class=\"company-logo\" data-img-dark-path=\"/img/company-logos/64/BBCA.JK.D.png\" data-img-path=\"/img/company-logos/64/BBCA.JK.png\" loading=\"lazy\" src=\"/img/company-logos/64/BBCA.JK.png\"/>\\n   </div>\\n   <div class=\"name-div\">\\n    <a href=\"/bank-central-asia/marketcap/\">\\n     <div class=\"company-name\">\\n      Bank Central Asia\\n     </div>\\n     <div class=\"company-code\">\\n      <span class=\"rank d-none\">\\n      </span>\\n      BBCA.JK\\n     </div>\\n    </a>\\n   </div>\\n  </td>\\n  <td class=\"td-right\" data-sort=\"71860879940\">\\n   $71.86 B\\n  </td>\\n  <td class=\"td-right\" data-sort=\"58\">\\n   $0.58\\n  </td>\\n  <td class=\"rh-sm\" data-sort=\"-84\">\\n   <span class=\"percentage-red\">\\n    <svg class=\"a\" viewBox=\"0 0 12 12\">\\n     <path d=\"m2 4h8l-4 4z\">\\n     </path>\\n    </svg>\\n    0.84%\\n   </span>\\n  </td>\\n  <td class=\"p-0 sparkline-td green\">\\n   <svg>\\n    <path d=\"M0,18 5,19 10,19 15,19 20,28 25,32 30,30 35,23 40,35 45,38 50,35 55,41 60,37 65,29 70,30 75,29 80,30 85,30 90,33 95,34 100,22 105,12 110,12 115,22 120,21 125,23 130,12 135,11 140,5 145,6 150,3 155,6\">\\n    </path>\\n   </svg>\\n  </td>\\n  <td>\\n   <img class=\"flag\" src=\"/img/flags/id.png\"/>\\n   <span class=\"responsive-hidden\">\\n    Indonesia\\n   </span>\\n  </td>\\n </tr>\\n <tr>\\n  <td class=\"rank-td td-right\" data-sort=\"28\">\\n   28\\n  </td>\\n  <td class=\"name-td\">\\n   <div class=\"logo-container\">\\n    <img alt=\"ICICI Bank logo\" class=\"company-logo\" loading=\"lazy\" src=\"/img/company-logos/64/IBN.png\"/>\\n   </div>\\n   <div class=\"name-div\">\\n    <a href=\"/icici-bank/marketcap/\">\\n     <div class=\"company-name\">\\n      ICICI Bank\\n     </div>\\n     <div class=\"company-code\">\\n      <span class=\"rank d-none\">\\n      </span>\\n      IBN\\n     </div>\\n    </a>\\n   </div>\\n  </td>\\n  <td class=\"td-right\" data-sort=\"71815143424\">\\n   $71.81 B\\n  </td>\\n  <td class=\"td-right\" data-sort=\"2058\">\\n   $20.58\\n  </td>\\n  <td class=\"rh-sm\" data-sort=\"-58\">\\n   <span class=\"percentage-red\">\\n    <svg class=\"a\" viewBox=\"0 0 12 12\">\\n     <path d=\"m2 4h8l-4 4z\">\\n     </path>\\n    </svg>\\n    0.58%\\n   </span>\\n  </td>\\n  <td class=\"p-0 sparkline-td red\">\\n   <svg>\\n    <path d=\"M0,3 5,7 10,7 15,6 20,6 25,20 30,19 35,17 40,19 45,15 50,17 55,11 60,11 65,22 70,20 75,17 80,14 85,9 90,12 95,30 100,27 105,41 110,39 115,27 120,41 125,25 130,28 135,31 140,29 145,27 150,30 155,32\">\\n    </path>\\n   </svg>\\n  </td>\\n  <td>\\n   <img class=\"flag\" src=\"/img/flags/in.png\"/>\\n   <span class=\"responsive-hidden\">\\n    India\\n   </span>\\n  </td>\\n </tr>\\n <tr>\\n  <td class=\"rank-td td-right\" data-sort=\"29\">\\n   29\\n  </td>\\n  <td class=\"name-td\">\\n   <div class=\"logo-container\">\\n    <img alt=\"Bank of Montreal\\n logo\" class=\"company-logo\" loading=\"lazy\" src=\"/img/company-logos/64/BMO.png\"/>\\n   </div>\\n   <div class=\"name-div\">\\n    <a href=\"/bank-of-montreal/marketcap/\">\\n     <div class=\"company-name\">\\n      Bank of Montreal\\n     </div>\\n     <div class=\"company-code\">\\n      <span class=\"rank d-none\">\\n      </span>\\n      BMO\\n     </div>\\n    </a>\\n   </div>\\n  </td>\\n  <td class=\"td-right\" data-sort=\"71430963200\">\\n   $71.43 B\\n  </td>\\n  <td class=\"td-right\" data-sort=\"10143\">\\n   $101.43\\n  </td>\\n  <td class=\"rh-sm\" data-sort=\"52\">\\n   <span class=\"percentage-green\">\\n    <svg class=\"a\" viewBox=\"0 0 12 12\">\\n     <path d=\"M10 8H2l4-4 4 4z\">\\n     </path>\\n    </svg>\\n    0.52%\\n   </span>\\n  </td>\\n  <td class=\"p-0 sparkline-td green\">\\n   <svg>\\n    <path d=\"M0,39 5,41 10,41 15,40 20,31 25,34 30,26 35,25 40,26 45,23 50,19 55,16 60,16 65,14 70,19 75,18 80,13 85,11 90,11 95,11 100,5 105,9 110,13 115,7 120,7 125,9 130,7 135,7 140,3 145,4 150,7 155,5\">\\n    </path>\\n   </svg>\\n  </td>\\n  <td>\\n   <img class=\"flag\" src=\"/img/flags/ca.png\"/>\\n   <span class=\"responsive-hidden\">\\n    Canada\\n   </span>\\n  </td>\\n </tr>\\n <tr>\\n  <td class=\"rank-td td-right\" data-sort=\"30\">\\n   30\\n  </td>\\n  <td class=\"name-td\">\\n   <div class=\"logo-container\">\\n    <img alt=\"DBS Group logo\" class=\"company-logo\" loading=\"lazy\" src=\"/img/company-logos/64/D05.SI.png\"/>\\n   </div>\\n   <div class=\"name-div\">\\n    <a href=\"/dbs/marketcap/\">\\n     <div class=\"company-name\">\\n      DBS Group\\n     </div>\\n     <div class=\"company-code\">\\n      <span class=\"rank d-none\">\\n      </span>\\n      D05.SI\\n     </div>\\n    </a>\\n   </div>\\n  </td>\\n  <td class=\"td-right\" data-sort=\"70117194208\">\\n   $70.11 B\\n  </td>\\n  <td class=\"td-right\" data-sort=\"2724\">\\n   $27.24\\n  </td>\\n  <td class=\"rh-sm\" data-sort=\"31\">\\n   <span class=\"percentage-green\">\\n    <svg class=\"a\" viewBox=\"0 0 12 12\">\\n     <path d=\"M10 8H2l4-4 4 4z\">\\n     </path>\\n    </svg>\\n    0.31%\\n   </span>\\n  </td>\\n  <td class=\"p-0 sparkline-td green\">\\n   <svg>\\n    <path d=\"M0,40 5,40 10,40 15,41 20,39 25,26 30,31 35,18 40,30 45,28 50,31 55,26 60,25 65,25 70,22 75,30 80,30 85,30 90,30 95,14 100,11 105,7 110,11 115,10 120,9 125,21 130,14 135,9 140,6 145,3 150,7 155,6\">\\n    </path>\\n   </svg>\\n  </td>\\n  <td>\\n   <img class=\"flag\" src=\"/img/flags/sg.png\"/>\\n   <span class=\"responsive-hidden\">\\n    Singapore\\n   </span>\\n  </td>\\n </tr>\\n <tr>\\n  <td class=\"rank-td td-right\" data-sort=\"31\">\\n   31\\n  </td>\\n  <td class=\"name-td\">\\n   <div class=\"logo-container\">\\n    <img alt=\"National Australia Bank logo\" class=\"company-logo\" loading=\"lazy\" src=\"/img/company-logos/64/NAB.AX.png\"/>\\n   </div>\\n   <div class=\"name-div\">\\n    <a href=\"/national-australia-bank/marketcap/\">\\n     <div class=\"company-name\">\\n      National Australia Bank\\n     </div>\\n     <div class=\"company-code\">\\n      <span class=\"rank d-none\">\\n      </span>\\n      NAB.AX\\n     </div>\\n    </a>\\n   </div>\\n  </td>\\n  <td class=\"td-right\" data-sort=\"69372969390\">\\n   $69.37 B\\n  </td>\\n  <td class=\"td-right\" data-sort=\"2207\">\\n   $22.07\\n  </td>\\n  <td class=\"rh-sm\" data-sort=\"-85\">\\n   <span class=\"percentage-red\">\\n    <svg class=\"a\" viewBox=\"0 0 12 12\">\\n     <path d=\"m2 4h8l-4 4z\">\\n     </path>\\n    </svg>\\n    0.85%\\n   </span>\\n  </td>\\n  <td class=\"p-0 sparkline-td green\">\\n   <svg>\\n    <path d=\"M0,35 5,33 10,36 15,41 20,31 25,35 30,38 35,32 40,34 45,29 50,17 55,14 60,9 65,8 70,9 75,8 80,9 85,12 90,13 95,11 100,7 105,6 110,5 115,3 120,5 125,7 130,4 135,5 140,4 145,3 150,9 155,8\">\\n    </path>\\n   </svg>\\n  </td>\\n  <td>\\n   <img class=\"flag\" src=\"/img/flags/au.png\"/>\\n   <span class=\"responsive-hidden\">\\n    Australia\\n   </span>\\n  </td>\\n </tr>\\n <tr>\\n  <td class=\"rank-td td-right\" data-sort=\"32\">\\n   32\\n  </td>\\n  <td class=\"name-td\">\\n   <div class=\"logo-container\">\\n    <img alt=\"UBS logo\" class=\"company-logo\" data-img-dark-path=\"/img/company-logos/64/UBS.D.png\" data-img-path=\"/img/company-logos/64/UBS.png\" loading=\"lazy\" src=\"/img/company-logos/64/UBS.png\"/>\\n   </div>\\n   <div class=\"name-div\">\\n    <a href=\"/ubs/marketcap/\">\\n     <div class=\"company-name\">\\n      UBS\\n     </div>\\n     <div class=\"company-code\">\\n      <span class=\"rank d-none\">\\n      </span>\\n      UBS\\n     </div>\\n    </a>\\n   </div>\\n  </td>\\n  <td class=\"td-right\" data-sort=\"67064811520\">\\n   $67.06 B\\n  </td>\\n  <td class=\"td-right\" data-sort=\"2158\">\\n   $21.58\\n  </td>\\n  <td class=\"rh-sm\" data-sort=\"-46\">\\n   <span class=\"percentage-red\">\\n    <svg class=\"a\" viewBox=\"0 0 12 12\">\\n     <path d=\"m2 4h8l-4 4z\">\\n     </path>\\n    </svg>\\n    0.46%\\n   </span>\\n  </td>\\n  <td class=\"p-0 sparkline-td green\">\\n   <svg>\\n    <path d=\"M0,39 5,41 10,41 15,37 20,28 25,30 30,26 35,24 40,21 45,19 50,16 55,15 60,15 65,9 70,8 75,12 80,10 85,9 90,9 95,7 100,3 105,6 110,8 115,6 120,3 125,3 130,3 135,7 140,3 145,4 150,3 155,5\">\\n    </path>\\n   </svg>\\n  </td>\\n  <td>\\n   <img class=\"flag\" src=\"/img/flags/ch.png\"/>\\n   <span class=\"responsive-hidden\">\\n    Switzerland\\n   </span>\\n  </td>\\n </tr>\\n <tr>\\n  <td class=\"rank-td td-right\" data-sort=\"33\">\\n   33\\n  </td>\\n  <td class=\"name-td\">\\n   <div class=\"logo-container\">\\n    <img alt=\"SoftBank logo\" class=\"company-logo\" loading=\"lazy\" src=\"/img/company-logos/64/9984.T.png\"/>\\n   </div>\\n   <div class=\"name-div\">\\n    <a href=\"/softbank/marketcap/\">\\n     <div class=\"company-name\">\\n      SoftBank\\n     </div>\\n     <div class=\"company-code\">\\n      <span class=\"rank d-none\">\\n      </span>\\n      9984.T\\n     </div>\\n    </a>\\n   </div>\\n  </td>\\n  <td class=\"td-right\" data-sort=\"66542739061\">\\n   $66.54 B\\n  </td>\\n  <td class=\"td-right\" data-sort=\"4551\">\\n   $45.51\\n  </td>\\n  <td class=\"rh-sm\" data-sort=\"-119\">\\n   <span class=\"percentage-red\">\\n    <svg class=\"a\" viewBox=\"0 0 12 12\">\\n     <path d=\"m2 4h8l-4 4z\">\\n     </path>\\n    </svg>\\n    1.19%\\n   </span>\\n  </td>\\n  <td class=\"p-0 sparkline-td green\">\\n   <svg>\\n    <path d=\"M0,41 5,40 10,40 15,40 20,40 25,34 30,30 35,30 40,23 45,22 50,19 55,25 60,29 65,23 70,15 75,27 80,27 85,22 90,11 95,11 100,10 105,11 110,12 115,13 120,7 125,4 130,3 135,3 140,6 145,23 150,23 155,27\">\\n    </path>\\n   </svg>\\n  </td>\\n  <td>\\n   <img class=\"flag\" src=\"/img/flags/jp.png\"/>\\n   <span class=\"responsive-hidden\">\\n    Japan\\n   </span>\\n  </td>\\n </tr>\\n <tr>\\n  <td class=\"rank-td td-right\" data-sort=\"34\">\\n   34\\n  </td>\\n  <td class=\"name-td\">\\n   <div class=\"logo-container\">\\n    <img alt=\"CME Group logo\" class=\"company-logo\" loading=\"lazy\" src=\"/img/company-logos/64/CME.png\"/>\\n   </div>\\n   <div class=\"name-div\">\\n    <a href=\"/cme-group/marketcap/\">\\n     <div class=\"company-name\">\\n      CME Group\\n     </div>\\n     <div class=\"company-code\">\\n      <span class=\"rank d-none\">\\n      </span>\\n      CME\\n     </div>\\n    </a>\\n   </div>\\n  </td>\\n  <td class=\"td-right\" data-sort=\"66225926144\">\\n   $66.22 B\\n  </td>\\n  <td class=\"td-right\" data-sort=\"18410\">\\n   $184.10\\n  </td>\\n  <td class=\"rh-sm\" data-sort=\"65\">\\n   <span class=\"percentage-green\">\\n    <svg class=\"a\" viewBox=\"0 0 12 12\">\\n     <path d=\"M10 8H2l4-4 4 4z\">\\n     </path>\\n    </svg>\\n    0.65%\\n   </span>\\n  </td>\\n  <td class=\"p-0 sparkline-td green\">\\n   <svg>\\n    <path d=\"M0,39 5,41 10,41 15,39 20,37 25,38 30,27 35,26 40,23 45,26 50,24 55,26 60,26 65,26 70,26 75,29 80,27 85,29 90,31 95,31 100,24 105,26 110,26 115,24 120,26 125,26 130,24 135,28 140,22 145,3 150,12 155,10\">\\n    </path>\\n   </svg>\\n  </td>\\n  <td>\\n   <img class=\"flag\" src=\"/img/flags/us.png\"/>\\n   <span class=\"responsive-hidden\">\\n    USA\\n   </span>\\n  </td>\\n </tr>\\n <tr>\\n  <td class=\"rank-td td-right\" data-sort=\"35\">\\n   35\\n  </td>\\n  <td class=\"name-td\">\\n   <div class=\"logo-container\">\\n    <img alt=\"Scotiabank logo\" class=\"company-logo\" loading=\"lazy\" src=\"/img/company-logos/64/BNS.png\"/>\\n   </div>\\n   <div class=\"name-div\">\\n    <a href=\"/scotiabank/marketcap/\">\\n     <div class=\"company-name\">\\n      Scotiabank\\n     </div>\\n     <div class=\"company-code\">\\n      <span class=\"rank d-none\">\\n      </span>\\n      BNS\\n     </div>\\n    </a>\\n   </div>\\n  </td>\\n  <td class=\"td-right\" data-sort=\"65739415552\">\\n   $65.73 B\\n  </td>\\n  <td class=\"td-right\" data-sort=\"5512\">\\n   $55.12\\n  </td>\\n  <td class=\"rh-sm\" data-sort=\"147\">\\n   <span class=\"percentage-green\">\\n    <svg class=\"a\" viewBox=\"0 0 12 12\">\\n     <path d=\"M10 8H2l4-4 4 4z\">\\n     </path>\\n    </svg>\\n    1.47%\\n   </span>\\n  </td>\\n  <td class=\"p-0 sparkline-td green\">\\n   <svg>\\n    <path d=\"M0,33 5,34 10,34 15,41 20,33 25,34 30,29 35,28 40,27 45,27 50,23 55,21 60,21 65,19 70,23 75,23 80,21 85,19 90,19 95,17 100,12 105,12 110,14 115,8 120,7 125,3 130,5 135,8 140,3 145,6 150,7 155,3\">\\n    </path>\\n   </svg>\\n  </td>\\n  <td>\\n   <img class=\"flag\" src=\"/img/flags/ca.png\"/>\\n   <span class=\"responsive-hidden\">\\n    Canada\\n   </span>\\n  </td>\\n </tr>\\n <tr>\\n  <td class=\"rank-td td-right\" data-sort=\"36\">\\n   36\\n  </td>\\n  <td class=\"name-td\">\\n   <div class=\"logo-container\">\\n    <img alt=\"Truist Financial logo\" class=\"company-logo\" data-img-dark-path=\"/img/company-logos/64/TFC.D.png\" data-img-path=\"/img/company-logos/64/TFC.png\" loading=\"lazy\" src=\"/img/company-logos/64/TFC.png\"/>\\n   </div>\\n   <div class=\"name-div\">\\n    <a href=\"/truist-financial/marketcap/\">\\n     <div class=\"company-name\">\\n      Truist Financial\\n     </div>\\n     <div class=\"company-code\">\\n      <span class=\"rank d-none\">\\n      </span>\\n      TFC\\n     </div>\\n    </a>\\n   </div>\\n  </td>\\n  <td class=\"td-right\" data-sort=\"64192032768\">\\n   $64.19 B\\n  </td>\\n  <td class=\"td-right\" data-sort=\"4838\">\\n   $48.38\\n  </td>\\n  <td class=\"rh-sm\" data-sort=\"94\">\\n   <span class=\"percentage-green\">\\n    <svg class=\"a\" viewBox=\"0 0 12 12\">\\n     <path d=\"M10 8H2l4-4 4 4z\">\\n     </path>\\n    </svg>\\n    0.94%\\n   </span>\\n  </td>\\n  <td class=\"p-0 sparkline-td green\">\\n   <svg>\\n    <path d=\"M0,40 5,41 10,41 15,38 20,32 25,34 30,26 35,27 40,26 45,24 50,20 55,18 60,18 65,20 70,27 75,17 80,16 85,11 90,14 95,11 100,11 105,11 110,13 115,8 120,7 125,3 130,5 135,7 140,5 145,9 150,16 155,13\">\\n    </path>\\n   </svg>\\n  </td>\\n  <td>\\n   <img class=\"flag\" src=\"/img/flags/us.png\"/>\\n   <span class=\"responsive-hidden\">\\n    USA\\n   </span>\\n  </td>\\n </tr>\\n <tr>\\n  <td class=\"rank-td td-right\" data-sort=\"37\">\\n   37\\n  </td>\\n  <td class=\"name-td\">\\n   <div class=\"logo-container\">\\n    <img alt=\"PNC Financial Services logo\" class=\"company-logo\" loading=\"lazy\" src=\"/img/company-logos/64/PNC.png\"/>\\n   </div>\\n   <div class=\"name-div\">\\n    <a href=\"/pnc-financial-services/marketcap/\">\\n     <div class=\"company-name\">\\n      PNC Financial Services\\n     </div>\\n     <div class=\"company-code\">\\n      <span class=\"rank d-none\">\\n      </span>\\n      PNC\\n     </div>\\n    </a>\\n   </div>\\n  </td>\\n  <td class=\"td-right\" data-sort=\"63895339008\">\\n   $63.89 B\\n  </td>\\n  <td class=\"td-right\" data-sort=\"15934\">\\n   $159.34\\n  </td>\\n  <td class=\"rh-sm\" data-sort=\"29\">\\n   <span class=\"percentage-green\">\\n    <svg class=\"a\" viewBox=\"0 0 12 12\">\\n     <path d=\"M10 8H2l4-4 4 4z\">\\n     </path>\\n    </svg>\\n    0.29%\\n   </span>\\n  </td>\\n  <td class=\"p-0 sparkline-td green\">\\n   <svg>\\n    <path d=\"M0,23 5,23 10,23 15,20 20,12 25,20 30,11 35,11 40,10 45,8 50,3 55,12 60,12 65,16 70,34 75,41 80,28 85,20 90,22 95,19 100,16 105,13 110,14 115,9 120,10 125,8 130,9 135,14 140,14 145,16 150,21 155,20\">\\n    </path>\\n   </svg>\\n  </td>\\n  <td>\\n   <img class=\"flag\" src=\"/img/flags/us.png\"/>\\n   <span class=\"responsive-hidden\">\\n    USA\\n   </span>\\n  </td>\\n </tr>\\n <tr>\\n  <td class=\"rank-td td-right\" data-sort=\"38\">\\n   38\\n  </td>\\n  <td class=\"name-td\">\\n   <div class=\"logo-container\">\\n    <img alt=\"Postal Savings Bank of China\\n logo\" class=\"company-logo\" loading=\"lazy\" src=\"/img/company-logos/64/601658.SS.png\"/>\\n   </div>\\n   <div class=\"name-div\">\\n    <a href=\"/postal-savings-bank-of-china/marketcap/\">\\n     <div class=\"company-name\">\\n      Postal Savings Bank of China\\n     </div>\\n     <div class=\"company-code\">\\n      <span class=\"rank d-none\">\\n      </span>\\n      601658.SS\\n     </div>\\n    </a>\\n   </div>\\n  </td>\\n  <td class=\"td-right\" data-sort=\"62821452030\">\\n   $62.82 B\\n  </td>\\n  <td class=\"td-right\" data-sort=\"69\">\\n   $0.69\\n  </td>\\n  <td class=\"rh-sm\" data-sort=\"66\">\\n   <span class=\"percentage-green\">\\n    <svg class=\"a\" viewBox=\"0 0 12 12\">\\n     <path d=\"M10 8H2l4-4 4 4z\">\\n     </path>\\n    </svg>\\n    0.66%\\n   </span>\\n  </td>\\n  <td class=\"p-0 sparkline-td green\">\\n   <svg>\\n    <path d=\"M0,41 5,34 10,34 15,30 20,19 25,21 30,22 35,19 40,20 45,11 50,7 55,4 60,12 65,16 70,7 75,11 80,3 85,3 90,3 95,3 100,3 105,3 110,9 115,13 120,19 125,21 130,28 135,31 140,29 145,33 150,41 155,38\">\\n    </path>\\n   </svg>\\n  </td>\\n  <td>\\n   <img class=\"flag\" src=\"/img/flags/cn.png\"/>\\n   <span class=\"responsive-hidden\">\\n    China\\n   </span>\\n  </td>\\n </tr>\\n <tr>\\n  <td class=\"rank-td td-right\" data-sort=\"39\">\\n   39\\n  </td>\\n  <td class=\"name-td\">\\n   <div class=\"logo-container\">\\n    <img alt=\"Santander logo\" class=\"company-logo\" loading=\"lazy\" src=\"/img/company-logos/64/SAN.png\"/>\\n   </div>\\n   <div class=\"name-div\">\\n    <a href=\"/santander/marketcap/\">\\n     <div class=\"company-name\">\\n      Santander\\n     </div>\\n     <div class=\"company-code\">\\n      <span class=\"rank d-none\">\\n      </span>\\n      SAN\\n     </div>\\n    </a>\\n   </div>\\n  </td>\\n  <td class=\"td-right\" data-sort=\"61537906688\">\\n   $61.53 B\\n  </td>\\n  <td class=\"td-right\" data-sort=\"365\">\\n   $3.65\\n  </td>\\n  <td class=\"rh-sm\" data-sort=\"-214\">\\n   <span class=\"percentage-red\">\\n    <svg class=\"a\" viewBox=\"0 0 12 12\">\\n     <path d=\"m2 4h8l-4 4z\">\\n     </path>\\n    </svg>\\n    2.14%\\n   </span>\\n  </td>\\n  <td class=\"p-0 sparkline-td green\">\\n   <svg>\\n    <path d=\"M0,40 5,41 10,41 15,39 20,33 25,33 30,29 35,29 40,27 45,28 50,24 55,21 60,21 65,23 70,23 75,25 80,22 85,22 90,23 95,22 100,17 105,19 110,19 115,17 120,14 125,4 130,5 135,8 140,3 145,3 150,4 155,8\">\\n    </path>\\n   </svg>\\n  </td>\\n  <td>\\n   <img class=\"flag\" src=\"/img/flags/es.png\"/>\\n   <span class=\"responsive-hidden\">\\n    Spain\\n   </span>\\n  </td>\\n </tr>\\n <tr>\\n  <td class=\"rank-td td-right\" data-sort=\"40\">\\n   40\\n  </td>\\n  <td class=\"name-td\">\\n   <div class=\"logo-container\">\\n    <img alt=\"Intercontinental Exchange logo\" class=\"company-logo\" data-img-dark-path=\"/img/company-logos/64/ICE.D.png\" data-img-path=\"/img/company-logos/64/ICE.png\" loading=\"lazy\" src=\"/img/company-logos/64/ICE.png\"/>\\n   </div>\\n   <div class=\"name-div\">\\n    <a href=\"/intercontinental-exchange/marketcap/\">\\n     <div class=\"company-name\">\\n      Intercontinental Exchange\\n     </div>\\n     <div class=\"company-code\">\\n      <span class=\"rank d-none\">\\n      </span>\\n      ICE\\n     </div>\\n    </a>\\n   </div>\\n  </td>\\n  <td class=\"td-right\" data-sort=\"60752691200\">\\n   $60.75 B\\n  </td>\\n  <td class=\"td-right\" data-sort=\"10871\">\\n   $108.71\\n  </td>\\n  <td class=\"rh-sm\" data-sort=\"109\">\\n   <span class=\"percentage-green\">\\n    <svg class=\"a\" viewBox=\"0 0 12 12\">\\n     <path d=\"M10 8H2l4-4 4 4z\">\\n     </path>\\n    </svg>\\n    1.09%\\n   </span>\\n  </td>\\n  <td class=\"p-0 sparkline-td green\">\\n   <svg>\\n    <path d=\"M0,32 5,41 10,41 15,37 20,33 25,41 30,28 35,26 40,18 45,7 50,5 55,13 60,13 65,14 70,12 75,17 80,8 85,7 90,20 95,19 100,10 105,11 110,18 115,13 120,5 125,9 130,12 135,9 140,3 145,4 150,13 155,7\">\\n    </path>\\n   </svg>\\n  </td>\\n  <td>\\n   <img class=\"flag\" src=\"/img/flags/us.png\"/>\\n   <span class=\"responsive-hidden\">\\n    USA\\n   </span>\\n  </td>\\n </tr>\\n <tr>\\n  <td class=\"rank-td td-right\" data-sort=\"41\">\\n   41\\n  </td>\\n  <td class=\"name-td\">\\n   <div class=\"logo-container\">\\n    <img alt=\"State Bank of India\\n logo\" class=\"company-logo\" loading=\"lazy\" src=\"/img/company-logos/64/SBIN.NS.png\"/>\\n   </div>\\n   <div class=\"name-div\">\\n    <a href=\"/state-bank-of-india/marketcap/\">\\n     <div class=\"company-name\">\\n      State Bank of India\\n     </div>\\n     <div class=\"company-code\">\\n      <span class=\"rank d-none\">\\n      </span>\\n      SBIN.NS\\n     </div>\\n    </a>\\n   </div>\\n  </td>\\n  <td class=\"td-right\" data-sort=\"60747756742\">\\n   $60.74 B\\n  </td>\\n  <td class=\"td-right\" data-sort=\"681\">\\n   $6.81\\n  </td>\\n  <td class=\"rh-sm\" data-sort=\"41\">\\n   <span class=\"percentage-green\">\\n    <svg class=\"a\" viewBox=\"0 0 12 12\">\\n     <path d=\"M10 8H2l4-4 4 4z\">\\n     </path>\\n    </svg>\\n    0.41%\\n   </span>\\n  </td>\\n  <td class=\"p-0 sparkline-td red\">\\n   <svg>\\n    <path d=\"M0,4 5,3 10,4 15,4 20,7 25,7 30,9 35,6 40,11 45,10 50,11 55,9 60,8 65,12 70,13 75,13 80,12 85,9 90,12 95,23 100,23 105,35 110,36 115,29 120,41 125,41 130,34 135,33 140,32 145,31 150,31 155,30\">\\n    </path>\\n   </svg>\\n  </td>\\n  <td>\\n   <img class=\"flag\" src=\"/img/flags/in.png\"/>\\n   <span class=\"responsive-hidden\">\\n    India\\n   </span>\\n  </td>\\n </tr>\\n <tr>\\n  <td class=\"rank-td td-right\" data-sort=\"42\">\\n   42\\n  </td>\\n  <td class=\"name-td\">\\n   <div class=\"logo-container\">\\n    <img alt=\"Housing Development Finance Corporation logo\" class=\"company-logo\" loading=\"lazy\" src=\"/img/company-logos/64/HDFC.NS.png\"/>\\n   </div>\\n   <div class=\"name-div\">\\n    <a href=\"/hdfc/marketcap/\">\\n     <div class=\"company-name\">\\n      Housing Development Finance Corporation\\n     </div>\\n     <div class=\"company-code\">\\n      <span class=\"rank d-none\">\\n      </span>\\n      HDFC.NS\\n     </div>\\n    </a>\\n   </div>\\n  </td>\\n  <td class=\"td-right\" data-sort=\"60450909716\">\\n   $60.45 B\\n  </td>\\n  <td class=\"td-right\" data-sort=\"3309\">\\n   $33.09\\n  </td>\\n  <td class=\"rh-sm\" data-sort=\"58\">\\n   <span class=\"percentage-green\">\\n    <svg class=\"a\" viewBox=\"0 0 12 12\">\\n     <path d=\"M10 8H2l4-4 4 4z\">\\n     </path>\\n    </svg>\\n    0.58%\\n   </span>\\n  </td>\\n  <td class=\"p-0 sparkline-td green\">\\n   <svg>\\n    <path d=\"M0,22 5,29 10,26 15,24 20,31 25,32 30,37 35,33 40,41 45,37 50,34 55,32 60,37 65,29 70,20 75,19 80,14 85,9 90,3 95,15 100,15 105,25 110,27 115,32 120,25 125,34 130,18 135,21 140,21 145,20 150,22 155,19\">\\n    </path>\\n   </svg>\\n  </td>\\n  <td>\\n   <img class=\"flag\" src=\"/img/flags/in.png\"/>\\n   <span class=\"responsive-hidden\">\\n    India\\n   </span>\\n  </td>\\n </tr>\\n <tr>\\n  <td class=\"rank-td td-right\" data-sort=\"43\">\\n   43\\n  </td>\\n  <td class=\"name-td\">\\n   <div class=\"logo-container\">\\n    <img alt=\"Sumitomo Mitsui Financial Group logo\" class=\"company-logo\" loading=\"lazy\" src=\"/img/company-logos/64/SMFG.png\"/>\\n   </div>\\n   <div class=\"name-div\">\\n    <a href=\"/sumitomo-mitsui-financial-group/marketcap/\">\\n     <div class=\"company-name\">\\n      Sumitomo Mitsui Financial Group\\n     </div>\\n     <div class=\"company-code\">\\n      <span class=\"rank d-none\">\\n      </span>\\n      SMFG\\n     </div>\\n    </a>\\n   </div>\\n  </td>\\n  <td class=\"td-right\" data-sort=\"59435872256\">\\n   $59.43 B\\n  </td>\\n  <td class=\"td-right\" data-sort=\"877\">\\n   $8.77\\n  </td>\\n  <td class=\"rh-sm\" data-sort=\"115\">\\n   <span class=\"percentage-green\">\\n    <svg class=\"a\" viewBox=\"0 0 12 12\">\\n     <path d=\"M10 8H2l4-4 4 4z\">\\n     </path>\\n    </svg>\\n    1.15%\\n   </span>\\n  </td>\\n  <td class=\"p-0 sparkline-td green\">\\n   <svg>\\n    <path d=\"M0,41 5,38 10,38 15,35 20,30 25,37 30,34 35,36 40,37 45,35 50,16 55,3 60,3 65,15 70,18 75,21 80,18 85,20 90,15 95,11 100,12 105,8 110,7 115,12 120,12 125,15 130,16 135,25 140,17 145,17 150,15 155,12\">\\n    </path>\\n   </svg>\\n  </td>\\n  <td>\\n   <img class=\"flag\" src=\"/img/flags/jp.png\"/>\\n   <span class=\"responsive-hidden\">\\n    Japan\\n   </span>\\n  </td>\\n </tr>\\n <tr>\\n  <td class=\"rank-td td-right\" data-sort=\"44\">\\n   44\\n  </td>\\n  <td class=\"name-td\">\\n   <div class=\"logo-container\">\\n    <img alt=\"Westpac Banking logo\" class=\"company-logo\" loading=\"lazy\" src=\"/img/company-logos/64/WBC.AX.png\"/>\\n   </div>\\n   <div class=\"name-div\">\\n    <a href=\"/westpac-banking/marketcap/\">\\n     <div class=\"company-name\">\\n      Westpac Banking\\n     </div>\\n     <div class=\"company-code\">\\n      <span class=\"rank d-none\">\\n      </span>\\n      WBC.AX\\n     </div>\\n    </a>\\n   </div>\\n  </td>\\n  <td class=\"td-right\" data-sort=\"58074508559\">\\n   $58.07 B\\n  </td>\\n  <td class=\"td-right\" data-sort=\"1661\">\\n   $16.61\\n  </td>\\n  <td class=\"rh-sm\" data-sort=\"-25\">\\n   <span class=\"percentage-red\">\\n    <svg class=\"a\" viewBox=\"0 0 12 12\">\\n     <path d=\"m2 4h8l-4 4z\">\\n     </path>\\n    </svg>\\n    0.25%\\n   </span>\\n  </td>\\n  <td class=\"p-0 sparkline-td green\">\\n   <svg>\\n    <path d=\"M0,27 5,29 10,34 15,41 20,16 25,26 30,27 35,28 40,30 45,23 50,14 55,12 60,7 65,7 70,9 75,4 80,3 85,16 90,15 95,16 100,11 105,6 110,11 115,7 120,16 125,13 130,6 135,6 140,11 145,10 150,12 155,9\">\\n    </path>\\n   </svg>\\n  </td>\\n  <td>\\n   <img class=\"flag\" src=\"/img/flags/au.png\"/>\\n   <span class=\"responsive-hidden\">\\n    Australia\\n   </span>\\n  </td>\\n </tr>\\n <tr>\\n  <td class=\"rank-td td-right\" data-sort=\"45\">\\n   45\\n  </td>\\n  <td class=\"name-td\">\\n   <div class=\"logo-container\">\\n    <img alt=\"The Saudi National Bank logo\" class=\"company-logo\" loading=\"lazy\" src=\"/img/company-logos/64/1180.SR.png\"/>\\n   </div>\\n   <div class=\"name-div\">\\n    <a href=\"/the-saudi-national-bank/marketcap/\">\\n     <div class=\"company-name\">\\n      The Saudi National Bank\\n     </div>\\n     <div class=\"company-code\">\\n      <span class=\"rank d-none\">\\n      </span>\\n      1180.SR\\n     </div>\\n    </a>\\n   </div>\\n  </td>\\n  <td class=\"td-right\" data-sort=\"57226553035\">\\n   $57.22 B\\n  </td>\\n  <td class=\"td-right\" data-sort=\"1289\">\\n   $12.89\\n  </td>\\n  <td class=\"rh-sm\" data-sort=\"-72\">\\n   <span class=\"percentage-red\">\\n    <svg class=\"a\" viewBox=\"0 0 12 12\">\\n     <path d=\"m2 4h8l-4 4z\">\\n     </path>\\n    </svg>\\n    0.72%\\n   </span>\\n  </td>\\n  <td class=\"p-0 sparkline-td red\">\\n   <svg>\\n    <path d=\"M0,11 5,11 10,17 15,11 20,18 25,26 30,10 35,10 40,10 45,3 50,12 55,26 60,31 65,31 70,31 75,29 80,27 85,29 90,29 95,29 100,29 105,41 110,40 115,30 120,22 125,22 130,15 135,15 140,26 145,23 150,27 155,27\">\\n    </path>\\n   </svg>\\n  </td>\\n  <td>\\n   <img class=\"flag\" src=\"/img/flags/sa.png\"/>\\n   <span class=\"responsive-hidden\">\\n    S. Arabia\\n   </span>\\n  </td>\\n </tr>\\n <tr>\\n  <td class=\"rank-td td-right\" data-sort=\"46\">\\n   46\\n  </td>\\n  <td class=\"name-td\">\\n   <div class=\"logo-container\">\\n    <img alt=\"Moody\\'s logo\" class=\"company-logo\" data-img-dark-path=\"/img/company-logos/64/MCO.D.png\" data-img-path=\"/img/company-logos/64/MCO.png\" loading=\"lazy\" src=\"/img/company-logos/64/MCO.png\"/>\\n   </div>\\n   <div class=\"name-div\">\\n    <a href=\"/moodys/marketcap/\">\\n     <div class=\"company-name\">\\n      Moody\\'s\\n     </div>\\n     <div class=\"company-code\">\\n      <span class=\"rank d-none\">\\n      </span>\\n      MCO\\n     </div>\\n    </a>\\n   </div>\\n  </td>\\n  <td class=\"td-right\" data-sort=\"56200261632\">\\n   $56.20 B\\n  </td>\\n  <td class=\"td-right\" data-sort=\"30677\">\\n   $306.77\\n  </td>\\n  <td class=\"rh-sm\" data-sort=\"-8\">\\n   <span class=\"percentage-red\">\\n    <svg class=\"a\" viewBox=\"0 0 12 12\">\\n     <path d=\"m2 4h8l-4 4z\">\\n     </path>\\n    </svg>\\n    0.08%\\n   </span>\\n  </td>\\n  <td class=\"p-0 sparkline-td green\">\\n   <svg>\\n    <path d=\"M0,36 5,39 10,39 15,41 20,36 25,41 30,32 35,31 40,26 45,19 50,15 55,14 60,14 65,14 70,12 75,15 80,9 85,10 90,13 95,13 100,11 105,10 110,14 115,8 120,7 125,3 130,7 135,14 140,11 145,16 150,19 155,19\">\\n    </path>\\n   </svg>\\n  </td>\\n  <td>\\n   <img class=\"flag\" src=\"/img/flags/us.png\"/>\\n   <span class=\"responsive-hidden\">\\n    USA\\n   </span>\\n  </td>\\n </tr>\\n <tr>\\n  <td class=\"rank-td td-right\" data-sort=\"47\">\\n   47\\n  </td>\\n  <td class=\"name-td\">\\n   <div class=\"logo-container\">\\n    <img alt=\"Hong Kong Exchanges &amp; Clearing logo\" class=\"company-logo\" data-img-dark-path=\"/img/company-logos/64/0388.HK.D.png\" data-img-path=\"/img/company-logos/64/0388.HK.png\" loading=\"lazy\" src=\"/img/company-logos/64/0388.HK.png\"/>\\n   </div>\\n   <div class=\"name-div\">\\n    <a href=\"/hong-kong-exchanges-and-clearing/marketcap/\">\\n     <div class=\"company-name\">\\n      Hong Kong Exchanges &amp; Clearing\\n     </div>\\n     <div class=\"company-code\">\\n      <span class=\"rank d-none\">\\n      </span>\\n      0388.HK\\n     </div>\\n    </a>\\n   </div>\\n  </td>\\n  <td class=\"td-right\" data-sort=\"54389345233\">\\n   $54.38 B\\n  </td>\\n  <td class=\"td-right\" data-sort=\"4290\">\\n   $42.90\\n  </td>\\n  <td class=\"rh-sm\" data-sort=\"-245\">\\n   <span class=\"percentage-red\">\\n    <svg class=\"a\" viewBox=\"0 0 12 12\">\\n     <path d=\"m2 4h8l-4 4z\">\\n     </path>\\n    </svg>\\n    2.45%\\n   </span>\\n  </td>\\n  <td class=\"p-0 sparkline-td red\">\\n   <svg>\\n    <path d=\"M0,37 5,39 10,39 15,34 20,24 25,17 30,16 35,3 40,6 45,13 50,9 55,11 60,16 65,20 70,20 75,17 80,11 85,11 90,11 95,11 100,5 105,6 110,19 115,25 120,25 125,25 130,25 135,39 140,37 145,39 150,33 155,41\">\\n    </path>\\n   </svg>\\n  </td>\\n  <td>\\n   <img class=\"flag\" src=\"/img/flags/hk.png\"/>\\n   <span class=\"responsive-hidden\">\\n    Hong Kong\\n   </span>\\n  </td>\\n </tr>\\n <tr>\\n  <td class=\"rank-td td-right\" data-sort=\"48\">\\n   48\\n  </td>\\n  <td class=\"name-td\">\\n   <div class=\"logo-container\">\\n    <img alt=\"ANZ Bank logo\" class=\"company-logo\" data-img-dark-path=\"/img/company-logos/64/ANZ.AX.D.png\" data-img-path=\"/img/company-logos/64/ANZ.AX.png\" loading=\"lazy\" src=\"/img/company-logos/64/ANZ.AX.png\"/>\\n   </div>\\n   <div class=\"name-div\">\\n    <a href=\"/anz-bank/marketcap/\">\\n     <div class=\"company-name\">\\n      ANZ Bank\\n     </div>\\n     <div class=\"company-code\">\\n      <span class=\"rank d-none\">\\n      </span>\\n      ANZ.AX\\n     </div>\\n    </a>\\n   </div>\\n  </td>\\n  <td class=\"td-right\" data-sort=\"53803129196\">\\n   $53.80 B\\n  </td>\\n  <td class=\"td-right\" data-sort=\"1791\">\\n   $17.91\\n  </td>\\n  <td class=\"rh-sm\" data-sort=\"-81\">\\n   <span class=\"percentage-red\">\\n    <svg class=\"a\" viewBox=\"0 0 12 12\">\\n     <path d=\"m2 4h8l-4 4z\">\\n     </path>\\n    </svg>\\n    0.81%\\n   </span>\\n  </td>\\n  <td class=\"p-0 sparkline-td green\">\\n   <svg>\\n    <path d=\"M0,34 5,34 10,34 15,41 20,33 25,36 30,36 35,36 40,35 45,28 50,25 55,24 60,18 65,18 70,20 75,18 80,20 85,19 90,21 95,22 100,19 105,17 110,15 115,10 120,11 125,7 130,5 135,6 140,3 145,3 150,4 155,6\">\\n    </path>\\n   </svg>\\n  </td>\\n  <td>\\n   <img class=\"flag\" src=\"/img/flags/au.png\"/>\\n   <span class=\"responsive-hidden\">\\n    Australia\\n   </span>\\n  </td>\\n </tr>\\n <tr>\\n  <td class=\"rank-td td-right\" data-sort=\"49\">\\n   49\\n  </td>\\n  <td class=\"name-td\">\\n   <div class=\"logo-container\">\\n    <img alt=\"Industrial Bank\\n logo\" class=\"company-logo\" loading=\"lazy\" src=\"/img/company-logos/64/601166.SS.png\"/>\\n   </div>\\n   <div class=\"name-div\">\\n    <a href=\"/industrial-bank/marketcap/\">\\n     <div class=\"company-name\">\\n      Industrial Bank\\n     </div>\\n     <div class=\"company-code\">\\n      <span class=\"rank d-none\">\\n      </span>\\n      601166.SS\\n     </div>\\n    </a>\\n   </div>\\n  </td>\\n  <td class=\"td-right\" data-sort=\"53296055332\">\\n   $53.29 B\\n  </td>\\n  <td class=\"td-right\" data-sort=\"257\">\\n   $2.57\\n  </td>\\n  <td class=\"rh-sm\" data-sort=\"0\">\\n   <span class=\"percentage-green\">\\n    <svg class=\"a\" viewBox=\"0 0 12 12\">\\n     <path d=\"M10 8H2l4-4 4 4z\">\\n     </path>\\n    </svg>\\n    0.00%\\n   </span>\\n  </td>\\n  <td class=\"p-0 sparkline-td red\">\\n   <svg>\\n    <path d=\"M0,30 5,25 10,25 15,19 20,8 25,8 30,7 35,8 40,18 45,11 50,9 55,3 60,3 65,4 70,9 75,8 80,12 85,12 90,12 95,12 100,12 105,12 110,14 115,24 120,28 125,31 130,36 135,40 140,39 145,41 150,38 155,38\">\\n    </path>\\n   </svg>\\n  </td>\\n  <td>\\n   <img class=\"flag\" src=\"/img/flags/cn.png\"/>\\n   <span class=\"responsive-hidden\">\\n    China\\n   </span>\\n  </td>\\n </tr>\\n <tr>\\n  <td class=\"rank-td td-right\" data-sort=\"50\">\\n   50\\n  </td>\\n  <td class=\"name-td\">\\n   <div class=\"logo-container\">\\n    <img alt=\"Macquarie logo\" class=\"company-logo\" data-img-dark-path=\"/img/company-logos/64/MQG.AX.D.png\" data-img-path=\"/img/company-logos/64/MQG.AX.png\" loading=\"lazy\" src=\"/img/company-logos/64/MQG.AX.png\"/>\\n   </div>\\n   <div class=\"name-div\">\\n    <a href=\"/macquarie/marketcap/\">\\n     <div class=\"company-name\">\\n      Macquarie\\n     </div>\\n     <div class=\"company-code\">\\n      <span class=\"rank d-none\">\\n      </span>\\n      MQG.AX\\n     </div>\\n    </a>\\n   </div>\\n  </td>\\n  <td class=\"td-right\" data-sort=\"51578628204\">\\n   $51.57 B\\n  </td>\\n  <td class=\"td-right\" data-sort=\"13343\">\\n   $133.43\\n  </td>\\n  <td class=\"rh-sm\" data-sort=\"-134\">\\n   <span class=\"percentage-red\">\\n    <svg class=\"a\" viewBox=\"0 0 12 12\">\\n     <path d=\"m2 4h8l-4 4z\">\\n     </path>\\n    </svg>\\n    1.34%\\n   </span>\\n  </td>\\n  <td class=\"p-0 sparkline-td green\">\\n   <svg>\\n    <path d=\"M0,39 5,39 10,41 15,39 20,32 25,34 30,32 35,30 40,31 45,28 50,25 55,25 60,23 65,23 70,23 75,22 80,21 85,18 90,15 95,16 100,15 105,13 110,15 115,13 120,8 125,8 130,9 135,5 140,5 145,3 150,6 155,7\">\\n    </path>\\n   </svg>\\n  </td>\\n  <td>\\n   <img class=\"flag\" src=\"/img/flags/au.png\"/>\\n   <span class=\"responsive-hidden\">\\n    Australia\\n   </span>\\n  </td>\\n </tr>\\n <tr>\\n  <td class=\"rank-td td-right\" data-sort=\"51\">\\n   51\\n  </td>\\n  <td class=\"name-td\">\\n   <div class=\"logo-container\">\\n    <img alt=\"London Stock Exchange logo\" class=\"company-logo\" data-img-dark-path=\"/img/company-logos/64/LS4C.F.D.png\" data-img-path=\"/img/company-logos/64/LS4C.F.png\" loading=\"lazy\" src=\"/img/company-logos/64/LS4C.F.png\"/>\\n   </div>\\n   <div class=\"name-div\">\\n    <a href=\"/london-stock-exchange/marketcap/\">\\n     <div class=\"company-name\">\\n      London Stock Exchange\\n     </div>\\n     <div class=\"company-code\">\\n      <span class=\"rank d-none\">\\n      </span>\\n      LS4C.F\\n     </div>\\n    </a>\\n   </div>\\n  </td>\\n  <td class=\"td-right\" data-sort=\"51532034049\">\\n   $51.53 B\\n  </td>\\n  <td class=\"td-right\" data-sort=\"9394\">\\n   $93.94\\n  </td>\\n  <td class=\"rh-sm\" data-sort=\"58\">\\n   <span class=\"percentage-green\">\\n    <svg class=\"a\" viewBox=\"0 0 12 12\">\\n     <path d=\"M10 8H2l4-4 4 4z\">\\n     </path>\\n    </svg>\\n    0.58%\\n   </span>\\n  </td>\\n  <td class=\"p-0 sparkline-td green\">\\n   <svg>\\n    <path d=\"M0,32 5,32 10,23 15,38 20,35 25,35 30,38 35,32 40,29 45,26 50,9 55,9 60,21 65,23 70,15 75,3 80,12 85,29 90,32 95,41 100,32 105,23 110,26 115,29 120,23 125,21 130,21 135,21 140,12 145,23 150,9 155,6\">\\n    </path>\\n   </svg>\\n  </td>\\n  <td>\\n   <img class=\"flag\" src=\"/img/flags/uk.png\"/>\\n   <span class=\"responsive-hidden\">\\n    UK\\n   </span>\\n  </td>\\n </tr>\\n <tr>\\n  <td class=\"rank-td td-right\" data-sort=\"52\">\\n   52\\n  </td>\\n  <td class=\"name-td\">\\n   <div class=\"logo-container\">\\n    <img alt=\"Intesa Sanpaolo logo\" class=\"company-logo\" loading=\"lazy\" src=\"/img/company-logos/64/ISP.MI.png\"/>\\n   </div>\\n   <div class=\"name-div\">\\n    <a href=\"/intesa-sanpaolo/marketcap/\">\\n     <div class=\"company-name\">\\n      Intesa Sanpaolo\\n     </div>\\n     <div class=\"company-code\">\\n      <span class=\"rank d-none\">\\n      </span>\\n      ISP.MI\\n     </div>\\n    </a>\\n   </div>\\n  </td>\\n  <td class=\"td-right\" data-sort=\"51279140668\">\\n   $51.27 B\\n  </td>\\n  <td class=\"td-right\" data-sort=\"269\">\\n   $2.69\\n  </td>\\n  <td class=\"rh-sm\" data-sort=\"-108\">\\n   <span class=\"percentage-red\">\\n    <svg class=\"a\" viewBox=\"0 0 12 12\">\\n     <path d=\"m2 4h8l-4 4z\">\\n     </path>\\n    </svg>\\n    1.08%\\n   </span>\\n  </td>\\n  <td class=\"p-0 sparkline-td green\">\\n   <svg>\\n    <path d=\"M0,38 5,41 10,37 15,33 20,28 25,29 30,27 35,28 40,26 45,25 50,23 55,22 60,23 65,25 70,26 75,28 80,32 85,27 90,22 95,22 100,17 105,17 110,17 115,11 120,8 125,7 130,14 135,8 140,6 145,6 150,3 155,5\">\\n    </path>\\n   </svg>\\n  </td>\\n  <td>\\n   <img class=\"flag\" src=\"/img/flags/it.png\"/>\\n   <span class=\"responsive-hidden\">\\n    Italy\\n   </span>\\n  </td>\\n </tr>\\n <tr>\\n  <td class=\"rank-td td-right\" data-sort=\"53\">\\n   53\\n  </td>\\n  <td class=\"name-td\">\\n   <div class=\"logo-container\">\\n    <img alt=\"Bank of Communications logo\" class=\"company-logo\" data-img-dark-path=\"/img/company-logos/64/601328.SS.D.png\" data-img-path=\"/img/company-logos/64/601328.SS.png\" loading=\"lazy\" src=\"/img/company-logos/64/601328.SS.png\"/>\\n   </div>\\n   <div class=\"name-div\">\\n    <a href=\"/bank-of-communications/marketcap/\">\\n     <div class=\"company-name\">\\n      Bank of Communications\\n     </div>\\n     <div class=\"company-code\">\\n      <span class=\"rank d-none\">\\n      </span>\\n      601328.SS\\n     </div>\\n    </a>\\n   </div>\\n  </td>\\n  <td class=\"td-right\" data-sort=\"50803281264\">\\n   $50.80 B\\n  </td>\\n  <td class=\"td-right\" data-sort=\"73\">\\n   $0.73\\n  </td>\\n  <td class=\"rh-sm\" data-sort=\"41\">\\n   <span class=\"percentage-green\">\\n    <svg class=\"a\" viewBox=\"0 0 12 12\">\\n     <path d=\"M10 8H2l4-4 4 4z\">\\n     </path>\\n    </svg>\\n    0.41%\\n   </span>\\n  </td>\\n  <td class=\"p-0 sparkline-td green\">\\n   <svg>\\n    <path d=\"M0,41 5,35 10,35 15,35 20,23 25,21 30,21 35,21 40,25 45,17 50,17 55,9 60,15 65,11 70,9 75,7 80,9 85,9 90,9 95,9 100,9 105,9 110,7 115,13 120,11 125,13 130,15 135,15 140,13 145,9 150,7 155,3\">\\n    </path>\\n   </svg>\\n  </td>\\n  <td>\\n   <img class=\"flag\" src=\"/img/flags/cn.png\"/>\\n   <span class=\"responsive-hidden\">\\n    China\\n   </span>\\n  </td>\\n </tr>\\n <tr>\\n  <td class=\"rank-td td-right\" data-sort=\"54\">\\n   54\\n  </td>\\n  <td class=\"name-td\">\\n   <div class=\"logo-container\">\\n    <img alt=\"ING\\n logo\" class=\"company-logo\" loading=\"lazy\" src=\"/img/company-logos/64/ING.png\"/>\\n   </div>\\n   <div class=\"name-div\">\\n    <a href=\"/ing/marketcap/\">\\n     <div class=\"company-name\">\\n      ING\\n     </div>\\n     <div class=\"company-code\">\\n      <span class=\"rank d-none\">\\n      </span>\\n      ING\\n     </div>\\n    </a>\\n   </div>\\n  </td>\\n  <td class=\"td-right\" data-sort=\"50468954112\">\\n   $50.46 B\\n  </td>\\n  <td class=\"td-right\" data-sort=\"1390\">\\n   $13.90\\n  </td>\\n  <td class=\"rh-sm\" data-sort=\"-100\">\\n   <span class=\"percentage-red\">\\n    <svg class=\"a\" viewBox=\"0 0 12 12\">\\n     <path d=\"m2 4h8l-4 4z\">\\n     </path>\\n    </svg>\\n    1.00%\\n   </span>\\n  </td>\\n  <td class=\"p-0 sparkline-td green\">\\n   <svg>\\n    <path d=\"M0,40 5,41 10,41 15,35 20,29 25,31 30,27 35,25 40,25 45,23 50,19 55,17 60,17 65,22 70,25 75,25 80,22 85,18 90,15 95,13 100,9 105,9 110,12 115,6 120,3 125,15 130,20 135,23 140,22 145,18 150,12 155,14\">\\n    </path>\\n   </svg>\\n  </td>\\n  <td>\\n   <img class=\"flag\" src=\"/img/flags/nl.png\"/>\\n   <span class=\"responsive-hidden\">\\n    Netherlands\\n   </span>\\n  </td>\\n </tr>\\n <tr>\\n  <td class=\"rank-td td-right\" data-sort=\"55\">\\n   55\\n  </td>\\n  <td class=\"name-td\">\\n   <div class=\"logo-container\">\\n    <img alt=\"Bank Rakyat Indonesia\\n logo\" class=\"company-logo\" data-img-dark-path=\"/img/company-logos/64/BBRI.JK.D.png\" data-img-path=\"/img/company-logos/64/BBRI.JK.png\" loading=\"lazy\" src=\"/img/company-logos/64/BBRI.JK.png\"/>\\n   </div>\\n   <div class=\"name-div\">\\n    <a href=\"/bank-rakyat-indonesia/marketcap/\">\\n     <div class=\"company-name\">\\n      Bank Rakyat Indonesia\\n     </div>\\n     <div class=\"company-code\">\\n      <span class=\"rank d-none\">\\n      </span>\\n      BBRI.JK\\n     </div>\\n    </a>\\n   </div>\\n  </td>\\n  <td class=\"td-right\" data-sort=\"48562117715\">\\n   $48.56 B\\n  </td>\\n  <td class=\"td-right\" data-sort=\"32\">\\n   $0.32\\n  </td>\\n  <td class=\"rh-sm\" data-sort=\"104\">\\n   <span class=\"percentage-green\">\\n    <svg class=\"a\" viewBox=\"0 0 12 12\">\\n     <path d=\"M10 8H2l4-4 4 4z\">\\n     </path>\\n    </svg>\\n    1.04%\\n   </span>\\n  </td>\\n  <td class=\"p-0 sparkline-td green\">\\n   <svg>\\n    <path d=\"M0,11 5,8 10,3 15,8 20,9 25,15 30,23 35,25 40,27 45,38 50,41 55,33 60,34 65,31 70,29 75,26 80,25 85,23 90,25 95,29 100,27 105,23 110,25 115,27 120,21 125,26 130,16 135,17 140,16 145,13 150,12 155,8\">\\n    </path>\\n   </svg>\\n  </td>\\n  <td>\\n   <img class=\"flag\" src=\"/img/flags/id.png\"/>\\n   <span class=\"responsive-hidden\">\\n    Indonesia\\n   </span>\\n  </td>\\n </tr>\\n <tr>\\n  <td class=\"rank-td td-right\" data-sort=\"56\">\\n   56\\n  </td>\\n  <td class=\"name-td\">\\n   <div class=\"logo-container\">\\n    <img alt=\"Itaú Unibanco\\n logo\" class=\"company-logo\" loading=\"lazy\" src=\"/img/company-logos/64/ITUB.png\"/>\\n   </div>\\n   <div class=\"name-div\">\\n    <a href=\"/itau-unibanco/marketcap/\">\\n     <div class=\"company-name\">\\n      Itaú Unibanco\\n     </div>\\n     <div class=\"company-code\">\\n      <span class=\"rank d-none\">\\n      </span>\\n      ITUB\\n     </div>\\n    </a>\\n   </div>\\n  </td>\\n  <td class=\"td-right\" data-sort=\"48220278784\">\\n   $48.22 B\\n  </td>\\n  <td class=\"td-right\" data-sort=\"492\">\\n   $4.92\\n  </td>\\n  <td class=\"rh-sm\" data-sort=\"103\">\\n   <span class=\"percentage-green\">\\n    <svg class=\"a\" viewBox=\"0 0 12 12\">\\n     <path d=\"M10 8H2l4-4 4 4z\">\\n     </path>\\n    </svg>\\n    1.03%\\n   </span>\\n  </td>\\n  <td class=\"p-0 sparkline-td green\">\\n   <svg>\\n    <path d=\"M0,22 5,23 10,23 15,41 20,40 25,28 30,19 35,17 40,10 45,5 50,5 55,7 60,7 65,3 70,3 75,3 80,10 85,15 90,13 95,7 100,9 105,16 110,17 115,9 120,13 125,9 130,15 135,15 140,25 145,4 150,15 155,12\">\\n    </path>\\n   </svg>\\n  </td>\\n  <td>\\n   <img class=\"flag\" src=\"/img/flags/br.png\"/>\\n   <span class=\"responsive-hidden\">\\n    Brazil\\n   </span>\\n  </td>\\n </tr>\\n <tr>\\n  <td class=\"rank-td td-right\" data-sort=\"57\">\\n   57\\n  </td>\\n  <td class=\"name-td\">\\n   <div class=\"logo-container\">\\n    <img alt=\"Bajaj Finance logo\" class=\"company-logo\" loading=\"lazy\" src=\"/img/company-logos/64/BAJFINANCE.NS.png\"/>\\n   </div>\\n   <div class=\"name-div\">\\n    <a href=\"/bajaj-finance/marketcap/\">\\n     <div class=\"company-name\">\\n      Bajaj Finance\\n     </div>\\n     <div class=\"company-code\">\\n      <span class=\"rank d-none\">\\n      </span>\\n      BAJFINANCE.NS\\n     </div>\\n    </a>\\n   </div>\\n  </td>\\n  <td class=\"td-right\" data-sort=\"47962811572\">\\n   $47.96 B\\n  </td>\\n  <td class=\"td-right\" data-sort=\"7921\">\\n   $79.21\\n  </td>\\n  <td class=\"rh-sm\" data-sort=\"-30\">\\n   <span class=\"percentage-red\">\\n    <svg class=\"a\" viewBox=\"0 0 12 12\">\\n     <path d=\"m2 4h8l-4 4z\">\\n     </path>\\n    </svg>\\n    0.30%\\n   </span>\\n  </td>\\n  <td class=\"p-0 sparkline-td red\">\\n   <svg>\\n    <path d=\"M0,7 5,4 10,5 15,3 20,5 25,25 30,30 35,29 40,33 45,33 50,33 55,30 60,28 65,30 70,29 75,28 80,35 85,35 90,35 95,38 100,38 105,39 110,28 115,34 120,37 125,41 130,28 135,24 140,22 145,14 150,9 155,10\">\\n    </path>\\n   </svg>\\n  </td>\\n  <td>\\n   <img class=\"flag\" src=\"/img/flags/in.png\"/>\\n   <span class=\"responsive-hidden\">\\n    India\\n   </span>\\n  </td>\\n </tr>\\n <tr>\\n  <td class=\"rank-td td-right\" data-sort=\"58\">\\n   58\\n  </td>\\n  <td class=\"name-td\">\\n   <div class=\"logo-container\">\\n    <img alt=\"Block logo\" class=\"company-logo\" loading=\"lazy\" src=\"/img/company-logos/64/SQ.png\"/>\\n   </div>\\n   <div class=\"name-div\">\\n    <a href=\"/square/marketcap/\">\\n     <div class=\"company-name\">\\n      Block\\n     </div>\\n     <div class=\"company-code\">\\n      <span class=\"rank d-none\">\\n      </span>\\n      SQ\\n     </div>\\n    </a>\\n   </div>\\n  </td>\\n  <td class=\"td-right\" data-sort=\"44992880640\">\\n   $44.99 B\\n  </td>\\n  <td class=\"td-right\" data-sort=\"7523\">\\n   $75.23\\n  </td>\\n  <td class=\"rh-sm\" data-sort=\"-125\">\\n   <span class=\"percentage-red\">\\n    <svg class=\"a\" viewBox=\"0 0 12 12\">\\n     <path d=\"m2 4h8l-4 4z\">\\n     </path>\\n    </svg>\\n    1.25%\\n   </span>\\n  </td>\\n  <td class=\"p-0 sparkline-td green\">\\n   <svg>\\n    <path d=\"M0,41 5,41 10,41 15,38 20,36 25,38 30,32 35,32 40,30 45,28 50,28 55,28 60,28 65,23 70,27 75,29 80,21 85,13 90,14 95,14 100,14 105,10 110,16 115,13 120,10 125,3 130,8 135,12 140,11 145,14 150,21 155,23\">\\n    </path>\\n   </svg>\\n  </td>\\n  <td>\\n   <img class=\"flag\" src=\"/img/flags/us.png\"/>\\n   <span class=\"responsive-hidden\">\\n    USA\\n   </span>\\n  </td>\\n </tr>\\n <tr>\\n  <td class=\"rank-td td-right\" data-sort=\"59\">\\n   59\\n  </td>\\n  <td class=\"name-td\">\\n   <div class=\"logo-container\">\\n    <img alt=\"Fidelity National Information Services logo\" class=\"company-logo\" data-img-dark-path=\"/img/company-logos/64/FIS.D.png\" data-img-path=\"/img/company-logos/64/FIS.png\" loading=\"lazy\" src=\"/img/company-logos/64/FIS.png\"/>\\n   </div>\\n   <div class=\"name-div\">\\n    <a href=\"/fidelity-national-information-services/marketcap/\">\\n     <div class=\"company-name\">\\n      Fidelity National Information Services\\n     </div>\\n     <div class=\"company-code\">\\n      <span class=\"rank d-none\">\\n      </span>\\n      FIS\\n     </div>\\n    </a>\\n   </div>\\n  </td>\\n  <td class=\"td-right\" data-sort=\"44758577152\">\\n   $44.75 B\\n  </td>\\n  <td class=\"td-right\" data-sort=\"7543\">\\n   $75.43\\n  </td>\\n  <td class=\"rh-sm\" data-sort=\"200\">\\n   <span class=\"percentage-green\">\\n    <svg class=\"a\" viewBox=\"0 0 12 12\">\\n     <path d=\"M10 8H2l4-4 4 4z\">\\n     </path>\\n    </svg>\\n    2.00%\\n   </span>\\n  </td>\\n  <td class=\"p-0 sparkline-td green\">\\n   <svg>\\n    <path d=\"M0,41 5,41 10,41 15,38 20,36 25,40 30,35 35,33 40,37 45,35 50,36 55,34 60,34 65,27 70,34 75,29 80,18 85,16 90,16 95,17 100,14 105,12 110,16 115,14 120,7 125,3 130,12 135,21 140,13 145,20 150,18 155,12\">\\n    </path>\\n   </svg>\\n  </td>\\n  <td>\\n   <img class=\"flag\" src=\"/img/flags/us.png\"/>\\n   <span class=\"responsive-hidden\">\\n    USA\\n   </span>\\n  </td>\\n </tr>\\n <tr>\\n  <td class=\"rank-td td-right\" data-sort=\"60\">\\n   60\\n  </td>\\n  <td class=\"name-td\">\\n   <div class=\"logo-container\">\\n    <img alt=\"Adyen logo\" class=\"company-logo\" data-img-dark-path=\"/img/company-logos/64/ADYEN.AS.D.png\" data-img-path=\"/img/company-logos/64/ADYEN.AS.png\" loading=\"lazy\" src=\"/img/company-logos/64/ADYEN.AS.png\"/>\\n   </div>\\n   <div class=\"name-div\">\\n    <a href=\"/adyen/marketcap/\">\\n     <div class=\"company-name\">\\n      Adyen\\n     </div>\\n     <div class=\"company-code\">\\n      <span class=\"rank d-none\">\\n      </span>\\n      ADYEN.AS\\n     </div>\\n    </a>\\n   </div>\\n  </td>\\n  <td class=\"td-right\" data-sort=\"44602183360\">\\n   $44.60 B\\n  </td>\\n  <td class=\"td-right\" data-sort=\"143942\">\\n   $1,439\\n  </td>\\n  <td class=\"rh-sm\" data-sort=\"-140\">\\n   <span class=\"percentage-red\">\\n    <svg class=\"a\" viewBox=\"0 0 12 12\">\\n     <path d=\"m2 4h8l-4 4z\">\\n     </path>\\n    </svg>\\n    1.40%\\n   </span>\\n  </td>\\n  <td class=\"p-0 sparkline-td green\">\\n   <svg>\\n    <path d=\"M0,37 5,40 10,38 15,38 20,36 25,40 30,38 35,33 40,34 45,39 50,37 55,32 60,33 65,30 70,28 75,38 80,36 85,31 90,33 95,38 100,34 105,30 110,30 115,30 120,24 125,3 130,4 135,12 140,14 145,41 150,34 155,36\">\\n    </path>\\n   </svg>\\n  </td>\\n  <td>\\n   <img class=\"flag\" src=\"/img/flags/nl.png\"/>\\n   <span class=\"responsive-hidden\">\\n    Netherlands\\n   </span>\\n  </td>\\n </tr>\\n <tr>\\n  <td class=\"rank-td td-right\" data-sort=\"61\">\\n   61\\n  </td>\\n  <td class=\"name-td\">\\n   <div class=\"logo-container\">\\n    <img alt=\"CITIC Securities\\n logo\" class=\"company-logo\" loading=\"lazy\" src=\"/img/company-logos/64/600030.SS.png\"/>\\n   </div>\\n   <div class=\"name-div\">\\n    <a href=\"/citic-securities/marketcap/\">\\n     <div class=\"company-name\">\\n      CITIC Securities\\n     </div>\\n     <div class=\"company-code\">\\n      <span class=\"rank d-none\">\\n      </span>\\n      600030.SS\\n     </div>\\n    </a>\\n   </div>\\n  </td>\\n  <td class=\"td-right\" data-sort=\"44186326374\">\\n   $44.18 B\\n  </td>\\n  <td class=\"td-right\" data-sort=\"313\">\\n   $3.13\\n  </td>\\n  <td class=\"rh-sm\" data-sort=\"-99\">\\n   <span class=\"percentage-red\">\\n    <svg class=\"a\" viewBox=\"0 0 12 12\">\\n     <path d=\"m2 4h8l-4 4z\">\\n     </path>\\n    </svg>\\n    0.99%\\n   </span>\\n  </td>\\n  <td class=\"p-0 sparkline-td green\">\\n   <svg>\\n    <path d=\"M0,41 5,39 10,39 15,39 20,35 25,30 30,31 35,27 40,30 45,32 50,30 55,25 60,12 65,11 70,15 75,11 80,10 85,10 90,10 95,10 100,10 105,10 110,11 115,14 120,3 125,14 130,15 135,23 140,23 145,23 150,18 155,22\">\\n    </path>\\n   </svg>\\n  </td>\\n  <td>\\n   <img class=\"flag\" src=\"/img/flags/cn.png\"/>\\n   <span class=\"responsive-hidden\">\\n    China\\n   </span>\\n  </td>\\n </tr>\\n <tr>\\n  <td class=\"rank-td td-right\" data-sort=\"62\">\\n   62\\n  </td>\\n  <td class=\"name-td\">\\n   <div class=\"logo-container\">\\n    <img alt=\"Capital One logo\" class=\"company-logo\" data-img-dark-path=\"/img/company-logos/64/COF.D.png\" data-img-path=\"/img/company-logos/64/COF.png\" loading=\"lazy\" src=\"/img/company-logos/64/COF.png\"/>\\n   </div>\\n   <div class=\"name-div\">\\n    <a href=\"/capital-one/marketcap/\">\\n     <div class=\"company-name\">\\n      Capital One\\n     </div>\\n     <div class=\"company-code\">\\n      <span class=\"rank d-none\">\\n      </span>\\n      COF\\n     </div>\\n    </a>\\n   </div>\\n  </td>\\n  <td class=\"td-right\" data-sort=\"43998208000\">\\n   $43.99 B\\n  </td>\\n  <td class=\"td-right\" data-sort=\"11539\">\\n   $115.39\\n  </td>\\n  <td class=\"rh-sm\" data-sort=\"-18\">\\n   <span class=\"percentage-red\">\\n    <svg class=\"a\" viewBox=\"0 0 12 12\">\\n     <path d=\"m2 4h8l-4 4z\">\\n     </path>\\n    </svg>\\n    0.18%\\n   </span>\\n  </td>\\n  <td class=\"p-0 sparkline-td green\">\\n   <svg>\\n    <path d=\"M0,41 5,41 10,41 15,41 20,37 25,39 30,35 35,35 40,33 45,29 50,30 55,28 60,28 65,27 70,29 75,34 80,26 85,22 90,23 95,10 100,10 105,9 110,12 115,7 120,10 125,3 130,3 135,8 140,5 145,9 150,11 155,11\">\\n    </path>\\n   </svg>\\n  </td>\\n  <td>\\n   <img class=\"flag\" src=\"/img/flags/us.png\"/>\\n   <span class=\"responsive-hidden\">\\n    USA\\n   </span>\\n  </td>\\n </tr>\\n <tr>\\n  <td class=\"rank-td td-right\" data-sort=\"63\">\\n   63\\n  </td>\\n  <td class=\"name-td\">\\n   <div class=\"logo-container\">\\n    <img alt=\"MSCI logo\" class=\"company-logo\" data-img-dark-path=\"/img/company-logos/64/MSCI.D.png\" data-img-path=\"/img/company-logos/64/MSCI.png\" loading=\"lazy\" src=\"/img/company-logos/64/MSCI.png\"/>\\n   </div>\\n   <div class=\"name-div\">\\n    <a href=\"/msci/marketcap/\">\\n     <div class=\"company-name\">\\n      MSCI\\n     </div>\\n     <div class=\"company-code\">\\n      <span class=\"rank d-none\">\\n      </span>\\n      MSCI\\n     </div>\\n    </a>\\n   </div>\\n  </td>\\n  <td class=\"td-right\" data-sort=\"43923439616\">\\n   $43.92 B\\n  </td>\\n  <td class=\"td-right\" data-sort=\"54933\">\\n   $549.33\\n  </td>\\n  <td class=\"rh-sm\" data-sort=\"-113\">\\n   <span class=\"percentage-red\">\\n    <svg class=\"a\" viewBox=\"0 0 12 12\">\\n     <path d=\"m2 4h8l-4 4z\">\\n     </path>\\n    </svg>\\n    1.13%\\n   </span>\\n  </td>\\n  <td class=\"p-0 sparkline-td green\">\\n   <svg>\\n    <path d=\"M0,37 5,39 10,39 15,40 20,36 25,41 30,38 35,34 40,31 45,25 50,25 55,25 60,25 65,23 70,25 75,28 80,23 85,22 90,20 95,24 100,22 105,20 110,25 115,16 120,8 125,3 130,3 135,8 140,6 145,7 150,7 155,10\">\\n    </path>\\n   </svg>\\n  </td>\\n  <td>\\n   <img class=\"flag\" src=\"/img/flags/us.png\"/>\\n   <span class=\"responsive-hidden\">\\n    USA\\n   </span>\\n  </td>\\n </tr>\\n <tr>\\n  <td class=\"rank-td td-right\" data-sort=\"64\">\\n   64\\n  </td>\\n  <td class=\"name-td\">\\n   <div class=\"logo-container\">\\n    <img alt=\"Lloyds Banking Group\\n logo\" class=\"company-logo\" data-img-dark-path=\"/img/company-logos/64/LYG.D.png\" data-img-path=\"/img/company-logos/64/LYG.png\" loading=\"lazy\" src=\"/img/company-logos/64/LYG.png\"/>\\n   </div>\\n   <div class=\"name-div\">\\n    <a href=\"/lloyds-banking-group/marketcap/\">\\n     <div class=\"company-name\">\\n      Lloyds Banking Group\\n     </div>\\n     <div class=\"company-code\">\\n      <span class=\"rank d-none\">\\n      </span>\\n      LYG\\n     </div>\\n    </a>\\n   </div>\\n  </td>\\n  <td class=\"td-right\" data-sort=\"43416829952\">\\n   $43.41 B\\n  </td>\\n  <td class=\"td-right\" data-sort=\"256\">\\n   $2.56\\n  </td>\\n  <td class=\"rh-sm\" data-sort=\"-39\">\\n   <span class=\"percentage-red\">\\n    <svg class=\"a\" viewBox=\"0 0 12 12\">\\n     <path d=\"m2 4h8l-4 4z\">\\n     </path>\\n    </svg>\\n    0.39%\\n   </span>\\n  </td>\\n  <td class=\"p-0 sparkline-td green\">\\n   <svg>\\n    <path d=\"M0,39 5,41 10,41 15,37 20,32 25,32 30,28 35,29 40,28 45,28 50,24 55,21 60,21 65,21 70,21 75,20 80,18 85,17 90,17 95,12 100,3 105,3 110,5 115,4 120,3 125,3 130,9 135,10 140,4 145,4 150,6 155,7\">\\n    </path>\\n   </svg>\\n  </td>\\n  <td>\\n   <img class=\"flag\" src=\"/img/flags/uk.png\"/>\\n   <span class=\"responsive-hidden\">\\n    UK\\n   </span>\\n  </td>\\n </tr>\\n <tr>\\n  <td class=\"rank-td td-right\" data-sort=\"65\">\\n   65\\n  </td>\\n  <td class=\"name-td\">\\n   <div class=\"logo-container\">\\n    <img alt=\"Banco Bilbao Vizcaya Argentaria logo\" class=\"company-logo\" data-img-dark-path=\"/img/company-logos/64/BBVA.D.png\" data-img-path=\"/img/company-logos/64/BBVA.png\" loading=\"lazy\" src=\"/img/company-logos/64/BBVA.png\"/>\\n   </div>\\n   <div class=\"name-div\">\\n    <a href=\"/bbva/marketcap/\">\\n     <div class=\"company-name\">\\n      Banco Bilbao Vizcaya Argentaria\\n     </div>\\n     <div class=\"company-code\">\\n      <span class=\"rank d-none\">\\n      </span>\\n      BBVA\\n     </div>\\n    </a>\\n   </div>\\n  </td>\\n  <td class=\"td-right\" data-sort=\"43380862976\">\\n   $43.38 B\\n  </td>\\n  <td class=\"td-right\" data-sort=\"720\">\\n   $7.20\\n  </td>\\n  <td class=\"rh-sm\" data-sort=\"-83\">\\n   <span class=\"percentage-red\">\\n    <svg class=\"a\" viewBox=\"0 0 12 12\">\\n     <path d=\"m2 4h8l-4 4z\">\\n     </path>\\n    </svg>\\n    0.83%\\n   </span>\\n  </td>\\n  <td class=\"p-0 sparkline-td green\">\\n   <svg>\\n    <path d=\"M0,40 5,41 10,41 15,37 20,28 25,28 30,25 35,23 40,20 45,22 50,18 55,17 60,17 65,16 70,17 75,19 80,16 85,14 90,16 95,17 100,14 105,15 110,15 115,12 120,3 125,4 130,3 135,7 140,6 145,7 150,7 155,8\">\\n    </path>\\n   </svg>\\n  </td>\\n  <td>\\n   <img class=\"flag\" src=\"/img/flags/es.png\"/>\\n   <span class=\"responsive-hidden\">\\n    Spain\\n   </span>\\n  </td>\\n </tr>\\n <tr>\\n  <td class=\"rank-td td-right\" data-sort=\"66\">\\n   66\\n  </td>\\n  <td class=\"name-td\">\\n   <div class=\"logo-container\">\\n    <img alt=\"East Money Information logo\" class=\"company-logo\" loading=\"lazy\" src=\"/img/company-logos/64/300059.SZ.png\"/>\\n   </div>\\n   <div class=\"name-div\">\\n    <a href=\"/east-money/marketcap/\">\\n     <div class=\"company-name\">\\n      East Money Information\\n     </div>\\n     <div class=\"company-code\">\\n      <span class=\"rank d-none\">\\n      </span>\\n      300059.SZ\\n     </div>\\n    </a>\\n   </div>\\n  </td>\\n  <td class=\"td-right\" data-sort=\"43327506950\">\\n   $43.32 B\\n  </td>\\n  <td class=\"td-right\" data-sort=\"328\">\\n   $3.28\\n  </td>\\n  <td class=\"rh-sm\" data-sort=\"-126\">\\n   <span class=\"percentage-red\">\\n    <svg class=\"a\" viewBox=\"0 0 12 12\">\\n     <path d=\"m2 4h8l-4 4z\">\\n     </path>\\n    </svg>\\n    1.26%\\n   </span>\\n  </td>\\n  <td class=\"p-0 sparkline-td green\">\\n   <svg>\\n    <path d=\"M0,40 5,40 10,40 15,41 20,40 25,31 30,31 35,24 40,25 45,26 50,24 55,18 60,11 65,8 70,9 75,3 80,4 85,4 90,4 95,4 100,4 105,4 110,7 115,11 120,3 125,9 130,10 135,16 140,15 145,18 150,13 155,16\">\\n    </path>\\n   </svg>\\n  </td>\\n  <td>\\n   <img class=\"flag\" src=\"/img/flags/cn.png\"/>\\n   <span class=\"responsive-hidden\">\\n    China\\n   </span>\\n  </td>\\n </tr>\\n <tr>\\n  <td class=\"rank-td td-right\" data-sort=\"67\">\\n   67\\n  </td>\\n  <td class=\"name-td\">\\n   <div class=\"logo-container\">\\n    <img alt=\"Kotak Mahindra Bank\\n logo\" class=\"company-logo\" loading=\"lazy\" src=\"/img/company-logos/64/KOTAKBANK.NS.png\"/>\\n   </div>\\n   <div class=\"name-div\">\\n    <a href=\"/kotak-mahindra-bank/marketcap/\">\\n     <div class=\"company-name\">\\n      Kotak Mahindra Bank\\n     </div>\\n     <div class=\"company-code\">\\n      <span class=\"rank d-none\">\\n      </span>\\n      KOTAKBANK.NS\\n     </div>\\n    </a>\\n   </div>\\n  </td>\\n  <td class=\"td-right\" data-sort=\"43323950064\">\\n   $43.32 B\\n  </td>\\n  <td class=\"td-right\" data-sort=\"2181\">\\n   $21.81\\n  </td>\\n  <td class=\"rh-sm\" data-sort=\"6\">\\n   <span class=\"percentage-green\">\\n    <svg class=\"a\" viewBox=\"0 0 12 12\">\\n     <path d=\"M10 8H2l4-4 4 4z\">\\n     </path>\\n    </svg>\\n    0.06%\\n   </span>\\n  </td>\\n  <td class=\"p-0 sparkline-td red\">\\n   <svg>\\n    <path d=\"M0,7 5,5 10,5 15,3 20,7 25,7 30,18 35,10 40,15 45,13 50,20 55,20 60,18 65,14 70,14 75,24 80,25 85,19 90,26 95,29 100,29 105,41 110,37 115,35 120,31 125,26 130,20 135,30 140,21 145,24 150,23 155,22\">\\n    </path>\\n   </svg>\\n  </td>\\n  <td>\\n   <img class=\"flag\" src=\"/img/flags/in.png\"/>\\n   <span class=\"responsive-hidden\">\\n    India\\n   </span>\\n  </td>\\n </tr>\\n <tr>\\n  <td class=\"rank-td td-right\" data-sort=\"68\">\\n   68\\n  </td>\\n  <td class=\"name-td\">\\n   <div class=\"logo-container\">\\n    <img alt=\"Nordea Bank logo\" class=\"company-logo\" data-img-dark-path=\"/img/company-logos/64/NDA-FI.HE.D.png\" data-img-path=\"/img/company-logos/64/NDA-FI.HE.png\" loading=\"lazy\" src=\"/img/company-logos/64/NDA-FI.HE.png\"/>\\n   </div>\\n   <div class=\"name-div\">\\n    <a href=\"/nordea-bank/marketcap/\">\\n     <div class=\"company-name\">\\n      Nordea Bank\\n     </div>\\n     <div class=\"company-code\">\\n      <span class=\"rank d-none\">\\n      </span>\\n      NDA-FI.HE\\n     </div>\\n    </a>\\n   </div>\\n  </td>\\n  <td class=\"td-right\" data-sort=\"43275724193\">\\n   $43.27 B\\n  </td>\\n  <td class=\"td-right\" data-sort=\"1194\">\\n   $11.94\\n  </td>\\n  <td class=\"rh-sm\" data-sort=\"-138\">\\n   <span class=\"percentage-red\">\\n    <svg class=\"a\" viewBox=\"0 0 12 12\">\\n     <path d=\"m2 4h8l-4 4z\">\\n     </path>\\n    </svg>\\n    1.38%\\n   </span>\\n  </td>\\n  <td class=\"p-0 sparkline-td green\">\\n   <svg>\\n    <path d=\"M0,39 5,41 10,36 15,34 20,27 25,20 30,20 35,17 40,18 45,17 50,20 55,23 60,22 65,22 70,20 75,23 80,20 85,19 90,17 95,18 100,17 105,14 110,14 115,17 120,13 125,7 130,8 135,10 140,7 145,6 150,3 155,8\">\\n    </path>\\n   </svg>\\n  </td>\\n  <td>\\n   <img class=\"flag\" src=\"/img/flags/fi.png\"/>\\n   <span class=\"responsive-hidden\">\\n    Finland\\n   </span>\\n  </td>\\n </tr>\\n <tr>\\n  <td class=\"rank-td td-right\" data-sort=\"69\">\\n   69\\n  </td>\\n  <td class=\"name-td\">\\n   <div class=\"logo-container\">\\n    <img alt=\"CIBC logo\" class=\"company-logo\" data-img-dark-path=\"/img/company-logos/64/CM.D.png\" data-img-path=\"/img/company-logos/64/CM.png\" loading=\"lazy\" src=\"/img/company-logos/64/CM.png\"/>\\n   </div>\\n   <div class=\"name-div\">\\n    <a href=\"/cibc/marketcap/\">\\n     <div class=\"company-name\">\\n      CIBC\\n     </div>\\n     <div class=\"company-code\">\\n      <span class=\"rank d-none\">\\n      </span>\\n      CM\\n     </div>\\n    </a>\\n   </div>\\n  </td>\\n  <td class=\"td-right\" data-sort=\"41931784192\">\\n   $41.93 B\\n  </td>\\n  <td class=\"td-right\" data-sort=\"4621\">\\n   $46.21\\n  </td>\\n  <td class=\"rh-sm\" data-sort=\"109\">\\n   <span class=\"percentage-green\">\\n    <svg class=\"a\" viewBox=\"0 0 12 12\">\\n     <path d=\"M10 8H2l4-4 4 4z\">\\n     </path>\\n    </svg>\\n    1.09%\\n   </span>\\n  </td>\\n  <td class=\"p-0 sparkline-td green\">\\n   <svg>\\n    <path d=\"M0,40 5,41 10,41 15,41 20,34 25,37 30,31 35,28 40,29 45,27 50,23 55,20 60,20 65,19 70,23 75,24 80,21 85,19 90,21 95,21 100,18 105,14 110,15 115,8 120,6 125,4 130,5 135,7 140,3 145,5 150,7 155,4\">\\n    </path>\\n   </svg>\\n  </td>\\n  <td>\\n   <img class=\"flag\" src=\"/img/flags/ca.png\"/>\\n   <span class=\"responsive-hidden\">\\n    Canada\\n   </span>\\n  </td>\\n </tr>\\n <tr>\\n  <td class=\"rank-td td-right\" data-sort=\"70\">\\n   70\\n  </td>\\n  <td class=\"name-td\">\\n   <div class=\"logo-container\">\\n    <img alt=\"Bank of New York Mellon logo\" class=\"company-logo\" loading=\"lazy\" src=\"/img/company-logos/64/BK.png\"/>\\n   </div>\\n   <div class=\"name-div\">\\n    <a href=\"/bny-mellon/marketcap/\">\\n     <div class=\"company-name\">\\n      Bank of New York Mellon\\n     </div>\\n     <div class=\"company-code\">\\n      <span class=\"rank d-none\">\\n      </span>\\n      BK\\n     </div>\\n    </a>\\n   </div>\\n  </td>\\n  <td class=\"td-right\" data-sort=\"41554075648\">\\n   $41.55 B\\n  </td>\\n  <td class=\"td-right\" data-sort=\"5140\">\\n   $51.40\\n  </td>\\n  <td class=\"rh-sm\" data-sort=\"-33\">\\n   <span class=\"percentage-red\">\\n    <svg class=\"a\" viewBox=\"0 0 12 12\">\\n     <path d=\"m2 4h8l-4 4z\">\\n     </path>\\n    </svg>\\n    0.33%\\n   </span>\\n  </td>\\n  <td class=\"p-0 sparkline-td green\">\\n   <svg>\\n    <path d=\"M0,40 5,41 10,41 15,36 20,29 25,31 30,26 35,25 40,26 45,25 50,25 55,20 60,20 65,16 70,18 75,20 80,18 85,18 90,17 95,14 100,10 105,13 110,15 115,10 120,9 125,13 130,12 135,11 140,5 145,3 150,4 155,5\">\\n    </path>\\n   </svg>\\n  </td>\\n  <td>\\n   <img class=\"flag\" src=\"/img/flags/us.png\"/>\\n   <span class=\"responsive-hidden\">\\n    USA\\n   </span>\\n  </td>\\n </tr>\\n <tr>\\n  <td class=\"rank-td td-right\" data-sort=\"71\">\\n   71\\n  </td>\\n  <td class=\"name-td\">\\n   <div class=\"logo-container\">\\n    <img alt=\"First Abu Dhabi Bank logo\" class=\"company-logo\" loading=\"lazy\" src=\"/img/company-logos/64/FAB.AE.png\"/>\\n   </div>\\n   <div class=\"name-div\">\\n    <a href=\"/first-abu-dhabi-bank/marketcap/\">\\n     <div class=\"company-name\">\\n      First Abu Dhabi Bank\\n     </div>\\n     <div class=\"company-code\">\\n      <span class=\"rank d-none\">\\n      </span>\\n      FAB.AE\\n     </div>\\n    </a>\\n   </div>\\n  </td>\\n  <td class=\"td-right\" data-sort=\"41509762332\">\\n   $41.50 B\\n  </td>\\n  <td class=\"td-right\" data-sort=\"376\">\\n   $3.76\\n  </td>\\n  <td class=\"rh-sm\" data-sort=\"147\">\\n   <span class=\"percentage-green\">\\n    <svg class=\"a\" viewBox=\"0 0 12 12\">\\n     <path d=\"M10 8H2l4-4 4 4z\">\\n     </path>\\n    </svg>\\n    1.47%\\n   </span>\\n  </td>\\n  <td class=\"p-0 sparkline-td red\">\\n   <svg>\\n    <path d=\"M0,5 5,6 10,3 15,3 20,7 25,6 30,5 35,6 40,7 45,11 50,16 55,16 60,19 65,20 70,19 75,17 80,17 85,20 90,21 95,21 100,24 105,20 110,22 115,34 120,41 125,41 130,41 135,39\">\\n    </path>\\n   </svg>\\n  </td>\\n  <td>\\n   <span class=\"responsive-hidden\">\\n    UAE\\n   </span>\\n  </td>\\n </tr>\\n <tr>\\n  <td class=\"rank-td td-right\" data-sort=\"72\">\\n   72\\n  </td>\\n  <td class=\"name-td\">\\n   <div class=\"logo-container\">\\n    <img alt=\"Banco Santander Brasil logo\" class=\"company-logo\" loading=\"lazy\" src=\"/img/company-logos/64/BSBR.png\"/>\\n   </div>\\n   <div class=\"name-div\">\\n    <a href=\"/banco-santander-brasil/marketcap/\">\\n     <div class=\"company-name\">\\n      Banco Santander Brasil\\n     </div>\\n     <div class=\"company-code\">\\n      <span class=\"rank d-none\">\\n      </span>\\n      BSBR\\n     </div>\\n    </a>\\n   </div>\\n  </td>\\n  <td class=\"td-right\" data-sort=\"40973520896\">\\n   $40.97 B\\n  </td>\\n  <td class=\"td-right\" data-sort=\"551\">\\n   $5.51\\n  </td>\\n  <td class=\"rh-sm\" data-sort=\"223\">\\n   <span class=\"percentage-green\">\\n    <svg class=\"a\" viewBox=\"0 0 12 12\">\\n     <path d=\"M10 8H2l4-4 4 4z\">\\n     </path>\\n    </svg>\\n    2.23%\\n   </span>\\n  </td>\\n  <td class=\"p-0 sparkline-td green\">\\n   <svg>\\n    <path d=\"M0,28 5,28 10,28 15,41 20,34 25,28 30,19 35,21 40,11 45,3 50,10 55,11 60,11 65,18 70,18 75,19 80,20 85,28 90,23 95,20 100,16 105,22 110,23 115,18 120,29 125,29 130,33 135,30 140,32 145,22 150,28 155,24\">\\n    </path>\\n   </svg>\\n  </td>\\n  <td>\\n   <img class=\"flag\" src=\"/img/flags/br.png\"/>\\n   <span class=\"responsive-hidden\">\\n    Brazil\\n   </span>\\n  </td>\\n </tr>\\n <tr>\\n  <td class=\"rank-td td-right\" data-sort=\"73\">\\n   73\\n  </td>\\n  <td class=\"name-td\">\\n   <div class=\"logo-container\">\\n    <img alt=\"Mizuho Financial Group\\n logo\" class=\"company-logo\" data-img-dark-path=\"/img/company-logos/64/MFG.D.png\" data-img-path=\"/img/company-logos/64/MFG.png\" loading=\"lazy\" src=\"/img/company-logos/64/MFG.png\"/>\\n   </div>\\n   <div class=\"name-div\">\\n    <a href=\"/mizuho-financial-group/marketcap/\">\\n     <div class=\"company-name\">\\n      Mizuho Financial Group\\n     </div>\\n     <div class=\"company-code\">\\n      <span class=\"rank d-none\">\\n      </span>\\n      MFG\\n     </div>\\n    </a>\\n   </div>\\n  </td>\\n  <td class=\"td-right\" data-sort=\"40801906688\">\\n   $40.80 B\\n  </td>\\n  <td class=\"td-right\" data-sort=\"322\">\\n   $3.22\\n  </td>\\n  <td class=\"rh-sm\" data-sort=\"158\">\\n   <span class=\"percentage-green\">\\n    <svg class=\"a\" viewBox=\"0 0 12 12\">\\n     <path d=\"M10 8H2l4-4 4 4z\">\\n     </path>\\n    </svg>\\n    1.58%\\n   </span>\\n  </td>\\n  <td class=\"p-0 sparkline-td green\">\\n   <svg>\\n    <path d=\"M0,41 5,38 10,38 15,37 20,31 25,36 30,32 35,36 40,32 45,33 50,15 55,3 60,3 65,11 70,12 75,15 80,15 85,19 90,13 95,12 100,12 105,6 110,10 115,13 120,11 125,11 130,13 135,19 140,9 145,9 150,12 155,8\">\\n    </path>\\n   </svg>\\n  </td>\\n  <td>\\n   <img class=\"flag\" src=\"/img/flags/jp.png\"/>\\n   <span class=\"responsive-hidden\">\\n    Japan\\n   </span>\\n  </td>\\n </tr>\\n <tr>\\n  <td class=\"rank-td td-right\" data-sort=\"74\">\\n   74\\n  </td>\\n  <td class=\"name-td\">\\n   <div class=\"logo-container\">\\n    <img alt=\"Ping An Bank\\n logo\" class=\"company-logo\" loading=\"lazy\" src=\"/img/company-logos/64/000001.SZ.png\"/>\\n   </div>\\n   <div class=\"name-div\">\\n    <a href=\"/ping-an-bank/marketcap/\">\\n     <div class=\"company-name\">\\n      Ping An Bank\\n     </div>\\n     <div class=\"company-code\">\\n      <span class=\"rank d-none\">\\n      </span>\\n      000001.SZ\\n     </div>\\n    </a>\\n   </div>\\n  </td>\\n  <td class=\"td-right\" data-sort=\"40488689501\">\\n   $40.48 B\\n  </td>\\n  <td class=\"td-right\" data-sort=\"209\">\\n   $2.09\\n  </td>\\n  <td class=\"rh-sm\" data-sort=\"-106\">\\n   <span class=\"percentage-red\">\\n    <svg class=\"a\" viewBox=\"0 0 12 12\">\\n     <path d=\"m2 4h8l-4 4z\">\\n     </path>\\n    </svg>\\n    1.06%\\n   </span>\\n  </td>\\n  <td class=\"p-0 sparkline-td green\">\\n   <svg>\\n    <path d=\"M0,41 5,39 10,39 15,28 20,18 25,15 30,12 35,9 40,16 45,12 50,12 55,7 60,4 65,6 70,4 75,4 80,3 85,3 90,3 95,3 100,3 105,3 110,3 115,6 120,11 125,13 130,18 135,24 140,20 145,23 150,21 155,24\">\\n    </path>\\n   </svg>\\n  </td>\\n  <td>\\n   <img class=\"flag\" src=\"/img/flags/cn.png\"/>\\n   <span class=\"responsive-hidden\">\\n    China\\n   </span>\\n  </td>\\n </tr>\\n <tr>\\n  <td class=\"rank-td td-right\" data-sort=\"75\">\\n   75\\n  </td>\\n  <td class=\"name-td\">\\n   <div class=\"logo-container\">\\n    <img alt=\"UniCredit logo\" class=\"company-logo\" loading=\"lazy\" src=\"/img/company-logos/64/UCG.MI.png\"/>\\n   </div>\\n   <div class=\"name-div\">\\n    <a href=\"/unicredit/marketcap/\">\\n     <div class=\"company-name\">\\n      UniCredit\\n     </div>\\n     <div class=\"company-code\">\\n      <span class=\"rank d-none\">\\n      </span>\\n      UCG.MI\\n     </div>\\n    </a>\\n   </div>\\n  </td>\\n  <td class=\"td-right\" data-sort=\"39477292395\">\\n   $39.47 B\\n  </td>\\n  <td class=\"td-right\" data-sort=\"2035\">\\n   $20.35\\n  </td>\\n  <td class=\"rh-sm\" data-sort=\"-122\">\\n   <span class=\"percentage-red\">\\n    <svg class=\"a\" viewBox=\"0 0 12 12\">\\n     <path d=\"m2 4h8l-4 4z\">\\n     </path>\\n    </svg>\\n    1.22%\\n   </span>\\n  </td>\\n  <td class=\"p-0 sparkline-td green\">\\n   <svg>\\n    <path d=\"M0,41 5,41 10,40 15,37 20,33 25,33 30,31 35,32 40,32 45,34 50,32 55,31 60,31 65,32 70,32 75,32 80,30 85,29 90,28 95,27 100,25 105,24 110,23 115,10 120,9 125,9 130,9 135,7 140,8 145,8 150,3 155,5\">\\n    </path>\\n   </svg>\\n  </td>\\n  <td>\\n   <img class=\"flag\" src=\"/img/flags/it.png\"/>\\n   <span class=\"responsive-hidden\">\\n    Italy\\n   </span>\\n  </td>\\n </tr>\\n <tr>\\n  <td class=\"rank-td td-right\" data-sort=\"76\">\\n   76\\n  </td>\\n  <td class=\"name-td\">\\n   <div class=\"logo-container\">\\n    <img alt=\"UOB logo\" class=\"company-logo\" loading=\"lazy\" src=\"/img/company-logos/64/U11.SI.png\"/>\\n   </div>\\n   <div class=\"name-div\">\\n    <a href=\"/uob/marketcap/\">\\n     <div class=\"company-name\">\\n      UOB\\n     </div>\\n     <div class=\"company-code\">\\n      <span class=\"rank d-none\">\\n      </span>\\n      U11.SI\\n     </div>\\n    </a>\\n   </div>\\n  </td>\\n  <td class=\"td-right\" data-sort=\"38684684652\">\\n   $38.68 B\\n  </td>\\n  <td class=\"td-right\" data-sort=\"2310\">\\n   $23.10\\n  </td>\\n  <td class=\"rh-sm\" data-sort=\"49\">\\n   <span class=\"percentage-green\">\\n    <svg class=\"a\" viewBox=\"0 0 12 12\">\\n     <path d=\"M10 8H2l4-4 4 4z\">\\n     </path>\\n    </svg>\\n    0.49%\\n   </span>\\n  </td>\\n  <td class=\"p-0 sparkline-td red\">\\n   <svg>\\n    <path d=\"M0,7 5,9 10,9 15,9 20,14 25,3 30,6 35,9 40,22 45,22 50,26 55,12 60,31 65,37 70,38 75,41 80,37 85,37 90,37 95,26 100,21 105,20 110,22 115,28 120,30 125,32 130,20 135,17 140,12 145,6 150,15 155,12\">\\n    </path>\\n   </svg>\\n  </td>\\n  <td>\\n   <img class=\"flag\" src=\"/img/flags/sg.png\"/>\\n   <span class=\"responsive-hidden\">\\n    Singapore\\n   </span>\\n  </td>\\n </tr>\\n <tr>\\n  <td class=\"rank-td td-right\" data-sort=\"77\">\\n   77\\n  </td>\\n  <td class=\"name-td\">\\n   <div class=\"logo-container\">\\n    <img alt=\"Crédit Agricole logo\" class=\"company-logo\" data-img-dark-path=\"/img/company-logos/64/ACA.PA.D.png\" data-img-path=\"/img/company-logos/64/ACA.PA.png\" loading=\"lazy\" src=\"/img/company-logos/64/ACA.PA.png\"/>\\n   </div>\\n   <div class=\"name-div\">\\n    <a href=\"/credit-agricole/marketcap/\">\\n     <div class=\"company-name\">\\n      Crédit Agricole\\n     </div>\\n     <div class=\"company-code\">\\n      <span class=\"rank d-none\">\\n      </span>\\n      ACA.PA\\n     </div>\\n    </a>\\n   </div>\\n  </td>\\n  <td class=\"td-right\" data-sort=\"37980768201\">\\n   $37.98 B\\n  </td>\\n  <td class=\"td-right\" data-sort=\"1256\">\\n   $12.56\\n  </td>\\n  <td class=\"rh-sm\" data-sort=\"-111\">\\n   <span class=\"percentage-red\">\\n    <svg class=\"a\" viewBox=\"0 0 12 12\">\\n     <path d=\"m2 4h8l-4 4z\">\\n     </path>\\n    </svg>\\n    1.11%\\n   </span>\\n  </td>\\n  <td class=\"p-0 sparkline-td green\">\\n   <svg>\\n    <path d=\"M0,40 5,41 10,38 15,35 20,30 25,29 30,27 35,27 40,28 45,29 50,27 55,28 60,25 65,26 70,25 75,29 80,27 85,26 90,24 95,24 100,20 105,18 110,18 115,16 120,16 125,13 130,12 135,16 140,14 145,13 150,3 155,6\">\\n    </path>\\n   </svg>\\n  </td>\\n  <td>\\n   <img class=\"flag\" src=\"/img/flags/fr.png\"/>\\n   <span class=\"responsive-hidden\">\\n    France\\n   </span>\\n  </td>\\n </tr>\\n <tr>\\n  <td class=\"rank-td td-right\" data-sort=\"78\">\\n   78\\n  </td>\\n  <td class=\"name-td\">\\n   <div class=\"logo-container\">\\n    <img alt=\"Ameriprise Financial\\n logo\" class=\"company-logo\" data-img-dark-path=\"/img/company-logos/64/AMP.D.png\" data-img-path=\"/img/company-logos/64/AMP.png\" loading=\"lazy\" src=\"/img/company-logos/64/AMP.png\"/>\\n   </div>\\n   <div class=\"name-div\">\\n    <a href=\"/ameriprise-financial/marketcap/\">\\n     <div class=\"company-name\">\\n      Ameriprise Financial\\n     </div>\\n     <div class=\"company-code\">\\n      <span class=\"rank d-none\">\\n      </span>\\n      AMP\\n     </div>\\n    </a>\\n   </div>\\n  </td>\\n  <td class=\"td-right\" data-sort=\"36826570752\">\\n   $36.82 B\\n  </td>\\n  <td class=\"td-right\" data-sort=\"34973\">\\n   $349.73\\n  </td>\\n  <td class=\"rh-sm\" data-sort=\"42\">\\n   <span class=\"percentage-green\">\\n    <svg class=\"a\" viewBox=\"0 0 12 12\">\\n     <path d=\"M10 8H2l4-4 4 4z\">\\n     </path>\\n    </svg>\\n    0.42%\\n   </span>\\n  </td>\\n  <td class=\"p-0 sparkline-td green\">\\n   <svg>\\n    <path d=\"M0,38 5,39 10,39 15,39 20,38 25,41 30,31 35,31 40,32 45,23 50,22 55,21 60,21 65,18 70,25 75,29 80,21 85,16 90,14 95,13 100,9 105,11 110,12 115,7 120,3 125,9 130,3 135,6 140,4 145,5 150,8 155,7\">\\n    </path>\\n   </svg>\\n  </td>\\n  <td>\\n   <img class=\"flag\" src=\"/img/flags/us.png\"/>\\n   <span class=\"responsive-hidden\">\\n    USA\\n   </span>\\n  </td>\\n </tr>\\n <tr>\\n  <td class=\"rank-td td-right\" data-sort=\"79\">\\n   79\\n  </td>\\n  <td class=\"name-td\">\\n   <div class=\"logo-container\">\\n    <img alt=\"Manulife Financial logo\" class=\"company-logo\" data-img-dark-path=\"/img/company-logos/64/MFC.D.png\" data-img-path=\"/img/company-logos/64/MFC.png\" loading=\"lazy\" src=\"/img/company-logos/64/MFC.png\"/>\\n   </div>\\n   <div class=\"name-div\">\\n    <a href=\"/manulife-financial/marketcap/\">\\n     <div class=\"company-name\">\\n      Manulife Financial\\n     </div>\\n     <div class=\"company-code\">\\n      <span class=\"rank d-none\">\\n      </span>\\n      MFC\\n     </div>\\n    </a>\\n   </div>\\n  </td>\\n  <td class=\"td-right\" data-sort=\"36463484928\">\\n   $36.46 B\\n  </td>\\n  <td class=\"td-right\" data-sort=\"1955\">\\n   $19.55\\n  </td>\\n  <td class=\"rh-sm\" data-sort=\"62\">\\n   <span class=\"percentage-green\">\\n    <svg class=\"a\" viewBox=\"0 0 12 12\">\\n     <path d=\"M10 8H2l4-4 4 4z\">\\n     </path>\\n    </svg>\\n    0.62%\\n   </span>\\n  </td>\\n  <td class=\"p-0 sparkline-td green\">\\n   <svg>\\n    <path d=\"M0,39 5,41 10,41 15,41 20,33 25,38 30,32 35,31 40,31 45,25 50,22 55,22 60,22 65,20 70,26 75,27 80,20 85,19 90,17 95,13 100,5 105,10 110,12 115,7 120,3 125,9 130,11 135,17 140,14 145,14 150,13 155,11\">\\n    </path>\\n   </svg>\\n  </td>\\n  <td>\\n   <img class=\"flag\" src=\"/img/flags/ca.png\"/>\\n   <span class=\"responsive-hidden\">\\n    Canada\\n   </span>\\n  </td>\\n </tr>\\n <tr>\\n  <td class=\"rank-td td-right\" data-sort=\"80\">\\n   80\\n  </td>\\n  <td class=\"name-td\">\\n   <div class=\"logo-container\">\\n    <img alt=\"NatWest Group logo\" class=\"company-logo\" loading=\"lazy\" src=\"/img/company-logos/64/NWG.png\"/>\\n   </div>\\n   <div class=\"name-div\">\\n    <a href=\"/natwest-group/marketcap/\">\\n     <div class=\"company-name\">\\n      NatWest Group\\n     </div>\\n     <div class=\"company-code\">\\n      <span class=\"rank d-none\">\\n      </span>\\n      NWG\\n     </div>\\n    </a>\\n   </div>\\n  </td>\\n  <td class=\"td-right\" data-sort=\"36134031360\">\\n   $36.13 B\\n  </td>\\n  <td class=\"td-right\" data-sort=\"747\">\\n   $7.47\\n  </td>\\n  <td class=\"rh-sm\" data-sort=\"-80\">\\n   <span class=\"percentage-red\">\\n    <svg class=\"a\" viewBox=\"0 0 12 12\">\\n     <path d=\"m2 4h8l-4 4z\">\\n     </path>\\n    </svg>\\n    0.80%\\n   </span>\\n  </td>\\n  <td class=\"p-0 sparkline-td green\">\\n   <svg>\\n    <path d=\"M0,40 5,41 10,41 15,39 20,35 25,33 30,30 35,31 40,32 45,29 50,21 55,15 60,15 65,12 70,13 75,15 80,12 85,11 90,13 95,7 100,5 105,4 110,4 115,4 120,3 125,5 130,11 135,14 140,10 145,11 150,10 155,11\">\\n    </path>\\n   </svg>\\n  </td>\\n  <td>\\n   <img class=\"flag\" src=\"/img/flags/uk.png\"/>\\n   <span class=\"responsive-hidden\">\\n    UK\\n   </span>\\n  </td>\\n </tr>\\n <tr>\\n  <td class=\"rank-td td-right\" data-sort=\"81\">\\n   81\\n  </td>\\n  <td class=\"name-td\">\\n   <div class=\"logo-container\">\\n    <img alt=\"Sea (Garena) logo\" class=\"company-logo\" loading=\"lazy\" src=\"/img/company-logos/64/SE.png\"/>\\n   </div>\\n   <div class=\"name-div\">\\n    <a href=\"/sea/marketcap/\">\\n     <div class=\"company-name\">\\n      Sea (Garena)\\n     </div>\\n     <div class=\"company-code\">\\n      <span class=\"rank d-none\">\\n      </span>\\n      SE\\n     </div>\\n    </a>\\n   </div>\\n  </td>\\n  <td class=\"td-right\" data-sort=\"35951230976\">\\n   $35.95 B\\n  </td>\\n  <td class=\"td-right\" data-sort=\"6400\">\\n   $64.00\\n  </td>\\n  <td class=\"rh-sm\" data-sort=\"-493\">\\n   <span class=\"percentage-red\">\\n    <svg class=\"a\" viewBox=\"0 0 12 12\">\\n     <path d=\"m2 4h8l-4 4z\">\\n     </path>\\n    </svg>\\n    4.93%\\n   </span>\\n  </td>\\n  <td class=\"p-0 sparkline-td green\">\\n   <svg>\\n    <path d=\"M0,40 5,41 10,41 15,39 20,34 25,34 30,34 35,39 40,37 45,32 50,29 55,26 60,26 65,22 70,22 75,24 80,15 85,14 90,19 95,18 100,13 105,10 110,18 115,18 120,10 125,3 130,7 135,15 140,10 145,11 150,13 155,19\">\\n    </path>\\n   </svg>\\n  </td>\\n  <td>\\n   <img class=\"flag\" src=\"/img/flags/sg.png\"/>\\n   <span class=\"responsive-hidden\">\\n    Singapore\\n   </span>\\n  </td>\\n </tr>\\n <tr>\\n  <td class=\"rank-td td-right\" data-sort=\"82\">\\n   82\\n  </td>\\n  <td class=\"name-td\">\\n   <div class=\"logo-container\">\\n    <img alt=\"Interactive Brokers\\n logo\" class=\"company-logo\" loading=\"lazy\" src=\"/img/company-logos/64/IBKR.png\"/>\\n   </div>\\n   <div class=\"name-div\">\\n    <a href=\"/interactive-brokers/marketcap/\">\\n     <div class=\"company-name\">\\n      Interactive Brokers\\n     </div>\\n     <div class=\"company-code\">\\n      <span class=\"rank d-none\">\\n      </span>\\n      IBKR\\n     </div>\\n    </a>\\n   </div>\\n  </td>\\n  <td class=\"td-right\" data-sort=\"35932327936\">\\n   $35.93 B\\n  </td>\\n  <td class=\"td-right\" data-sort=\"8621\">\\n   $86.21\\n  </td>\\n  <td class=\"rh-sm\" data-sort=\"-16\">\\n   <span class=\"percentage-red\">\\n    <svg class=\"a\" viewBox=\"0 0 12 12\">\\n     <path d=\"m2 4h8l-4 4z\">\\n     </path>\\n    </svg>\\n    0.16%\\n   </span>\\n  </td>\\n  <td class=\"p-0 sparkline-td green\">\\n   <svg>\\n    <path d=\"M0,37 5,39 10,39 15,41 20,39 25,40 30,35 35,32 40,30 45,33 50,32 55,26 60,26 65,26 70,17 75,22 80,22 85,19 90,22 95,23 100,22 105,25 110,25 115,19 120,13 125,17 130,9 135,8 140,4 145,3 150,3 155,3\">\\n    </path>\\n   </svg>\\n  </td>\\n  <td>\\n   <img class=\"flag\" src=\"/img/flags/us.png\"/>\\n   <span class=\"responsive-hidden\">\\n    USA\\n   </span>\\n  </td>\\n </tr>\\n <tr>\\n  <td class=\"rank-td td-right\" data-sort=\"83\">\\n   83\\n  </td>\\n  <td class=\"name-td\">\\n   <div class=\"logo-container\">\\n    <img alt=\"Barclays logo\" class=\"company-logo\" loading=\"lazy\" src=\"/img/company-logos/64/BCS.png\"/>\\n   </div>\\n   <div class=\"name-div\">\\n    <a href=\"/barclays/marketcap/\">\\n     <div class=\"company-name\">\\n      Barclays\\n     </div>\\n     <div class=\"company-code\">\\n      <span class=\"rank d-none\">\\n      </span>\\n      BCS\\n     </div>\\n    </a>\\n   </div>\\n  </td>\\n  <td class=\"td-right\" data-sort=\"35920805888\">\\n   $35.92 B\\n  </td>\\n  <td class=\"td-right\" data-sort=\"905\">\\n   $9.05\\n  </td>\\n  <td class=\"rh-sm\" data-sort=\"-163\">\\n   <span class=\"percentage-red\">\\n    <svg class=\"a\" viewBox=\"0 0 12 12\">\\n     <path d=\"m2 4h8l-4 4z\">\\n     </path>\\n    </svg>\\n    1.63%\\n   </span>\\n  </td>\\n  <td class=\"p-0 sparkline-td green\">\\n   <svg>\\n    <path d=\"M0,41 5,41 10,41 15,37 20,29 25,27 30,25 35,24 40,24 45,22 50,17 55,13 60,13 65,11 70,11 75,14 80,13 85,10 90,13 95,8 100,4 105,4 110,5 115,5 120,3 125,5 130,8 135,10 140,6 145,7 150,7 155,10\">\\n    </path>\\n   </svg>\\n  </td>\\n  <td>\\n   <img class=\"flag\" src=\"/img/flags/uk.png\"/>\\n   <span class=\"responsive-hidden\">\\n    UK\\n   </span>\\n  </td>\\n </tr>\\n <tr>\\n  <td class=\"rank-td td-right\" data-sort=\"84\">\\n   84\\n  </td>\\n  <td class=\"name-td\">\\n   <div class=\"logo-container\">\\n    <img alt=\"Bank of China (Hong Kong) logo\" class=\"company-logo\" loading=\"lazy\" src=\"/img/company-logos/64/2388.HK.png\"/>\\n   </div>\\n   <div class=\"name-div\">\\n    <a href=\"/boc-hong-kong/marketcap/\">\\n     <div class=\"company-name\">\\n      Bank of China (Hong Kong)\\n     </div>\\n     <div class=\"company-code\">\\n      <span class=\"rank d-none\">\\n      </span>\\n      2388.HK\\n     </div>\\n    </a>\\n   </div>\\n  </td>\\n  <td class=\"td-right\" data-sort=\"35540531993\">\\n   $35.54 B\\n  </td>\\n  <td class=\"td-right\" data-sort=\"336\">\\n   $3.36\\n  </td>\\n  <td class=\"rh-sm\" data-sort=\"-19\">\\n   <span class=\"percentage-red\">\\n    <svg class=\"a\" viewBox=\"0 0 12 12\">\\n     <path d=\"m2 4h8l-4 4z\">\\n     </path>\\n    </svg>\\n    0.19%\\n   </span>\\n  </td>\\n  <td class=\"p-0 sparkline-td red\">\\n   <svg>\\n    <path d=\"M0,27 5,30 10,30 15,26 20,16 25,11 30,8 35,12 40,10 45,8 50,6 55,7 60,7 65,20 70,24 75,23 80,17 85,17 90,17 95,17 100,10 105,7 110,3 115,14 120,20 125,36 130,39 135,41 140,38 145,36 150,37 155,38\">\\n    </path>\\n   </svg>\\n  </td>\\n  <td>\\n   <img class=\"flag\" src=\"/img/flags/hk.png\"/>\\n   <span class=\"responsive-hidden\">\\n    Hong Kong\\n   </span>\\n  </td>\\n </tr>\\n <tr>\\n  <td class=\"rank-td td-right\" data-sort=\"85\">\\n   85\\n  </td>\\n  <td class=\"name-td\">\\n   <div class=\"logo-container\">\\n    <img alt=\"Experian logo\" class=\"company-logo\" data-img-dark-path=\"/img/company-logos/64/EXPGF.D.png\" data-img-path=\"/img/company-logos/64/EXPGF.png\" loading=\"lazy\" src=\"/img/company-logos/64/EXPGF.png\"/>\\n   </div>\\n   <div class=\"name-div\">\\n    <a href=\"/experian/marketcap/\">\\n     <div class=\"company-name\">\\n      Experian\\n     </div>\\n     <div class=\"company-code\">\\n      <span class=\"rank d-none\">\\n      </span>\\n      EXPGF\\n     </div>\\n    </a>\\n   </div>\\n  </td>\\n  <td class=\"td-right\" data-sort=\"34926596096\">\\n   $34.92 B\\n  </td>\\n  <td class=\"td-right\" data-sort=\"3791\">\\n   $37.91\\n  </td>\\n  <td class=\"rh-sm\" data-sort=\"0\">\\n   <span class=\"percentage-green\">\\n    <svg class=\"a\" viewBox=\"0 0 12 12\">\\n     <path d=\"M10 8H2l4-4 4 4z\">\\n     </path>\\n    </svg>\\n    0.00%\\n   </span>\\n  </td>\\n  <td class=\"p-0 sparkline-td green\">\\n   <svg>\\n    <path d=\"M0,35 5,41 10,41 15,41 20,41 25,41 30,41 35,31 40,31 45,31 50,31 55,31 60,31 65,31 70,6 75,16 80,16 85,16 90,16 95,27 100,27 105,27 110,27 115,27 120,19 125,3 130,8 135,8 140,8 145,8 150,8 155,8\">\\n    </path>\\n   </svg>\\n  </td>\\n  <td>\\n   <img class=\"flag\" src=\"/img/flags/ie.png\"/>\\n   <span class=\"responsive-hidden\">\\n    Ireland\\n   </span>\\n  </td>\\n </tr>\\n <tr>\\n  <td class=\"rank-td td-right\" data-sort=\"86\">\\n   86\\n  </td>\\n  <td class=\"name-td\">\\n   <div class=\"logo-container\">\\n    <img alt=\"Japan Post Bank\\n logo\" class=\"company-logo\" loading=\"lazy\" src=\"/img/company-logos/64/7182.T.png\"/>\\n   </div>\\n   <div class=\"name-div\">\\n    <a href=\"/japan-post-bank/marketcap/\">\\n     <div class=\"company-name\">\\n      Japan Post Bank\\n     </div>\\n     <div class=\"company-code\">\\n      <span class=\"rank d-none\">\\n      </span>\\n      7182.T\\n     </div>\\n    </a>\\n   </div>\\n  </td>\\n  <td class=\"td-right\" data-sort=\"34035634214\">\\n   $34.03 B\\n  </td>\\n  <td class=\"td-right\" data-sort=\"908\">\\n   $9.08\\n  </td>\\n  <td class=\"rh-sm\" data-sort=\"69\">\\n   <span class=\"percentage-green\">\\n    <svg class=\"a\" viewBox=\"0 0 12 12\">\\n     <path d=\"M10 8H2l4-4 4 4z\">\\n     </path>\\n    </svg>\\n    0.69%\\n   </span>\\n  </td>\\n  <td class=\"p-0 sparkline-td green\">\\n   <svg>\\n    <path d=\"M0,40 5,35 10,35 15,35 20,34 25,41 30,35 35,35 40,38 45,31 50,13 55,3 60,17 65,21 70,24 75,34 80,35 85,34 90,23 95,28 100,29 105,20 110,18 115,22 120,20 125,27 130,27 135,26 140,20 145,13 150,17 155,13\">\\n    </path>\\n   </svg>\\n  </td>\\n  <td>\\n   <img class=\"flag\" src=\"/img/flags/jp.png\"/>\\n   <span class=\"responsive-hidden\">\\n    Japan\\n   </span>\\n  </td>\\n </tr>\\n <tr>\\n  <td class=\"rank-td td-right\" data-sort=\"87\">\\n   87\\n  </td>\\n  <td class=\"name-td\">\\n   <div class=\"logo-container\">\\n    <img alt=\"Deutsche Börse logo\" class=\"company-logo\" data-img-dark-path=\"/img/company-logos/64/DB1.DE.D.png\" data-img-path=\"/img/company-logos/64/DB1.DE.png\" loading=\"lazy\" src=\"/img/company-logos/64/DB1.DE.png\"/>\\n   </div>\\n   <div class=\"name-div\">\\n    <a href=\"/deutsche-boerse/marketcap/\">\\n     <div class=\"company-name\">\\n      Deutsche Börse\\n     </div>\\n     <div class=\"company-code\">\\n      <span class=\"rank d-none\">\\n      </span>\\n      DB1.DE\\n     </div>\\n    </a>\\n   </div>\\n  </td>\\n  <td class=\"td-right\" data-sort=\"33791546268\">\\n   $33.79 B\\n  </td>\\n  <td class=\"td-right\" data-sort=\"18403\">\\n   $184.03\\n  </td>\\n  <td class=\"rh-sm\" data-sort=\"6\">\\n   <span class=\"percentage-green\">\\n    <svg class=\"a\" viewBox=\"0 0 12 12\">\\n     <path d=\"M10 8H2l4-4 4 4z\">\\n     </path>\\n    </svg>\\n    0.06%\\n   </span>\\n  </td>\\n  <td class=\"p-0 sparkline-td green\">\\n   <svg>\\n    <path d=\"M0,20 5,28 10,27 15,29 20,34 25,40 30,41 35,32 40,24 45,23 50,25 55,23 60,19 65,21 70,16 75,14 80,19 85,26 90,25 95,24 100,26 105,21 110,24 115,19 120,13 125,3 130,11 135,9 140,12 145,13 150,3 155,3\">\\n    </path>\\n   </svg>\\n  </td>\\n  <td>\\n   <img class=\"flag\" src=\"/img/flags/de.png\"/>\\n   <span class=\"responsive-hidden\">\\n    Germany\\n   </span>\\n  </td>\\n </tr>\\n <tr>\\n  <td class=\"rank-td td-right\" data-sort=\"88\">\\n   88\\n  </td>\\n  <td class=\"name-td\">\\n   <div class=\"logo-container\">\\n    <img alt=\"Axis Bank\\n logo\" class=\"company-logo\" data-img-dark-path=\"/img/company-logos/64/AXISBANK.BO.D.png\" data-img-path=\"/img/company-logos/64/AXISBANK.BO.png\" loading=\"lazy\" src=\"/img/company-logos/64/AXISBANK.BO.png\"/>\\n   </div>\\n   <div class=\"name-div\">\\n    <a href=\"/axis-bank/marketcap/\">\\n     <div class=\"company-name\">\\n      Axis Bank\\n     </div>\\n     <div class=\"company-code\">\\n      <span class=\"rank d-none\">\\n      </span>\\n      AXISBANK.BO\\n     </div>\\n    </a>\\n   </div>\\n  </td>\\n  <td class=\"td-right\" data-sort=\"32659912786\">\\n   $32.65 B\\n  </td>\\n  <td class=\"td-right\" data-sort=\"1067\">\\n   $10.67\\n  </td>\\n  <td class=\"rh-sm\" data-sort=\"-8\">\\n   <span class=\"percentage-red\">\\n    <svg class=\"a\" viewBox=\"0 0 12 12\">\\n     <path d=\"m2 4h8l-4 4z\">\\n     </path>\\n    </svg>\\n    0.08%\\n   </span>\\n  </td>\\n  <td class=\"p-0 sparkline-td red\">\\n   <svg>\\n    <path d=\"M0,13 5,13 10,11 15,3 20,5 25,8 30,11 35,4 40,7 45,8 50,13 55,13 60,21 65,19 70,17 75,15 80,15 85,14 90,22 95,29 100,29 105,35 110,36 115,36 120,41 125,37 130,32 135,32 140,33 145,36 150,37 155,37\">\\n    </path>\\n   </svg>\\n  </td>\\n  <td>\\n   <img class=\"flag\" src=\"/img/flags/in.png\"/>\\n   <span class=\"responsive-hidden\">\\n    India\\n   </span>\\n  </td>\\n </tr>\\n <tr>\\n  <td class=\"rank-td td-right\" data-sort=\"89\">\\n   89\\n  </td>\\n  <td class=\"name-td\">\\n   <div class=\"logo-container\">\\n    <img alt=\"CaixaBank logo\" class=\"company-logo\" loading=\"lazy\" src=\"/img/company-logos/64/CABK.MC.png\"/>\\n   </div>\\n   <div class=\"name-div\">\\n    <a href=\"/caixabank/marketcap/\">\\n     <div class=\"company-name\">\\n      CaixaBank\\n     </div>\\n     <div class=\"company-code\">\\n      <span class=\"rank d-none\">\\n      </span>\\n      CABK.MC\\n     </div>\\n    </a>\\n   </div>\\n  </td>\\n  <td class=\"td-right\" data-sort=\"32345548705\">\\n   $32.34 B\\n  </td>\\n  <td class=\"td-right\" data-sort=\"431\">\\n   $4.31\\n  </td>\\n  <td class=\"rh-sm\" data-sort=\"-181\">\\n   <span class=\"percentage-red\">\\n    <svg class=\"a\" viewBox=\"0 0 12 12\">\\n     <path d=\"m2 4h8l-4 4z\">\\n     </path>\\n    </svg>\\n    1.81%\\n   </span>\\n  </td>\\n  <td class=\"p-0 sparkline-td green\">\\n   <svg>\\n    <path d=\"M0,41 5,40 10,37 15,25 20,23 25,20 30,20 35,25 40,20 45,27 50,22 55,18 60,24 65,24 70,17 75,23 80,14 85,13 90,12 95,16 100,11 105,7 110,7 115,4 120,3 125,12 130,22 135,13 140,13 145,7 150,6 155,13\">\\n    </path>\\n   </svg>\\n  </td>\\n  <td>\\n   <img class=\"flag\" src=\"/img/flags/es.png\"/>\\n   <span class=\"responsive-hidden\">\\n    Spain\\n   </span>\\n  </td>\\n </tr>\\n <tr>\\n  <td class=\"rank-td td-right\" data-sort=\"90\">\\n   90\\n  </td>\\n  <td class=\"name-td\">\\n   <div class=\"logo-container\">\\n    <img alt=\"CITIC Bank logo\" class=\"company-logo\" loading=\"lazy\" src=\"/img/company-logos/64/601998.SS.png\"/>\\n   </div>\\n   <div class=\"name-div\">\\n    <a href=\"/citic-bank/marketcap/\">\\n     <div class=\"company-name\">\\n      CITIC Bank\\n     </div>\\n     <div class=\"company-code\">\\n      <span class=\"rank d-none\">\\n      </span>\\n      601998.SS\\n     </div>\\n    </a>\\n   </div>\\n  </td>\\n  <td class=\"td-right\" data-sort=\"32330034566\">\\n   $32.33 B\\n  </td>\\n  <td class=\"td-right\" data-sort=\"74\">\\n   $0.74\\n  </td>\\n  <td class=\"rh-sm\" data-sort=\"0\">\\n   <span class=\"percentage-green\">\\n    <svg class=\"a\" viewBox=\"0 0 12 12\">\\n     <path d=\"M10 8H2l4-4 4 4z\">\\n     </path>\\n    </svg>\\n    0.00%\\n   </span>\\n  </td>\\n  <td class=\"p-0 sparkline-td green\">\\n   <svg>\\n    <path d=\"M0,39 5,28 10,28 15,28 20,5 25,16 30,16 35,7 40,18 45,16 50,9 55,3 60,11 65,7 70,11 75,11 80,9 85,9 90,9 95,9 100,9 105,9 110,9 115,14 120,16 125,20 130,30 135,37 140,35 145,41 150,37 155,37\">\\n    </path>\\n   </svg>\\n  </td>\\n  <td>\\n   <img class=\"flag\" src=\"/img/flags/cn.png\"/>\\n   <span class=\"responsive-hidden\">\\n    China\\n   </span>\\n  </td>\\n </tr>\\n <tr>\\n  <td class=\"rank-td td-right\" data-sort=\"91\">\\n   91\\n  </td>\\n  <td class=\"name-td\">\\n   <div class=\"logo-container\">\\n    <img alt=\"State Street Corporation\\n logo\" class=\"company-logo\" data-img-dark-path=\"/img/company-logos/64/STT.D.png\" data-img-path=\"/img/company-logos/64/STT.png\" loading=\"lazy\" src=\"/img/company-logos/64/STT.png\"/>\\n   </div>\\n   <div class=\"name-div\">\\n    <a href=\"/state-street-corporation/marketcap/\">\\n     <div class=\"company-name\">\\n      State Street Corporation\\n     </div>\\n     <div class=\"company-code\">\\n      <span class=\"rank d-none\">\\n      </span>\\n      STT\\n     </div>\\n    </a>\\n   </div>\\n  </td>\\n  <td class=\"td-right\" data-sort=\"32312641536\">\\n   $32.31 B\\n  </td>\\n  <td class=\"td-right\" data-sort=\"9258\">\\n   $92.58\\n  </td>\\n  <td class=\"rh-sm\" data-sort=\"5\">\\n   <span class=\"percentage-green\">\\n    <svg class=\"a\" viewBox=\"0 0 12 12\">\\n     <path d=\"M10 8H2l4-4 4 4z\">\\n     </path>\\n    </svg>\\n    0.05%\\n   </span>\\n  </td>\\n  <td class=\"p-0 sparkline-td green\">\\n   <svg>\\n    <path d=\"M0,39 5,41 10,41 15,39 20,36 25,38 30,34 35,33 40,32 45,30 50,30 55,28 60,28 65,28 70,32 75,34 80,25 85,20 90,19 95,16 100,11 105,10 110,11 115,8 120,6 125,6 130,9 135,10 140,5 145,3 150,6 155,5\">\\n    </path>\\n   </svg>\\n  </td>\\n  <td>\\n   <img class=\"flag\" src=\"/img/flags/us.png\"/>\\n   <span class=\"responsive-hidden\">\\n    USA\\n   </span>\\n  </td>\\n </tr>\\n <tr>\\n  <td class=\"rank-td td-right\" data-sort=\"92\">\\n   92\\n  </td>\\n  <td class=\"name-td\">\\n   <div class=\"logo-container\">\\n    <img alt=\"Global Payments logo\" class=\"company-logo\" data-img-dark-path=\"/img/company-logos/64/GPN.D.png\" data-img-path=\"/img/company-logos/64/GPN.png\" loading=\"lazy\" src=\"/img/company-logos/64/GPN.png\"/>\\n   </div>\\n   <div class=\"name-div\">\\n    <a href=\"/global-payments/marketcap/\">\\n     <div class=\"company-name\">\\n      Global Payments\\n     </div>\\n     <div class=\"company-code\">\\n      <span class=\"rank d-none\">\\n      </span>\\n      GPN\\n     </div>\\n    </a>\\n   </div>\\n  </td>\\n  <td class=\"td-right\" data-sort=\"31874867200\">\\n   $31.87 B\\n  </td>\\n  <td class=\"td-right\" data-sort=\"11788\">\\n   $117.88\\n  </td>\\n  <td class=\"rh-sm\" data-sort=\"559\">\\n   <span class=\"percentage-green\">\\n    <svg class=\"a\" viewBox=\"0 0 12 12\">\\n     <path d=\"M10 8H2l4-4 4 4z\">\\n     </path>\\n    </svg>\\n    5.59%\\n   </span>\\n  </td>\\n  <td class=\"p-0 sparkline-td green\">\\n   <svg>\\n    <path d=\"M0,41 5,41 10,41 15,39 20,32 25,35 30,29 35,26 40,29 45,28 50,22 55,24 60,24 65,16 70,21 75,22 80,15 85,12 90,14 95,16 100,14 105,14 110,18 115,13 120,8 125,7 130,13 135,17 140,10 145,16 150,16 155,3\">\\n    </path>\\n   </svg>\\n  </td>\\n  <td>\\n   <img class=\"flag\" src=\"/img/flags/us.png\"/>\\n   <span class=\"responsive-hidden\">\\n    USA\\n   </span>\\n  </td>\\n </tr>\\n <tr>\\n  <td class=\"rank-td td-right\" data-sort=\"93\">\\n   93\\n  </td>\\n  <td class=\"name-td\">\\n   <div class=\"logo-container\">\\n    <img alt=\"Bank Mandiri logo\" class=\"company-logo\" data-img-dark-path=\"/img/company-logos/64/BMRI.JK.D.png\" data-img-path=\"/img/company-logos/64/BMRI.JK.png\" loading=\"lazy\" src=\"/img/company-logos/64/BMRI.JK.png\"/>\\n   </div>\\n   <div class=\"name-div\">\\n    <a href=\"/bank-mandiri/marketcap/\">\\n     <div class=\"company-name\">\\n      Bank Mandiri\\n     </div>\\n     <div class=\"company-code\">\\n      <span class=\"rank d-none\">\\n      </span>\\n      BMRI.JK\\n     </div>\\n    </a>\\n   </div>\\n  </td>\\n  <td class=\"td-right\" data-sort=\"31750247937\">\\n   $31.75 B\\n  </td>\\n  <td class=\"td-right\" data-sort=\"68\">\\n   $0.68\\n  </td>\\n  <td class=\"rh-sm\" data-sort=\"49\">\\n   <span class=\"percentage-green\">\\n    <svg class=\"a\" viewBox=\"0 0 12 12\">\\n     <path d=\"M10 8H2l4-4 4 4z\">\\n     </path>\\n    </svg>\\n    0.49%\\n   </span>\\n  </td>\\n  <td class=\"p-0 sparkline-td green\">\\n   <svg>\\n    <path d=\"M0,12 5,12 10,14 15,15 20,13 25,11 30,16 35,17 40,19 45,32 50,41 55,34 60,35 65,31 70,18 75,24 80,18 85,12 90,14 95,20 100,16 105,11 110,13 115,13 120,20 125,19 130,14 135,15 140,7 145,6 150,4 155,3\">\\n    </path>\\n   </svg>\\n  </td>\\n  <td>\\n   <img class=\"flag\" src=\"/img/flags/id.png\"/>\\n   <span class=\"responsive-hidden\">\\n    Indonesia\\n   </span>\\n  </td>\\n </tr>\\n <tr>\\n  <td class=\"rank-td td-right\" data-sort=\"94\">\\n   94\\n  </td>\\n  <td class=\"name-td\">\\n   <div class=\"logo-container\">\\n    <img alt=\"Shanghai Pudong Development Bank\\n logo\" class=\"company-logo\" loading=\"lazy\" src=\"/img/company-logos/64/600000.SS.png\"/>\\n   </div>\\n   <div class=\"name-div\">\\n    <a href=\"/shanghai-pudong-development-bank/marketcap/\">\\n     <div class=\"company-name\">\\n      Shanghai Pudong Development Bank\\n     </div>\\n     <div class=\"company-code\">\\n      <span class=\"rank d-none\">\\n      </span>\\n      600000.SS\\n     </div>\\n    </a>\\n   </div>\\n  </td>\\n  <td class=\"td-right\" data-sort=\"31715531256\">\\n   $31.71 B\\n  </td>\\n  <td class=\"td-right\" data-sort=\"108\">\\n   $1.08\\n  </td>\\n  <td class=\"rh-sm\" data-sort=\"-28\">\\n   <span class=\"percentage-red\">\\n    <svg class=\"a\" viewBox=\"0 0 12 12\">\\n     <path d=\"m2 4h8l-4 4z\">\\n     </path>\\n    </svg>\\n    0.28%\\n   </span>\\n  </td>\\n  <td class=\"p-0 sparkline-td green\">\\n   <svg>\\n    <path d=\"M0,39 5,30 10,30 15,41 20,23 25,14 30,16 35,16 40,30 45,25 50,32 55,16 60,19 65,25 70,23 75,19 80,12 85,12 90,12 95,12 100,12 105,12 110,3 115,10 120,12 125,12 130,32 135,37 140,39 145,41 150,34 155,39\">\\n    </path>\\n   </svg>\\n  </td>\\n  <td>\\n   <img class=\"flag\" src=\"/img/flags/cn.png\"/>\\n   <span class=\"responsive-hidden\">\\n    China\\n   </span>\\n  </td>\\n </tr>\\n <tr>\\n  <td class=\"rank-td td-right\" data-sort=\"95\">\\n   95\\n  </td>\\n  <td class=\"name-td\">\\n   <div class=\"logo-container\">\\n    <img alt=\"Hang Seng Bank\\n logo\" class=\"company-logo\" loading=\"lazy\" src=\"/img/company-logos/64/0011.HK.png\"/>\\n   </div>\\n   <div class=\"name-div\">\\n    <a href=\"/hang-seng-bank/marketcap/\">\\n     <div class=\"company-name\">\\n      Hang Seng Bank\\n     </div>\\n     <div class=\"company-code\">\\n      <span class=\"rank d-none\">\\n      </span>\\n      0011.HK\\n     </div>\\n    </a>\\n   </div>\\n  </td>\\n  <td class=\"td-right\" data-sort=\"30872457851\">\\n   $30.87 B\\n  </td>\\n  <td class=\"td-right\" data-sort=\"1615\">\\n   $16.15\\n  </td>\\n  <td class=\"rh-sm\" data-sort=\"56\">\\n   <span class=\"percentage-green\">\\n    <svg class=\"a\" viewBox=\"0 0 12 12\">\\n     <path d=\"M10 8H2l4-4 4 4z\">\\n     </path>\\n    </svg>\\n    0.56%\\n   </span>\\n  </td>\\n  <td class=\"p-0 sparkline-td red\">\\n   <svg>\\n    <path d=\"M0,15 5,17 10,17 15,17 20,10 25,13 30,10 35,12 40,21 45,27 50,24 55,21 60,25 65,28 70,25 75,27 80,24 85,24 90,24 95,24 100,18 105,10 110,3 115,15 120,21 125,31 130,36 135,39 140,41 145,35 150,36 155,33\">\\n    </path>\\n   </svg>\\n  </td>\\n  <td>\\n   <img class=\"flag\" src=\"/img/flags/hk.png\"/>\\n   <span class=\"responsive-hidden\">\\n    Hong Kong\\n   </span>\\n  </td>\\n </tr>\\n <tr>\\n  <td class=\"rank-td td-right\" data-sort=\"96\">\\n   96\\n  </td>\\n  <td class=\"name-td\">\\n   <div class=\"logo-container\">\\n    <img alt=\"Discover Financial Services logo\" class=\"company-logo\" loading=\"lazy\" src=\"/img/company-logos/64/DFS.png\"/>\\n   </div>\\n   <div class=\"name-div\">\\n    <a href=\"/discover-financial-services/marketcap/\">\\n     <div class=\"company-name\">\\n      Discover Financial Services\\n     </div>\\n     <div class=\"company-code\">\\n      <span class=\"rank d-none\">\\n      </span>\\n      DFS\\n     </div>\\n    </a>\\n   </div>\\n  </td>\\n  <td class=\"td-right\" data-sort=\"30705000448\">\\n   $30.70 B\\n  </td>\\n  <td class=\"td-right\" data-sort=\"11500\">\\n   $115.00\\n  </td>\\n  <td class=\"rh-sm\" data-sort=\"41\">\\n   <span class=\"percentage-green\">\\n    <svg class=\"a\" viewBox=\"0 0 12 12\">\\n     <path d=\"M10 8H2l4-4 4 4z\">\\n     </path>\\n    </svg>\\n    0.41%\\n   </span>\\n  </td>\\n  <td class=\"p-0 sparkline-td green\">\\n   <svg>\\n    <path d=\"M0,40 5,40 10,40 15,41 20,34 25,37 30,31 35,29 40,26 45,24 50,25 55,23 60,23 65,26 70,32 75,33 80,25 85,18 90,16 95,10 100,10 105,5 110,11 115,7 120,8 125,5 130,3 135,6 140,5 145,9 150,11 155,10\">\\n    </path>\\n   </svg>\\n  </td>\\n  <td>\\n   <img class=\"flag\" src=\"/img/flags/us.png\"/>\\n   <span class=\"responsive-hidden\">\\n    USA\\n   </span>\\n  </td>\\n </tr>\\n <tr>\\n  <td class=\"rank-td td-right\" data-sort=\"97\">\\n   97\\n  </td>\\n  <td class=\"name-td\">\\n   <div class=\"logo-container\">\\n    <img alt=\"DNB logo\" class=\"company-logo\" loading=\"lazy\" src=\"/img/company-logos/64/DNB.OL.png\"/>\\n   </div>\\n   <div class=\"name-div\">\\n    <a href=\"/dnb/marketcap/\">\\n     <div class=\"company-name\">\\n      DNB\\n     </div>\\n     <div class=\"company-code\">\\n      <span class=\"rank d-none\">\\n      </span>\\n      DNB.OL\\n     </div>\\n    </a>\\n   </div>\\n  </td>\\n  <td class=\"td-right\" data-sort=\"29853123785\">\\n   $29.85 B\\n  </td>\\n  <td class=\"td-right\" data-sort=\"1926\">\\n   $19.26\\n  </td>\\n  <td class=\"rh-sm\" data-sort=\"77\">\\n   <span class=\"percentage-green\">\\n    <svg class=\"a\" viewBox=\"0 0 12 12\">\\n     <path d=\"M10 8H2l4-4 4 4z\">\\n     </path>\\n    </svg>\\n    0.77%\\n   </span>\\n  </td>\\n  <td class=\"p-0 sparkline-td red\">\\n   <svg>\\n    <path d=\"M0,16 5,16 10,12 15,9 20,4 25,3 30,6 35,5 40,18 45,23 50,21 55,22 60,29 65,32 70,40 75,41 80,40 85,34 90,35 95,33 100,36 105,31 110,34 115,34 120,30 125,31 130,25 135,26 140,24 145,25 150,27 155,24\">\\n    </path>\\n   </svg>\\n  </td>\\n  <td>\\n   <img class=\"flag\" src=\"/img/flags/no.png\"/>\\n   <span class=\"responsive-hidden\">\\n    Norway\\n   </span>\\n  </td>\\n </tr>\\n <tr>\\n  <td class=\"rank-td td-right\" data-sort=\"98\">\\n   98\\n  </td>\\n  <td class=\"name-td\">\\n   <div class=\"logo-container\">\\n    <img alt=\"Sun Life Financial\\n logo\" class=\"company-logo\" loading=\"lazy\" src=\"/img/company-logos/64/SLF.png\"/>\\n   </div>\\n   <div class=\"name-div\">\\n    <a href=\"/sun-life-financial/marketcap/\">\\n     <div class=\"company-name\">\\n      Sun Life Financial\\n     </div>\\n     <div class=\"company-code\">\\n      <span class=\"rank d-none\">\\n      </span>\\n      SLF\\n     </div>\\n    </a>\\n   </div>\\n  </td>\\n  <td class=\"td-right\" data-sort=\"29767933952\">\\n   $29.76 B\\n  </td>\\n  <td class=\"td-right\" data-sort=\"5071\">\\n   $50.71\\n  </td>\\n  <td class=\"rh-sm\" data-sort=\"0\">\\n   <span class=\"percentage-green\">\\n    <svg class=\"a\" viewBox=\"0 0 12 12\">\\n     <path d=\"M10 8H2l4-4 4 4z\">\\n     </path>\\n    </svg>\\n    0.00%\\n   </span>\\n  </td>\\n  <td class=\"p-0 sparkline-td green\">\\n   <svg>\\n    <path d=\"M0,37 5,41 10,41 15,41 20,31 25,39 30,32 35,35 40,37 45,30 50,24 55,24 60,24 65,22 70,28 75,27 80,18 85,18 90,18 95,18 100,10 105,11 110,14 115,7 120,5 125,7 130,9 135,10 140,8 145,8 150,3 155,3\">\\n    </path>\\n   </svg>\\n  </td>\\n  <td>\\n   <img class=\"flag\" src=\"/img/flags/ca.png\"/>\\n   <span class=\"responsive-hidden\">\\n    Canada\\n   </span>\\n  </td>\\n </tr>\\n <tr>\\n  <td class=\"rank-td td-right\" data-sort=\"99\">\\n   99\\n  </td>\\n  <td class=\"name-td\">\\n   <div class=\"logo-container\">\\n    <img alt=\"Nasdaq logo\" class=\"company-logo\" loading=\"lazy\" src=\"/img/company-logos/64/NDAQ.png\"/>\\n   </div>\\n   <div class=\"name-div\">\\n    <a href=\"/nasdaq/marketcap/\">\\n     <div class=\"company-name\">\\n      Nasdaq\\n     </div>\\n     <div class=\"company-code\">\\n      <span class=\"rank d-none\">\\n      </span>\\n      NDAQ\\n     </div>\\n    </a>\\n   </div>\\n  </td>\\n  <td class=\"td-right\" data-sort=\"29290113024\">\\n   $29.29 B\\n  </td>\\n  <td class=\"td-right\" data-sort=\"5962\">\\n   $59.62\\n  </td>\\n  <td class=\"rh-sm\" data-sort=\"109\">\\n   <span class=\"percentage-green\">\\n    <svg class=\"a\" viewBox=\"0 0 12 12\">\\n     <path d=\"M10 8H2l4-4 4 4z\">\\n     </path>\\n    </svg>\\n    1.09%\\n   </span>\\n  </td>\\n  <td class=\"p-0 sparkline-td red\">\\n   <svg>\\n    <path d=\"M0,14 5,18 10,18 15,15 20,16 25,26 30,16 35,9 40,9 45,6 50,6 55,3 60,3 65,3 70,7 75,21 80,13 85,11 90,14 95,41 100,27 105,25 110,31 115,27 120,32 125,24 130,24 135,34 140,29 145,31 150,36 155,31\">\\n    </path>\\n   </svg>\\n  </td>\\n  <td>\\n   <img class=\"flag\" src=\"/img/flags/us.png\"/>\\n   <span class=\"responsive-hidden\">\\n    USA\\n   </span>\\n  </td>\\n </tr>\\n <tr>\\n  <td class=\"rank-td td-right\" data-sort=\"100\">\\n   100\\n  </td>\\n  <td class=\"name-td\">\\n   <div class=\"logo-container\">\\n    <img alt=\"Bajaj Finserv logo\" class=\"company-logo\" loading=\"lazy\" src=\"/img/company-logos/64/BAJAJFINSV.NS.png\"/>\\n   </div>\\n   <div class=\"name-div\">\\n    <a href=\"/bajaj-finserv/marketcap/\">\\n     <div class=\"company-name\">\\n      Bajaj Finserv\\n     </div>\\n     <div class=\"company-code\">\\n      <span class=\"rank d-none\">\\n      </span>\\n      BAJAJFINSV.NS\\n     </div>\\n    </a>\\n   </div>\\n  </td>\\n  <td class=\"td-right\" data-sort=\"27481718633\">\\n   $27.48 B\\n  </td>\\n  <td class=\"td-right\" data-sort=\"1725\">\\n   $17.25\\n  </td>\\n  <td class=\"rh-sm\" data-sort=\"11\">\\n   <span class=\"percentage-green\">\\n    <svg class=\"a\" viewBox=\"0 0 12 12\">\\n     <path d=\"M10 8H2l4-4 4 4z\">\\n     </path>\\n    </svg>\\n    0.11%\\n   </span>\\n  </td>\\n  <td class=\"p-0 sparkline-td red\">\\n   <svg>\\n    <path d=\"M0,10 5,5 10,4 15,3 20,5 25,15 30,20 35,22 40,22 45,24 50,26 55,25 60,26 65,28 70,28 75,30 80,33 85,33 90,33 95,35 100,35 105,35 110,31 115,31 120,41 125,41 130,32 135,31 140,30 145,28 150,24 155,24\">\\n    </path>\\n   </svg>\\n  </td>\\n  <td>\\n   <img class=\"flag\" src=\"/img/flags/in.png\"/>\\n   <span class=\"responsive-hidden\">\\n    India\\n   </span>\\n  </td>\\n </tr>\\n</tbody>\\n'"
            ],
            "application/vnd.google.colaboratory.intrinsic+json": {
              "type": "string"
            }
          },
          "metadata": {},
          "execution_count": 78
        }
      ]
    },
    {
      "cell_type": "markdown",
      "source": [
        "*Scraping One Row*\n",
        "\n",
        "We can extract one row (company details) by applying same method like before to the `table` variable.\n",
        "Each row is in an HTML element with the `tr` tag.\n",
        "\n",
        "\n"
      ],
      "metadata": {
        "id": "IosqnT0MN35M"
      }
    },
    {
      "cell_type": "code",
      "source": [
        "first_row = table.find('tr')\n"
      ],
      "metadata": {
        "id": "6JHOikmjOW7y"
      },
      "execution_count": 79,
      "outputs": []
    },
    {
      "cell_type": "code",
      "source": [
        "print(first_row.prettify())"
      ],
      "metadata": {
        "colab": {
          "base_uri": "https://localhost:8080/"
        },
        "id": "rDQ4SFbU4mbd",
        "outputId": "68a5335a-0043-4bdd-83bf-a297510e55d8"
      },
      "execution_count": 80,
      "outputs": [
        {
          "output_type": "stream",
          "name": "stdout",
          "text": [
            "<tr>\n",
            " <td class=\"rank-td td-right\" data-sort=\"1\">\n",
            "  1\n",
            " </td>\n",
            " <td class=\"name-td\">\n",
            "  <div class=\"logo-container\">\n",
            "   <img alt=\"Visa logo\" class=\"company-logo\" data-img-dark-path=\"/img/company-logos/64/V.D.png\" data-img-path=\"/img/company-logos/64/V.png\" loading=\"lazy\" src=\"/img/company-logos/64/V.png\"/>\n",
            "  </div>\n",
            "  <div class=\"name-div\">\n",
            "   <a href=\"/visa/marketcap/\">\n",
            "    <div class=\"company-name\">\n",
            "     Visa\n",
            "    </div>\n",
            "    <div class=\"company-code\">\n",
            "     <span class=\"rank d-none\">\n",
            "     </span>\n",
            "     V\n",
            "    </div>\n",
            "   </a>\n",
            "  </div>\n",
            " </td>\n",
            " <td class=\"td-right\" data-sort=\"477526654976\">\n",
            "  $477.52 B\n",
            " </td>\n",
            " <td class=\"td-right\" data-sort=\"22720\">\n",
            "  $227.20\n",
            " </td>\n",
            " <td class=\"rh-sm\" data-sort=\"-94\">\n",
            "  <span class=\"percentage-red\">\n",
            "   <svg class=\"a\" viewBox=\"0 0 12 12\">\n",
            "    <path d=\"m2 4h8l-4 4z\">\n",
            "    </path>\n",
            "   </svg>\n",
            "   0.94%\n",
            "  </span>\n",
            " </td>\n",
            " <td class=\"p-0 sparkline-td green\">\n",
            "  <svg>\n",
            "   <path d=\"M0,40 5,40 10,41 15,33 20,35 25,25 30,23 35,19 40,18 45,15 50,16 55,16 60,16 65,22 70,20 75,14 80,14 85,15 90,13 95,14 100,3 105,7 110,5 115,4 120,6 125,5 130,6 135,3 140,5 145,6 150,10 155,10\">\n",
            "   </path>\n",
            "  </svg>\n",
            " </td>\n",
            " <td>\n",
            "  <img class=\"flag\" src=\"/img/flags/us.png\"/>\n",
            "  <span class=\"responsive-hidden\">\n",
            "   USA\n",
            "  </span>\n",
            " </td>\n",
            "</tr>\n",
            "\n"
          ]
        }
      ]
    },
    {
      "cell_type": "markdown",
      "source": [
        "*Using the first_row variable, we can extract specific information like Company name, market cap, price, etc.*"
      ],
      "metadata": {
        "id": "h5XgxBx2Oy0n"
      }
    },
    {
      "cell_type": "code",
      "source": [
        "first_row.find('div', {'class': 'company-name'})"
      ],
      "metadata": {
        "id": "qKn9QIO9PHp0",
        "colab": {
          "base_uri": "https://localhost:8080/"
        },
        "outputId": "439665fd-d1dc-49cd-c81a-f2232aa4f732"
      },
      "execution_count": 81,
      "outputs": [
        {
          "output_type": "execute_result",
          "data": {
            "text/plain": [
              "<div class=\"company-name\">Visa</div>"
            ]
          },
          "metadata": {},
          "execution_count": 81
        }
      ]
    },
    {
      "cell_type": "markdown",
      "source": [
        "*Using the `text` attribute to retrieve the content of the HTML element.*"
      ],
      "metadata": {
        "id": "NgtmJH5SPfGS"
      }
    },
    {
      "cell_type": "code",
      "source": [
        "company = first_row.find('div', {'class': 'company-name'}).text\n",
        "company"
      ],
      "metadata": {
        "id": "2UPAIKw3PcYi",
        "colab": {
          "base_uri": "https://localhost:8080/",
          "height": 35
        },
        "outputId": "f36ebd11-7c29-42bb-fc90-082f49933f3d"
      },
      "execution_count": 82,
      "outputs": [
        {
          "output_type": "execute_result",
          "data": {
            "text/plain": [
              "'Visa'"
            ],
            "application/vnd.google.colaboratory.intrinsic+json": {
              "type": "string"
            }
          },
          "metadata": {},
          "execution_count": 82
        }
      ]
    },
    {
      "cell_type": "markdown",
      "source": [
        "Ticker"
      ],
      "metadata": {
        "id": "4Matf7BkQU0a"
      }
    },
    {
      "cell_type": "code",
      "source": [
        "ticker = first_row.find('div', {'class': 'company-code'}).text\n",
        "ticker"
      ],
      "metadata": {
        "id": "BnLC38FEP1GX",
        "colab": {
          "base_uri": "https://localhost:8080/",
          "height": 35
        },
        "outputId": "c2eef5ed-7542-42ec-9f7a-5417a47b4cb5"
      },
      "execution_count": 83,
      "outputs": [
        {
          "output_type": "execute_result",
          "data": {
            "text/plain": [
              "'V'"
            ],
            "application/vnd.google.colaboratory.intrinsic+json": {
              "type": "string"
            }
          },
          "metadata": {},
          "execution_count": 83
        }
      ]
    },
    {
      "cell_type": "markdown",
      "source": [
        "Market Cap."
      ],
      "metadata": {
        "id": "2eM9vn9RQW9j"
      }
    },
    {
      "cell_type": "code",
      "source": [
        "market_cap = first_row.find_all('td', {'class': 'td-right'})[1].text\n",
        "market_cap"
      ],
      "metadata": {
        "id": "bcg8fSzTQ2k6",
        "colab": {
          "base_uri": "https://localhost:8080/",
          "height": 35
        },
        "outputId": "5eb61f2d-08c7-42a4-bd1c-682454b7f7dd"
      },
      "execution_count": 84,
      "outputs": [
        {
          "output_type": "execute_result",
          "data": {
            "text/plain": [
              "'$477.52 B'"
            ],
            "application/vnd.google.colaboratory.intrinsic+json": {
              "type": "string"
            }
          },
          "metadata": {},
          "execution_count": 84
        }
      ]
    },
    {
      "cell_type": "markdown",
      "source": [
        "Price"
      ],
      "metadata": {
        "id": "DA9tglkrQZKb"
      }
    },
    {
      "cell_type": "code",
      "source": [
        "price = first_row.find_all('td', {'class': 'td-right'})[2].text\n",
        "price"
      ],
      "metadata": {
        "id": "R3uVrvZcQ29U",
        "colab": {
          "base_uri": "https://localhost:8080/",
          "height": 35
        },
        "outputId": "4b6a40d2-b28b-49c5-c5d8-47591aaa39ef"
      },
      "execution_count": 85,
      "outputs": [
        {
          "output_type": "execute_result",
          "data": {
            "text/plain": [
              "'$227.20'"
            ],
            "application/vnd.google.colaboratory.intrinsic+json": {
              "type": "string"
            }
          },
          "metadata": {},
          "execution_count": 85
        }
      ]
    },
    {
      "cell_type": "markdown",
      "source": [
        "Daily Change Value"
      ],
      "metadata": {
        "id": "NSSp3TOJQacs"
      }
    },
    {
      "cell_type": "code",
      "source": [
        "daily_change = first_row.find_all('span')[1].text\n",
        "daily_change"
      ],
      "metadata": {
        "id": "pzObGwqcQ3Vq",
        "colab": {
          "base_uri": "https://localhost:8080/",
          "height": 35
        },
        "outputId": "108a9f21-d332-4d8e-fd88-f33687e76468"
      },
      "execution_count": 86,
      "outputs": [
        {
          "output_type": "execute_result",
          "data": {
            "text/plain": [
              "'0.94%'"
            ],
            "application/vnd.google.colaboratory.intrinsic+json": {
              "type": "string"
            }
          },
          "metadata": {},
          "execution_count": 86
        }
      ]
    },
    {
      "cell_type": "markdown",
      "source": [
        "Daily Change Color"
      ],
      "metadata": {
        "id": "TcVtbXs3kEVb"
      }
    },
    {
      "cell_type": "code",
      "source": [
        "daily_change_color = first_row.find_all('span')[1].get('class')\n",
        "daily_change_color\n"
      ],
      "metadata": {
        "id": "i_vpaNx7kI0J",
        "colab": {
          "base_uri": "https://localhost:8080/"
        },
        "outputId": "cdc0bb1c-89da-479e-823c-b70930be9bf8"
      },
      "execution_count": 87,
      "outputs": [
        {
          "output_type": "execute_result",
          "data": {
            "text/plain": [
              "['percentage-red']"
            ]
          },
          "metadata": {},
          "execution_count": 87
        }
      ]
    },
    {
      "cell_type": "markdown",
      "source": [
        "Country"
      ],
      "metadata": {
        "id": "S6sBfZDpQcKK"
      }
    },
    {
      "cell_type": "code",
      "source": [
        "country = first_row.find_all('span', {'class': 'responsive-hidden'})[0].text\n",
        "country"
      ],
      "metadata": {
        "id": "c9GExLoMQ3ss",
        "colab": {
          "base_uri": "https://localhost:8080/",
          "height": 35
        },
        "outputId": "5c6bfedf-7850-43cf-9da5-fcad30fada31"
      },
      "execution_count": 88,
      "outputs": [
        {
          "output_type": "execute_result",
          "data": {
            "text/plain": [
              "'USA'"
            ],
            "application/vnd.google.colaboratory.intrinsic+json": {
              "type": "string"
            }
          },
          "metadata": {},
          "execution_count": 88
        }
      ]
    },
    {
      "cell_type": "markdown",
      "source": [
        "*Summarizing the data by creating a Pandas Data Frame.*"
      ],
      "metadata": {
        "id": "6lSRRNoZSynk"
      }
    },
    {
      "cell_type": "code",
      "source": [
        "first_row = pd.DataFrame(\n",
        "    {\n",
        "        'Company' : company,\n",
        "        'Ticker' : ticker,\n",
        "        'Market Cap.' : market_cap,\n",
        "        'Price' : price,\n",
        "        'Daily Change' : daily_change,\n",
        "        'Daily Difference': daily_change_color,\n",
        "        'Country' : country\n",
        "    },\n",
        "    index=[0])\n",
        "first_row"
      ],
      "metadata": {
        "id": "6FvDhYqnSwpE",
        "colab": {
          "base_uri": "https://localhost:8080/",
          "height": 81
        },
        "outputId": "df36df8c-f03d-41fe-8c06-9c1d0b642444"
      },
      "execution_count": 89,
      "outputs": [
        {
          "output_type": "execute_result",
          "data": {
            "text/plain": [
              "  Company Ticker Market Cap.    Price Daily Change Daily Difference Country\n",
              "0    Visa      V   $477.52 B  $227.20        0.94%   percentage-red     USA"
            ],
            "text/html": [
              "\n",
              "  <div id=\"df-dffea5b3-eb16-4aae-b8ed-dda29905d295\">\n",
              "    <div class=\"colab-df-container\">\n",
              "      <div>\n",
              "<style scoped>\n",
              "    .dataframe tbody tr th:only-of-type {\n",
              "        vertical-align: middle;\n",
              "    }\n",
              "\n",
              "    .dataframe tbody tr th {\n",
              "        vertical-align: top;\n",
              "    }\n",
              "\n",
              "    .dataframe thead th {\n",
              "        text-align: right;\n",
              "    }\n",
              "</style>\n",
              "<table border=\"1\" class=\"dataframe\">\n",
              "  <thead>\n",
              "    <tr style=\"text-align: right;\">\n",
              "      <th></th>\n",
              "      <th>Company</th>\n",
              "      <th>Ticker</th>\n",
              "      <th>Market Cap.</th>\n",
              "      <th>Price</th>\n",
              "      <th>Daily Change</th>\n",
              "      <th>Daily Difference</th>\n",
              "      <th>Country</th>\n",
              "    </tr>\n",
              "  </thead>\n",
              "  <tbody>\n",
              "    <tr>\n",
              "      <th>0</th>\n",
              "      <td>Visa</td>\n",
              "      <td>V</td>\n",
              "      <td>$477.52 B</td>\n",
              "      <td>$227.20</td>\n",
              "      <td>0.94%</td>\n",
              "      <td>percentage-red</td>\n",
              "      <td>USA</td>\n",
              "    </tr>\n",
              "  </tbody>\n",
              "</table>\n",
              "</div>\n",
              "      <button class=\"colab-df-convert\" onclick=\"convertToInteractive('df-dffea5b3-eb16-4aae-b8ed-dda29905d295')\"\n",
              "              title=\"Convert this dataframe to an interactive table.\"\n",
              "              style=\"display:none;\">\n",
              "        \n",
              "  <svg xmlns=\"http://www.w3.org/2000/svg\" height=\"24px\"viewBox=\"0 0 24 24\"\n",
              "       width=\"24px\">\n",
              "    <path d=\"M0 0h24v24H0V0z\" fill=\"none\"/>\n",
              "    <path d=\"M18.56 5.44l.94 2.06.94-2.06 2.06-.94-2.06-.94-.94-2.06-.94 2.06-2.06.94zm-11 1L8.5 8.5l.94-2.06 2.06-.94-2.06-.94L8.5 2.5l-.94 2.06-2.06.94zm10 10l.94 2.06.94-2.06 2.06-.94-2.06-.94-.94-2.06-.94 2.06-2.06.94z\"/><path d=\"M17.41 7.96l-1.37-1.37c-.4-.4-.92-.59-1.43-.59-.52 0-1.04.2-1.43.59L10.3 9.45l-7.72 7.72c-.78.78-.78 2.05 0 2.83L4 21.41c.39.39.9.59 1.41.59.51 0 1.02-.2 1.41-.59l7.78-7.78 2.81-2.81c.8-.78.8-2.07 0-2.86zM5.41 20L4 18.59l7.72-7.72 1.47 1.35L5.41 20z\"/>\n",
              "  </svg>\n",
              "      </button>\n",
              "      \n",
              "  <style>\n",
              "    .colab-df-container {\n",
              "      display:flex;\n",
              "      flex-wrap:wrap;\n",
              "      gap: 12px;\n",
              "    }\n",
              "\n",
              "    .colab-df-convert {\n",
              "      background-color: #E8F0FE;\n",
              "      border: none;\n",
              "      border-radius: 50%;\n",
              "      cursor: pointer;\n",
              "      display: none;\n",
              "      fill: #1967D2;\n",
              "      height: 32px;\n",
              "      padding: 0 0 0 0;\n",
              "      width: 32px;\n",
              "    }\n",
              "\n",
              "    .colab-df-convert:hover {\n",
              "      background-color: #E2EBFA;\n",
              "      box-shadow: 0px 1px 2px rgba(60, 64, 67, 0.3), 0px 1px 3px 1px rgba(60, 64, 67, 0.15);\n",
              "      fill: #174EA6;\n",
              "    }\n",
              "\n",
              "    [theme=dark] .colab-df-convert {\n",
              "      background-color: #3B4455;\n",
              "      fill: #D2E3FC;\n",
              "    }\n",
              "\n",
              "    [theme=dark] .colab-df-convert:hover {\n",
              "      background-color: #434B5C;\n",
              "      box-shadow: 0px 1px 3px 1px rgba(0, 0, 0, 0.15);\n",
              "      filter: drop-shadow(0px 1px 2px rgba(0, 0, 0, 0.3));\n",
              "      fill: #FFFFFF;\n",
              "    }\n",
              "  </style>\n",
              "\n",
              "      <script>\n",
              "        const buttonEl =\n",
              "          document.querySelector('#df-dffea5b3-eb16-4aae-b8ed-dda29905d295 button.colab-df-convert');\n",
              "        buttonEl.style.display =\n",
              "          google.colab.kernel.accessAllowed ? 'block' : 'none';\n",
              "\n",
              "        async function convertToInteractive(key) {\n",
              "          const element = document.querySelector('#df-dffea5b3-eb16-4aae-b8ed-dda29905d295');\n",
              "          const dataTable =\n",
              "            await google.colab.kernel.invokeFunction('convertToInteractive',\n",
              "                                                     [key], {});\n",
              "          if (!dataTable) return;\n",
              "\n",
              "          const docLinkHtml = 'Like what you see? Visit the ' +\n",
              "            '<a target=\"_blank\" href=https://colab.research.google.com/notebooks/data_table.ipynb>data table notebook</a>'\n",
              "            + ' to learn more about interactive tables.';\n",
              "          element.innerHTML = '';\n",
              "          dataTable['output_type'] = 'display_data';\n",
              "          await google.colab.output.renderOutput(dataTable, element);\n",
              "          const docLink = document.createElement('div');\n",
              "          docLink.innerHTML = docLinkHtml;\n",
              "          element.appendChild(docLink);\n",
              "        }\n",
              "      </script>\n",
              "    </div>\n",
              "  </div>\n",
              "  "
            ]
          },
          "metadata": {},
          "execution_count": 89
        }
      ]
    },
    {
      "cell_type": "markdown",
      "source": [
        "***Scrapping One Page***"
      ],
      "metadata": {
        "id": "pVGlho1lVBAL"
      }
    },
    {
      "cell_type": "markdown",
      "source": [
        "`find_all()` will be used to extract all occurences of `tr` tag from the web page, as all the data for each specific company is encapsulated in this tag."
      ],
      "metadata": {
        "id": "cTd72hAPVkIR"
      }
    },
    {
      "cell_type": "code",
      "source": [
        "table = table.find_all('tr')"
      ],
      "metadata": {
        "id": "7tLd4sAcTmU5"
      },
      "execution_count": 90,
      "outputs": []
    },
    {
      "cell_type": "code",
      "source": [
        "#Verifying the length  of the table variable confirms that all rows(companies) were successfully extracted.\n",
        "len(table)"
      ],
      "metadata": {
        "id": "uofQ5YmzWIym",
        "colab": {
          "base_uri": "https://localhost:8080/"
        },
        "outputId": "14ef4ed3-c546-4efe-83a9-205f588dda58"
      },
      "execution_count": 91,
      "outputs": [
        {
          "output_type": "execute_result",
          "data": {
            "text/plain": [
              "100"
            ]
          },
          "metadata": {},
          "execution_count": 91
        }
      ]
    },
    {
      "cell_type": "markdown",
      "source": [
        "*Using LOOP to iterate over all rows of the page.*"
      ],
      "metadata": {
        "id": "QQSR82RbWY_h"
      }
    },
    {
      "cell_type": "code",
      "source": [
        "companies, tickers, market_caps, stock_prices, price_changes, price_change_color, countries = [], [], [], [], [], [], []\n",
        "\n",
        "for i in range(len(table)):\n",
        "  companies.append(table[i].find('div', {'class': 'company-name'}).text)\n",
        "  tickers.append(table[i].find('div', {'class': 'company-code'}).text)\n",
        "  market_caps.append(table[i].find_all('td', {'class': 'td-right'})[1].text)\n",
        "  stock_prices.append(table[i].find_all('td', {'class': 'td-right'})[2].text)\n",
        "  price_changes.append(table[i].find_all('span')[1].text)\n",
        "  price_change_color.append(table[i].find_all('span')[1].get('class'))\n",
        "  countries.append(table[i].find_all('span', {'class': 'responsive-hidden'})[0].text)\n"
      ],
      "metadata": {
        "id": "-5Wdks2NWKA2"
      },
      "execution_count": 92,
      "outputs": []
    },
    {
      "cell_type": "markdown",
      "source": [
        "*Creating a Data Frame for the first page.*\n",
        "*Printing the first and last 3 rows to verify if everything is correct.*"
      ],
      "metadata": {
        "id": "w50-QrWXaifK"
      }
    },
    {
      "cell_type": "code",
      "source": [
        "first_page_df = pd.DataFrame({\n",
        "    'Company': companies,\n",
        "    'Ticker': tickers,\n",
        "    'Market Cap': market_caps,\n",
        "    'Stock Price': stock_prices,\n",
        "    'Price Change': price_changes,\n",
        "    'Price Status': price_change_color,\n",
        "    'Country': countries\n",
        "})\n",
        "\n",
        "first_page_df.iloc[[0,1,2,97,98,99]]"
      ],
      "metadata": {
        "id": "24uTsGeSa73N",
        "colab": {
          "base_uri": "https://localhost:8080/",
          "height": 238
        },
        "outputId": "2397e17f-504b-411a-cabe-2805461e415b"
      },
      "execution_count": 93,
      "outputs": [
        {
          "output_type": "execute_result",
          "data": {
            "text/plain": [
              "                 Company         Ticker Market Cap Stock Price Price Change  \\\n",
              "0                   Visa              V  $477.52 B     $227.20        0.94%   \n",
              "1         JPMorgan Chase            JPM  $413.85 B     $141.04        0.44%   \n",
              "2             Mastercard             MA  $350.68 B     $366.83        0.97%   \n",
              "97  Sun Life Financial\\n            SLF   $29.76 B      $50.71        0.00%   \n",
              "98                Nasdaq           NDAQ   $29.29 B      $59.62        1.09%   \n",
              "99         Bajaj Finserv  BAJAJFINSV.NS   $27.48 B      $17.25        0.11%   \n",
              "\n",
              "          Price Status Country  \n",
              "0     [percentage-red]     USA  \n",
              "1   [percentage-green]     USA  \n",
              "2     [percentage-red]     USA  \n",
              "97  [percentage-green]  Canada  \n",
              "98  [percentage-green]     USA  \n",
              "99  [percentage-green]   India  "
            ],
            "text/html": [
              "\n",
              "  <div id=\"df-a3811e45-1937-4ee4-bcca-c8da4faae27c\">\n",
              "    <div class=\"colab-df-container\">\n",
              "      <div>\n",
              "<style scoped>\n",
              "    .dataframe tbody tr th:only-of-type {\n",
              "        vertical-align: middle;\n",
              "    }\n",
              "\n",
              "    .dataframe tbody tr th {\n",
              "        vertical-align: top;\n",
              "    }\n",
              "\n",
              "    .dataframe thead th {\n",
              "        text-align: right;\n",
              "    }\n",
              "</style>\n",
              "<table border=\"1\" class=\"dataframe\">\n",
              "  <thead>\n",
              "    <tr style=\"text-align: right;\">\n",
              "      <th></th>\n",
              "      <th>Company</th>\n",
              "      <th>Ticker</th>\n",
              "      <th>Market Cap</th>\n",
              "      <th>Stock Price</th>\n",
              "      <th>Price Change</th>\n",
              "      <th>Price Status</th>\n",
              "      <th>Country</th>\n",
              "    </tr>\n",
              "  </thead>\n",
              "  <tbody>\n",
              "    <tr>\n",
              "      <th>0</th>\n",
              "      <td>Visa</td>\n",
              "      <td>V</td>\n",
              "      <td>$477.52 B</td>\n",
              "      <td>$227.20</td>\n",
              "      <td>0.94%</td>\n",
              "      <td>[percentage-red]</td>\n",
              "      <td>USA</td>\n",
              "    </tr>\n",
              "    <tr>\n",
              "      <th>1</th>\n",
              "      <td>JPMorgan Chase</td>\n",
              "      <td>JPM</td>\n",
              "      <td>$413.85 B</td>\n",
              "      <td>$141.04</td>\n",
              "      <td>0.44%</td>\n",
              "      <td>[percentage-green]</td>\n",
              "      <td>USA</td>\n",
              "    </tr>\n",
              "    <tr>\n",
              "      <th>2</th>\n",
              "      <td>Mastercard</td>\n",
              "      <td>MA</td>\n",
              "      <td>$350.68 B</td>\n",
              "      <td>$366.83</td>\n",
              "      <td>0.97%</td>\n",
              "      <td>[percentage-red]</td>\n",
              "      <td>USA</td>\n",
              "    </tr>\n",
              "    <tr>\n",
              "      <th>97</th>\n",
              "      <td>Sun Life Financial\\n</td>\n",
              "      <td>SLF</td>\n",
              "      <td>$29.76 B</td>\n",
              "      <td>$50.71</td>\n",
              "      <td>0.00%</td>\n",
              "      <td>[percentage-green]</td>\n",
              "      <td>Canada</td>\n",
              "    </tr>\n",
              "    <tr>\n",
              "      <th>98</th>\n",
              "      <td>Nasdaq</td>\n",
              "      <td>NDAQ</td>\n",
              "      <td>$29.29 B</td>\n",
              "      <td>$59.62</td>\n",
              "      <td>1.09%</td>\n",
              "      <td>[percentage-green]</td>\n",
              "      <td>USA</td>\n",
              "    </tr>\n",
              "    <tr>\n",
              "      <th>99</th>\n",
              "      <td>Bajaj Finserv</td>\n",
              "      <td>BAJAJFINSV.NS</td>\n",
              "      <td>$27.48 B</td>\n",
              "      <td>$17.25</td>\n",
              "      <td>0.11%</td>\n",
              "      <td>[percentage-green]</td>\n",
              "      <td>India</td>\n",
              "    </tr>\n",
              "  </tbody>\n",
              "</table>\n",
              "</div>\n",
              "      <button class=\"colab-df-convert\" onclick=\"convertToInteractive('df-a3811e45-1937-4ee4-bcca-c8da4faae27c')\"\n",
              "              title=\"Convert this dataframe to an interactive table.\"\n",
              "              style=\"display:none;\">\n",
              "        \n",
              "  <svg xmlns=\"http://www.w3.org/2000/svg\" height=\"24px\"viewBox=\"0 0 24 24\"\n",
              "       width=\"24px\">\n",
              "    <path d=\"M0 0h24v24H0V0z\" fill=\"none\"/>\n",
              "    <path d=\"M18.56 5.44l.94 2.06.94-2.06 2.06-.94-2.06-.94-.94-2.06-.94 2.06-2.06.94zm-11 1L8.5 8.5l.94-2.06 2.06-.94-2.06-.94L8.5 2.5l-.94 2.06-2.06.94zm10 10l.94 2.06.94-2.06 2.06-.94-2.06-.94-.94-2.06-.94 2.06-2.06.94z\"/><path d=\"M17.41 7.96l-1.37-1.37c-.4-.4-.92-.59-1.43-.59-.52 0-1.04.2-1.43.59L10.3 9.45l-7.72 7.72c-.78.78-.78 2.05 0 2.83L4 21.41c.39.39.9.59 1.41.59.51 0 1.02-.2 1.41-.59l7.78-7.78 2.81-2.81c.8-.78.8-2.07 0-2.86zM5.41 20L4 18.59l7.72-7.72 1.47 1.35L5.41 20z\"/>\n",
              "  </svg>\n",
              "      </button>\n",
              "      \n",
              "  <style>\n",
              "    .colab-df-container {\n",
              "      display:flex;\n",
              "      flex-wrap:wrap;\n",
              "      gap: 12px;\n",
              "    }\n",
              "\n",
              "    .colab-df-convert {\n",
              "      background-color: #E8F0FE;\n",
              "      border: none;\n",
              "      border-radius: 50%;\n",
              "      cursor: pointer;\n",
              "      display: none;\n",
              "      fill: #1967D2;\n",
              "      height: 32px;\n",
              "      padding: 0 0 0 0;\n",
              "      width: 32px;\n",
              "    }\n",
              "\n",
              "    .colab-df-convert:hover {\n",
              "      background-color: #E2EBFA;\n",
              "      box-shadow: 0px 1px 2px rgba(60, 64, 67, 0.3), 0px 1px 3px 1px rgba(60, 64, 67, 0.15);\n",
              "      fill: #174EA6;\n",
              "    }\n",
              "\n",
              "    [theme=dark] .colab-df-convert {\n",
              "      background-color: #3B4455;\n",
              "      fill: #D2E3FC;\n",
              "    }\n",
              "\n",
              "    [theme=dark] .colab-df-convert:hover {\n",
              "      background-color: #434B5C;\n",
              "      box-shadow: 0px 1px 3px 1px rgba(0, 0, 0, 0.15);\n",
              "      filter: drop-shadow(0px 1px 2px rgba(0, 0, 0, 0.3));\n",
              "      fill: #FFFFFF;\n",
              "    }\n",
              "  </style>\n",
              "\n",
              "      <script>\n",
              "        const buttonEl =\n",
              "          document.querySelector('#df-a3811e45-1937-4ee4-bcca-c8da4faae27c button.colab-df-convert');\n",
              "        buttonEl.style.display =\n",
              "          google.colab.kernel.accessAllowed ? 'block' : 'none';\n",
              "\n",
              "        async function convertToInteractive(key) {\n",
              "          const element = document.querySelector('#df-a3811e45-1937-4ee4-bcca-c8da4faae27c');\n",
              "          const dataTable =\n",
              "            await google.colab.kernel.invokeFunction('convertToInteractive',\n",
              "                                                     [key], {});\n",
              "          if (!dataTable) return;\n",
              "\n",
              "          const docLinkHtml = 'Like what you see? Visit the ' +\n",
              "            '<a target=\"_blank\" href=https://colab.research.google.com/notebooks/data_table.ipynb>data table notebook</a>'\n",
              "            + ' to learn more about interactive tables.';\n",
              "          element.innerHTML = '';\n",
              "          dataTable['output_type'] = 'display_data';\n",
              "          await google.colab.output.renderOutput(dataTable, element);\n",
              "          const docLink = document.createElement('div');\n",
              "          docLink.innerHTML = docLinkHtml;\n",
              "          element.appendChild(docLink);\n",
              "        }\n",
              "      </script>\n",
              "    </div>\n",
              "  </div>\n",
              "  "
            ]
          },
          "metadata": {},
          "execution_count": 93
        }
      ]
    },
    {
      "cell_type": "markdown",
      "source": [
        "***Check for null values***"
      ],
      "metadata": {
        "id": "lBYMjteDCI1g"
      }
    },
    {
      "cell_type": "code",
      "source": [
        "first_page_df.isnull().any()"
      ],
      "metadata": {
        "id": "-mxYCelHCQCQ",
        "colab": {
          "base_uri": "https://localhost:8080/"
        },
        "outputId": "858c8542-78f1-4df1-bb02-313e131a211a"
      },
      "execution_count": 94,
      "outputs": [
        {
          "output_type": "execute_result",
          "data": {
            "text/plain": [
              "Company         False\n",
              "Ticker          False\n",
              "Market Cap      False\n",
              "Stock Price     False\n",
              "Price Change    False\n",
              "Price Status    False\n",
              "Country         False\n",
              "dtype: bool"
            ]
          },
          "metadata": {},
          "execution_count": 94
        }
      ]
    },
    {
      "cell_type": "markdown",
      "source": [
        "***Checking for Null values using other method***"
      ],
      "metadata": {
        "id": "qLqYESqnHkOY"
      }
    },
    {
      "cell_type": "code",
      "source": [
        "first_page_df.isna()"
      ],
      "metadata": {
        "id": "BRRQQNweHgP_",
        "colab": {
          "base_uri": "https://localhost:8080/",
          "height": 424
        },
        "outputId": "aab77e04-5771-413b-ee2a-9815eb20b983"
      },
      "execution_count": 95,
      "outputs": [
        {
          "output_type": "execute_result",
          "data": {
            "text/plain": [
              "    Company  Ticker  Market Cap  Stock Price  Price Change  Price Status  \\\n",
              "0     False   False       False        False         False         False   \n",
              "1     False   False       False        False         False         False   \n",
              "2     False   False       False        False         False         False   \n",
              "3     False   False       False        False         False         False   \n",
              "4     False   False       False        False         False         False   \n",
              "..      ...     ...         ...          ...           ...           ...   \n",
              "95    False   False       False        False         False         False   \n",
              "96    False   False       False        False         False         False   \n",
              "97    False   False       False        False         False         False   \n",
              "98    False   False       False        False         False         False   \n",
              "99    False   False       False        False         False         False   \n",
              "\n",
              "    Country  \n",
              "0     False  \n",
              "1     False  \n",
              "2     False  \n",
              "3     False  \n",
              "4     False  \n",
              "..      ...  \n",
              "95    False  \n",
              "96    False  \n",
              "97    False  \n",
              "98    False  \n",
              "99    False  \n",
              "\n",
              "[100 rows x 7 columns]"
            ],
            "text/html": [
              "\n",
              "  <div id=\"df-0b14adc8-e6a4-40e6-91a4-11986dea4d66\">\n",
              "    <div class=\"colab-df-container\">\n",
              "      <div>\n",
              "<style scoped>\n",
              "    .dataframe tbody tr th:only-of-type {\n",
              "        vertical-align: middle;\n",
              "    }\n",
              "\n",
              "    .dataframe tbody tr th {\n",
              "        vertical-align: top;\n",
              "    }\n",
              "\n",
              "    .dataframe thead th {\n",
              "        text-align: right;\n",
              "    }\n",
              "</style>\n",
              "<table border=\"1\" class=\"dataframe\">\n",
              "  <thead>\n",
              "    <tr style=\"text-align: right;\">\n",
              "      <th></th>\n",
              "      <th>Company</th>\n",
              "      <th>Ticker</th>\n",
              "      <th>Market Cap</th>\n",
              "      <th>Stock Price</th>\n",
              "      <th>Price Change</th>\n",
              "      <th>Price Status</th>\n",
              "      <th>Country</th>\n",
              "    </tr>\n",
              "  </thead>\n",
              "  <tbody>\n",
              "    <tr>\n",
              "      <th>0</th>\n",
              "      <td>False</td>\n",
              "      <td>False</td>\n",
              "      <td>False</td>\n",
              "      <td>False</td>\n",
              "      <td>False</td>\n",
              "      <td>False</td>\n",
              "      <td>False</td>\n",
              "    </tr>\n",
              "    <tr>\n",
              "      <th>1</th>\n",
              "      <td>False</td>\n",
              "      <td>False</td>\n",
              "      <td>False</td>\n",
              "      <td>False</td>\n",
              "      <td>False</td>\n",
              "      <td>False</td>\n",
              "      <td>False</td>\n",
              "    </tr>\n",
              "    <tr>\n",
              "      <th>2</th>\n",
              "      <td>False</td>\n",
              "      <td>False</td>\n",
              "      <td>False</td>\n",
              "      <td>False</td>\n",
              "      <td>False</td>\n",
              "      <td>False</td>\n",
              "      <td>False</td>\n",
              "    </tr>\n",
              "    <tr>\n",
              "      <th>3</th>\n",
              "      <td>False</td>\n",
              "      <td>False</td>\n",
              "      <td>False</td>\n",
              "      <td>False</td>\n",
              "      <td>False</td>\n",
              "      <td>False</td>\n",
              "      <td>False</td>\n",
              "    </tr>\n",
              "    <tr>\n",
              "      <th>4</th>\n",
              "      <td>False</td>\n",
              "      <td>False</td>\n",
              "      <td>False</td>\n",
              "      <td>False</td>\n",
              "      <td>False</td>\n",
              "      <td>False</td>\n",
              "      <td>False</td>\n",
              "    </tr>\n",
              "    <tr>\n",
              "      <th>...</th>\n",
              "      <td>...</td>\n",
              "      <td>...</td>\n",
              "      <td>...</td>\n",
              "      <td>...</td>\n",
              "      <td>...</td>\n",
              "      <td>...</td>\n",
              "      <td>...</td>\n",
              "    </tr>\n",
              "    <tr>\n",
              "      <th>95</th>\n",
              "      <td>False</td>\n",
              "      <td>False</td>\n",
              "      <td>False</td>\n",
              "      <td>False</td>\n",
              "      <td>False</td>\n",
              "      <td>False</td>\n",
              "      <td>False</td>\n",
              "    </tr>\n",
              "    <tr>\n",
              "      <th>96</th>\n",
              "      <td>False</td>\n",
              "      <td>False</td>\n",
              "      <td>False</td>\n",
              "      <td>False</td>\n",
              "      <td>False</td>\n",
              "      <td>False</td>\n",
              "      <td>False</td>\n",
              "    </tr>\n",
              "    <tr>\n",
              "      <th>97</th>\n",
              "      <td>False</td>\n",
              "      <td>False</td>\n",
              "      <td>False</td>\n",
              "      <td>False</td>\n",
              "      <td>False</td>\n",
              "      <td>False</td>\n",
              "      <td>False</td>\n",
              "    </tr>\n",
              "    <tr>\n",
              "      <th>98</th>\n",
              "      <td>False</td>\n",
              "      <td>False</td>\n",
              "      <td>False</td>\n",
              "      <td>False</td>\n",
              "      <td>False</td>\n",
              "      <td>False</td>\n",
              "      <td>False</td>\n",
              "    </tr>\n",
              "    <tr>\n",
              "      <th>99</th>\n",
              "      <td>False</td>\n",
              "      <td>False</td>\n",
              "      <td>False</td>\n",
              "      <td>False</td>\n",
              "      <td>False</td>\n",
              "      <td>False</td>\n",
              "      <td>False</td>\n",
              "    </tr>\n",
              "  </tbody>\n",
              "</table>\n",
              "<p>100 rows × 7 columns</p>\n",
              "</div>\n",
              "      <button class=\"colab-df-convert\" onclick=\"convertToInteractive('df-0b14adc8-e6a4-40e6-91a4-11986dea4d66')\"\n",
              "              title=\"Convert this dataframe to an interactive table.\"\n",
              "              style=\"display:none;\">\n",
              "        \n",
              "  <svg xmlns=\"http://www.w3.org/2000/svg\" height=\"24px\"viewBox=\"0 0 24 24\"\n",
              "       width=\"24px\">\n",
              "    <path d=\"M0 0h24v24H0V0z\" fill=\"none\"/>\n",
              "    <path d=\"M18.56 5.44l.94 2.06.94-2.06 2.06-.94-2.06-.94-.94-2.06-.94 2.06-2.06.94zm-11 1L8.5 8.5l.94-2.06 2.06-.94-2.06-.94L8.5 2.5l-.94 2.06-2.06.94zm10 10l.94 2.06.94-2.06 2.06-.94-2.06-.94-.94-2.06-.94 2.06-2.06.94z\"/><path d=\"M17.41 7.96l-1.37-1.37c-.4-.4-.92-.59-1.43-.59-.52 0-1.04.2-1.43.59L10.3 9.45l-7.72 7.72c-.78.78-.78 2.05 0 2.83L4 21.41c.39.39.9.59 1.41.59.51 0 1.02-.2 1.41-.59l7.78-7.78 2.81-2.81c.8-.78.8-2.07 0-2.86zM5.41 20L4 18.59l7.72-7.72 1.47 1.35L5.41 20z\"/>\n",
              "  </svg>\n",
              "      </button>\n",
              "      \n",
              "  <style>\n",
              "    .colab-df-container {\n",
              "      display:flex;\n",
              "      flex-wrap:wrap;\n",
              "      gap: 12px;\n",
              "    }\n",
              "\n",
              "    .colab-df-convert {\n",
              "      background-color: #E8F0FE;\n",
              "      border: none;\n",
              "      border-radius: 50%;\n",
              "      cursor: pointer;\n",
              "      display: none;\n",
              "      fill: #1967D2;\n",
              "      height: 32px;\n",
              "      padding: 0 0 0 0;\n",
              "      width: 32px;\n",
              "    }\n",
              "\n",
              "    .colab-df-convert:hover {\n",
              "      background-color: #E2EBFA;\n",
              "      box-shadow: 0px 1px 2px rgba(60, 64, 67, 0.3), 0px 1px 3px 1px rgba(60, 64, 67, 0.15);\n",
              "      fill: #174EA6;\n",
              "    }\n",
              "\n",
              "    [theme=dark] .colab-df-convert {\n",
              "      background-color: #3B4455;\n",
              "      fill: #D2E3FC;\n",
              "    }\n",
              "\n",
              "    [theme=dark] .colab-df-convert:hover {\n",
              "      background-color: #434B5C;\n",
              "      box-shadow: 0px 1px 3px 1px rgba(0, 0, 0, 0.15);\n",
              "      filter: drop-shadow(0px 1px 2px rgba(0, 0, 0, 0.3));\n",
              "      fill: #FFFFFF;\n",
              "    }\n",
              "  </style>\n",
              "\n",
              "      <script>\n",
              "        const buttonEl =\n",
              "          document.querySelector('#df-0b14adc8-e6a4-40e6-91a4-11986dea4d66 button.colab-df-convert');\n",
              "        buttonEl.style.display =\n",
              "          google.colab.kernel.accessAllowed ? 'block' : 'none';\n",
              "\n",
              "        async function convertToInteractive(key) {\n",
              "          const element = document.querySelector('#df-0b14adc8-e6a4-40e6-91a4-11986dea4d66');\n",
              "          const dataTable =\n",
              "            await google.colab.kernel.invokeFunction('convertToInteractive',\n",
              "                                                     [key], {});\n",
              "          if (!dataTable) return;\n",
              "\n",
              "          const docLinkHtml = 'Like what you see? Visit the ' +\n",
              "            '<a target=\"_blank\" href=https://colab.research.google.com/notebooks/data_table.ipynb>data table notebook</a>'\n",
              "            + ' to learn more about interactive tables.';\n",
              "          element.innerHTML = '';\n",
              "          dataTable['output_type'] = 'display_data';\n",
              "          await google.colab.output.renderOutput(dataTable, element);\n",
              "          const docLink = document.createElement('div');\n",
              "          docLink.innerHTML = docLinkHtml;\n",
              "          element.appendChild(docLink);\n",
              "        }\n",
              "      </script>\n",
              "    </div>\n",
              "  </div>\n",
              "  "
            ]
          },
          "metadata": {},
          "execution_count": 95
        }
      ]
    },
    {
      "cell_type": "markdown",
      "source": [
        "**Exporting data to a CSV file:**"
      ],
      "metadata": {
        "id": "1pm27xG4mvbp"
      }
    },
    {
      "cell_type": "code",
      "source": [
        "first_page_df.to_csv('Financial Services Companies.csv', index=False)"
      ],
      "metadata": {
        "id": "nSerXI01I2oB"
      },
      "execution_count": 96,
      "outputs": []
    },
    {
      "cell_type": "markdown",
      "source": [],
      "metadata": {
        "id": "NFyry-qTLhbw"
      }
    },
    {
      "cell_type": "markdown",
      "source": [
        "**Exploratory Data Analysis & Cleaning the Scraped Dataset**"
      ],
      "metadata": {
        "id": "s4fFSZIT9pLX"
      }
    },
    {
      "cell_type": "code",
      "source": [
        "df = pd.read_csv('Financial Services Companies.csv')\n",
        "df.head()"
      ],
      "metadata": {
        "id": "D0z6bFCLb3FQ",
        "colab": {
          "base_uri": "https://localhost:8080/",
          "height": 206
        },
        "outputId": "4d027660-183d-4696-c2eb-273d5da986f1"
      },
      "execution_count": 97,
      "outputs": [
        {
          "output_type": "execute_result",
          "data": {
            "text/plain": [
              "            Company   Ticker Market Cap Stock Price Price Change  \\\n",
              "0              Visa        V  $477.52 B     $227.20        0.94%   \n",
              "1    JPMorgan Chase      JPM  $413.85 B     $141.04        0.44%   \n",
              "2        Mastercard       MA  $350.68 B     $366.83        0.97%   \n",
              "3  Bank of America       BAC  $284.52 B      $35.58        0.39%   \n",
              "4              ICBC  1398.HK  $217.14 B       $0.52        0.25%   \n",
              "\n",
              "           Price Status Country  \n",
              "0    ['percentage-red']     USA  \n",
              "1  ['percentage-green']     USA  \n",
              "2    ['percentage-red']     USA  \n",
              "3    ['percentage-red']     USA  \n",
              "4    ['percentage-red']   China  "
            ],
            "text/html": [
              "\n",
              "  <div id=\"df-92f9f962-b12c-4a01-b9ef-464fd3b95fdd\">\n",
              "    <div class=\"colab-df-container\">\n",
              "      <div>\n",
              "<style scoped>\n",
              "    .dataframe tbody tr th:only-of-type {\n",
              "        vertical-align: middle;\n",
              "    }\n",
              "\n",
              "    .dataframe tbody tr th {\n",
              "        vertical-align: top;\n",
              "    }\n",
              "\n",
              "    .dataframe thead th {\n",
              "        text-align: right;\n",
              "    }\n",
              "</style>\n",
              "<table border=\"1\" class=\"dataframe\">\n",
              "  <thead>\n",
              "    <tr style=\"text-align: right;\">\n",
              "      <th></th>\n",
              "      <th>Company</th>\n",
              "      <th>Ticker</th>\n",
              "      <th>Market Cap</th>\n",
              "      <th>Stock Price</th>\n",
              "      <th>Price Change</th>\n",
              "      <th>Price Status</th>\n",
              "      <th>Country</th>\n",
              "    </tr>\n",
              "  </thead>\n",
              "  <tbody>\n",
              "    <tr>\n",
              "      <th>0</th>\n",
              "      <td>Visa</td>\n",
              "      <td>V</td>\n",
              "      <td>$477.52 B</td>\n",
              "      <td>$227.20</td>\n",
              "      <td>0.94%</td>\n",
              "      <td>['percentage-red']</td>\n",
              "      <td>USA</td>\n",
              "    </tr>\n",
              "    <tr>\n",
              "      <th>1</th>\n",
              "      <td>JPMorgan Chase</td>\n",
              "      <td>JPM</td>\n",
              "      <td>$413.85 B</td>\n",
              "      <td>$141.04</td>\n",
              "      <td>0.44%</td>\n",
              "      <td>['percentage-green']</td>\n",
              "      <td>USA</td>\n",
              "    </tr>\n",
              "    <tr>\n",
              "      <th>2</th>\n",
              "      <td>Mastercard</td>\n",
              "      <td>MA</td>\n",
              "      <td>$350.68 B</td>\n",
              "      <td>$366.83</td>\n",
              "      <td>0.97%</td>\n",
              "      <td>['percentage-red']</td>\n",
              "      <td>USA</td>\n",
              "    </tr>\n",
              "    <tr>\n",
              "      <th>3</th>\n",
              "      <td>Bank of America</td>\n",
              "      <td>BAC</td>\n",
              "      <td>$284.52 B</td>\n",
              "      <td>$35.58</td>\n",
              "      <td>0.39%</td>\n",
              "      <td>['percentage-red']</td>\n",
              "      <td>USA</td>\n",
              "    </tr>\n",
              "    <tr>\n",
              "      <th>4</th>\n",
              "      <td>ICBC</td>\n",
              "      <td>1398.HK</td>\n",
              "      <td>$217.14 B</td>\n",
              "      <td>$0.52</td>\n",
              "      <td>0.25%</td>\n",
              "      <td>['percentage-red']</td>\n",
              "      <td>China</td>\n",
              "    </tr>\n",
              "  </tbody>\n",
              "</table>\n",
              "</div>\n",
              "      <button class=\"colab-df-convert\" onclick=\"convertToInteractive('df-92f9f962-b12c-4a01-b9ef-464fd3b95fdd')\"\n",
              "              title=\"Convert this dataframe to an interactive table.\"\n",
              "              style=\"display:none;\">\n",
              "        \n",
              "  <svg xmlns=\"http://www.w3.org/2000/svg\" height=\"24px\"viewBox=\"0 0 24 24\"\n",
              "       width=\"24px\">\n",
              "    <path d=\"M0 0h24v24H0V0z\" fill=\"none\"/>\n",
              "    <path d=\"M18.56 5.44l.94 2.06.94-2.06 2.06-.94-2.06-.94-.94-2.06-.94 2.06-2.06.94zm-11 1L8.5 8.5l.94-2.06 2.06-.94-2.06-.94L8.5 2.5l-.94 2.06-2.06.94zm10 10l.94 2.06.94-2.06 2.06-.94-2.06-.94-.94-2.06-.94 2.06-2.06.94z\"/><path d=\"M17.41 7.96l-1.37-1.37c-.4-.4-.92-.59-1.43-.59-.52 0-1.04.2-1.43.59L10.3 9.45l-7.72 7.72c-.78.78-.78 2.05 0 2.83L4 21.41c.39.39.9.59 1.41.59.51 0 1.02-.2 1.41-.59l7.78-7.78 2.81-2.81c.8-.78.8-2.07 0-2.86zM5.41 20L4 18.59l7.72-7.72 1.47 1.35L5.41 20z\"/>\n",
              "  </svg>\n",
              "      </button>\n",
              "      \n",
              "  <style>\n",
              "    .colab-df-container {\n",
              "      display:flex;\n",
              "      flex-wrap:wrap;\n",
              "      gap: 12px;\n",
              "    }\n",
              "\n",
              "    .colab-df-convert {\n",
              "      background-color: #E8F0FE;\n",
              "      border: none;\n",
              "      border-radius: 50%;\n",
              "      cursor: pointer;\n",
              "      display: none;\n",
              "      fill: #1967D2;\n",
              "      height: 32px;\n",
              "      padding: 0 0 0 0;\n",
              "      width: 32px;\n",
              "    }\n",
              "\n",
              "    .colab-df-convert:hover {\n",
              "      background-color: #E2EBFA;\n",
              "      box-shadow: 0px 1px 2px rgba(60, 64, 67, 0.3), 0px 1px 3px 1px rgba(60, 64, 67, 0.15);\n",
              "      fill: #174EA6;\n",
              "    }\n",
              "\n",
              "    [theme=dark] .colab-df-convert {\n",
              "      background-color: #3B4455;\n",
              "      fill: #D2E3FC;\n",
              "    }\n",
              "\n",
              "    [theme=dark] .colab-df-convert:hover {\n",
              "      background-color: #434B5C;\n",
              "      box-shadow: 0px 1px 3px 1px rgba(0, 0, 0, 0.15);\n",
              "      filter: drop-shadow(0px 1px 2px rgba(0, 0, 0, 0.3));\n",
              "      fill: #FFFFFF;\n",
              "    }\n",
              "  </style>\n",
              "\n",
              "      <script>\n",
              "        const buttonEl =\n",
              "          document.querySelector('#df-92f9f962-b12c-4a01-b9ef-464fd3b95fdd button.colab-df-convert');\n",
              "        buttonEl.style.display =\n",
              "          google.colab.kernel.accessAllowed ? 'block' : 'none';\n",
              "\n",
              "        async function convertToInteractive(key) {\n",
              "          const element = document.querySelector('#df-92f9f962-b12c-4a01-b9ef-464fd3b95fdd');\n",
              "          const dataTable =\n",
              "            await google.colab.kernel.invokeFunction('convertToInteractive',\n",
              "                                                     [key], {});\n",
              "          if (!dataTable) return;\n",
              "\n",
              "          const docLinkHtml = 'Like what you see? Visit the ' +\n",
              "            '<a target=\"_blank\" href=https://colab.research.google.com/notebooks/data_table.ipynb>data table notebook</a>'\n",
              "            + ' to learn more about interactive tables.';\n",
              "          element.innerHTML = '';\n",
              "          dataTable['output_type'] = 'display_data';\n",
              "          await google.colab.output.renderOutput(dataTable, element);\n",
              "          const docLink = document.createElement('div');\n",
              "          docLink.innerHTML = docLinkHtml;\n",
              "          element.appendChild(docLink);\n",
              "        }\n",
              "      </script>\n",
              "    </div>\n",
              "  </div>\n",
              "  "
            ]
          },
          "metadata": {},
          "execution_count": 97
        }
      ]
    },
    {
      "cell_type": "code",
      "source": [
        "df.info()"
      ],
      "metadata": {
        "id": "sQLO3XlpSebU",
        "colab": {
          "base_uri": "https://localhost:8080/"
        },
        "outputId": "cf8490c3-64c5-4656-c4e0-3825d4776d84"
      },
      "execution_count": 98,
      "outputs": [
        {
          "output_type": "stream",
          "name": "stdout",
          "text": [
            "<class 'pandas.core.frame.DataFrame'>\n",
            "RangeIndex: 100 entries, 0 to 99\n",
            "Data columns (total 7 columns):\n",
            " #   Column        Non-Null Count  Dtype \n",
            "---  ------        --------------  ----- \n",
            " 0   Company       100 non-null    object\n",
            " 1   Ticker        100 non-null    object\n",
            " 2   Market Cap    100 non-null    object\n",
            " 3   Stock Price   100 non-null    object\n",
            " 4   Price Change  100 non-null    object\n",
            " 5   Price Status  100 non-null    object\n",
            " 6   Country       100 non-null    object\n",
            "dtypes: object(7)\n",
            "memory usage: 5.6+ KB\n"
          ]
        }
      ]
    },
    {
      "cell_type": "markdown",
      "source": [
        "There are no missing values in the dataset.\n",
        "\n",
        "*Although, we need to convert the data types of Market Cap, Stock Price and Price Status to numerical instead of object.*"
      ],
      "metadata": {
        "id": "rYlwceKXSmN1"
      }
    },
    {
      "cell_type": "markdown",
      "source": [
        "*Removing '$' symbol from market cap.*"
      ],
      "metadata": {
        "id": "PjLUYwOUSpas"
      }
    },
    {
      "cell_type": "code",
      "source": [
        "df['Market Cap'] = df['Market Cap'].str.strip('$')"
      ],
      "metadata": {
        "id": "Qhyymcq8SttU"
      },
      "execution_count": 99,
      "outputs": []
    },
    {
      "cell_type": "markdown",
      "source": [
        "*Multiplying the numerical value by a number based on millions, billions or trillions.*"
      ],
      "metadata": {
        "id": "GML56FTFSycM"
      }
    },
    {
      "cell_type": "code",
      "source": [
        "def function(x):\n",
        "  if x[1] == 'B':\n",
        "    mul = 1E+9\n",
        "  elif x[1] == 'M':\n",
        "    mul = 1E+6\n",
        "  \n",
        "  return float(x[0]) * mul\n",
        "\n",
        "df['Market Cap'] = df['Market Cap'].str.split().apply(function).astype(float)"
      ],
      "metadata": {
        "id": "EOqr5vMSS4Ic"
      },
      "execution_count": 100,
      "outputs": []
    },
    {
      "cell_type": "markdown",
      "source": [
        "*Checking revised data type.*"
      ],
      "metadata": {
        "id": "4glB_5cATF7N"
      }
    },
    {
      "cell_type": "code",
      "source": [
        "df['Market Cap'].info()"
      ],
      "metadata": {
        "id": "4vRZ4uvwTIqN",
        "colab": {
          "base_uri": "https://localhost:8080/"
        },
        "outputId": "69846f35-8f0e-4564-b710-4e18e7a048e4"
      },
      "execution_count": 101,
      "outputs": [
        {
          "output_type": "stream",
          "name": "stdout",
          "text": [
            "<class 'pandas.core.series.Series'>\n",
            "RangeIndex: 100 entries, 0 to 99\n",
            "Series name: Market Cap\n",
            "Non-Null Count  Dtype  \n",
            "--------------  -----  \n",
            "100 non-null    float64\n",
            "dtypes: float64(1)\n",
            "memory usage: 928.0 bytes\n"
          ]
        }
      ]
    },
    {
      "cell_type": "markdown",
      "source": [
        "*For 'Stock Price' we need to remove the '$' symbol and the commas.*"
      ],
      "metadata": {
        "id": "5DvnOsd1TNJ2"
      }
    },
    {
      "cell_type": "code",
      "source": [
        "df['Stock Price'] = df['Stock Price'].str.strip('$')\n",
        "df['Stock Price'] = df['Stock Price'].str.replace(',', '')"
      ],
      "metadata": {
        "id": "HgrzyNoVTNv8"
      },
      "execution_count": 102,
      "outputs": []
    },
    {
      "cell_type": "markdown",
      "source": [
        "*Strip the percantage symbol from all rows in 'Price Change' and renaming the column to 'Today's Price Change'*"
      ],
      "metadata": {
        "id": "WMF_iWwrTSZ8"
      }
    },
    {
      "cell_type": "code",
      "source": [
        "df['Price Change'] = df['Price Change'].str.strip('%').astype(float)\n",
        "df.rename(columns={\"Price Change\": \"Today's Price Change (%)\"}, inplace=True)"
      ],
      "metadata": {
        "id": "wQUVJH7DTU0W"
      },
      "execution_count": 103,
      "outputs": []
    },
    {
      "cell_type": "markdown",
      "source": [
        "*Removing '\\n' from Company column.*"
      ],
      "metadata": {
        "id": "twRqlyEhTlKl"
      }
    },
    {
      "cell_type": "code",
      "source": [
        "df['Company'] = df['Company'].str.strip('\\n')"
      ],
      "metadata": {
        "id": "6A7LUz0mTnSU"
      },
      "execution_count": 104,
      "outputs": []
    },
    {
      "cell_type": "markdown",
      "source": [
        "***Changing the Price Status values to Up for 'percentage-green' and Down for 'percentage-red'.***"
      ],
      "metadata": {
        "id": "CvYHw7QQTuDk"
      }
    },
    {
      "cell_type": "code",
      "source": [
        "df['Price Status'] = df['Price Status'].replace(to_replace=\"['percentage-green']\", value=\"Up\")\n",
        "df['Price Status'] = df['Price Status'].replace(to_replace=\"['percentage-red']\", value=\"Down\")"
      ],
      "metadata": {
        "id": "1gbPZsx7Tuld"
      },
      "execution_count": 105,
      "outputs": []
    },
    {
      "cell_type": "markdown",
      "source": [
        "*Changing S.Arabi to Saudi Arabia in the 'Country' column.*"
      ],
      "metadata": {
        "id": "X0yiJY9dUKCn"
      }
    },
    {
      "cell_type": "code",
      "source": [
        "df['Country'].replace({'S. Arabia': 'Saudi Arabia'}, inplace=True)"
      ],
      "metadata": {
        "id": "Yx0CjOA8UMNd"
      },
      "execution_count": 106,
      "outputs": []
    },
    {
      "cell_type": "markdown",
      "source": [
        "***Checking the updated values.***"
      ],
      "metadata": {
        "id": "adi7hKMnTcQ7"
      }
    },
    {
      "cell_type": "code",
      "source": [
        "df.head()"
      ],
      "metadata": {
        "id": "TEoZMDIyTfSU",
        "colab": {
          "base_uri": "https://localhost:8080/",
          "height": 206
        },
        "outputId": "07b8fe3d-eacd-42e7-a918-f54a48c19337"
      },
      "execution_count": 107,
      "outputs": [
        {
          "output_type": "execute_result",
          "data": {
            "text/plain": [
              "            Company   Ticker    Market Cap Stock Price  \\\n",
              "0              Visa        V  4.775200e+11      227.20   \n",
              "1    JPMorgan Chase      JPM  4.138500e+11      141.04   \n",
              "2        Mastercard       MA  3.506800e+11      366.83   \n",
              "3  Bank of America       BAC  2.845200e+11       35.58   \n",
              "4              ICBC  1398.HK  2.171400e+11        0.52   \n",
              "\n",
              "   Today's Price Change (%) Price Status Country  \n",
              "0                      0.94         Down     USA  \n",
              "1                      0.44           Up     USA  \n",
              "2                      0.97         Down     USA  \n",
              "3                      0.39         Down     USA  \n",
              "4                      0.25         Down   China  "
            ],
            "text/html": [
              "\n",
              "  <div id=\"df-790c516d-c899-42ca-afe8-9a85e0f4de12\">\n",
              "    <div class=\"colab-df-container\">\n",
              "      <div>\n",
              "<style scoped>\n",
              "    .dataframe tbody tr th:only-of-type {\n",
              "        vertical-align: middle;\n",
              "    }\n",
              "\n",
              "    .dataframe tbody tr th {\n",
              "        vertical-align: top;\n",
              "    }\n",
              "\n",
              "    .dataframe thead th {\n",
              "        text-align: right;\n",
              "    }\n",
              "</style>\n",
              "<table border=\"1\" class=\"dataframe\">\n",
              "  <thead>\n",
              "    <tr style=\"text-align: right;\">\n",
              "      <th></th>\n",
              "      <th>Company</th>\n",
              "      <th>Ticker</th>\n",
              "      <th>Market Cap</th>\n",
              "      <th>Stock Price</th>\n",
              "      <th>Today's Price Change (%)</th>\n",
              "      <th>Price Status</th>\n",
              "      <th>Country</th>\n",
              "    </tr>\n",
              "  </thead>\n",
              "  <tbody>\n",
              "    <tr>\n",
              "      <th>0</th>\n",
              "      <td>Visa</td>\n",
              "      <td>V</td>\n",
              "      <td>4.775200e+11</td>\n",
              "      <td>227.20</td>\n",
              "      <td>0.94</td>\n",
              "      <td>Down</td>\n",
              "      <td>USA</td>\n",
              "    </tr>\n",
              "    <tr>\n",
              "      <th>1</th>\n",
              "      <td>JPMorgan Chase</td>\n",
              "      <td>JPM</td>\n",
              "      <td>4.138500e+11</td>\n",
              "      <td>141.04</td>\n",
              "      <td>0.44</td>\n",
              "      <td>Up</td>\n",
              "      <td>USA</td>\n",
              "    </tr>\n",
              "    <tr>\n",
              "      <th>2</th>\n",
              "      <td>Mastercard</td>\n",
              "      <td>MA</td>\n",
              "      <td>3.506800e+11</td>\n",
              "      <td>366.83</td>\n",
              "      <td>0.97</td>\n",
              "      <td>Down</td>\n",
              "      <td>USA</td>\n",
              "    </tr>\n",
              "    <tr>\n",
              "      <th>3</th>\n",
              "      <td>Bank of America</td>\n",
              "      <td>BAC</td>\n",
              "      <td>2.845200e+11</td>\n",
              "      <td>35.58</td>\n",
              "      <td>0.39</td>\n",
              "      <td>Down</td>\n",
              "      <td>USA</td>\n",
              "    </tr>\n",
              "    <tr>\n",
              "      <th>4</th>\n",
              "      <td>ICBC</td>\n",
              "      <td>1398.HK</td>\n",
              "      <td>2.171400e+11</td>\n",
              "      <td>0.52</td>\n",
              "      <td>0.25</td>\n",
              "      <td>Down</td>\n",
              "      <td>China</td>\n",
              "    </tr>\n",
              "  </tbody>\n",
              "</table>\n",
              "</div>\n",
              "      <button class=\"colab-df-convert\" onclick=\"convertToInteractive('df-790c516d-c899-42ca-afe8-9a85e0f4de12')\"\n",
              "              title=\"Convert this dataframe to an interactive table.\"\n",
              "              style=\"display:none;\">\n",
              "        \n",
              "  <svg xmlns=\"http://www.w3.org/2000/svg\" height=\"24px\"viewBox=\"0 0 24 24\"\n",
              "       width=\"24px\">\n",
              "    <path d=\"M0 0h24v24H0V0z\" fill=\"none\"/>\n",
              "    <path d=\"M18.56 5.44l.94 2.06.94-2.06 2.06-.94-2.06-.94-.94-2.06-.94 2.06-2.06.94zm-11 1L8.5 8.5l.94-2.06 2.06-.94-2.06-.94L8.5 2.5l-.94 2.06-2.06.94zm10 10l.94 2.06.94-2.06 2.06-.94-2.06-.94-.94-2.06-.94 2.06-2.06.94z\"/><path d=\"M17.41 7.96l-1.37-1.37c-.4-.4-.92-.59-1.43-.59-.52 0-1.04.2-1.43.59L10.3 9.45l-7.72 7.72c-.78.78-.78 2.05 0 2.83L4 21.41c.39.39.9.59 1.41.59.51 0 1.02-.2 1.41-.59l7.78-7.78 2.81-2.81c.8-.78.8-2.07 0-2.86zM5.41 20L4 18.59l7.72-7.72 1.47 1.35L5.41 20z\"/>\n",
              "  </svg>\n",
              "      </button>\n",
              "      \n",
              "  <style>\n",
              "    .colab-df-container {\n",
              "      display:flex;\n",
              "      flex-wrap:wrap;\n",
              "      gap: 12px;\n",
              "    }\n",
              "\n",
              "    .colab-df-convert {\n",
              "      background-color: #E8F0FE;\n",
              "      border: none;\n",
              "      border-radius: 50%;\n",
              "      cursor: pointer;\n",
              "      display: none;\n",
              "      fill: #1967D2;\n",
              "      height: 32px;\n",
              "      padding: 0 0 0 0;\n",
              "      width: 32px;\n",
              "    }\n",
              "\n",
              "    .colab-df-convert:hover {\n",
              "      background-color: #E2EBFA;\n",
              "      box-shadow: 0px 1px 2px rgba(60, 64, 67, 0.3), 0px 1px 3px 1px rgba(60, 64, 67, 0.15);\n",
              "      fill: #174EA6;\n",
              "    }\n",
              "\n",
              "    [theme=dark] .colab-df-convert {\n",
              "      background-color: #3B4455;\n",
              "      fill: #D2E3FC;\n",
              "    }\n",
              "\n",
              "    [theme=dark] .colab-df-convert:hover {\n",
              "      background-color: #434B5C;\n",
              "      box-shadow: 0px 1px 3px 1px rgba(0, 0, 0, 0.15);\n",
              "      filter: drop-shadow(0px 1px 2px rgba(0, 0, 0, 0.3));\n",
              "      fill: #FFFFFF;\n",
              "    }\n",
              "  </style>\n",
              "\n",
              "      <script>\n",
              "        const buttonEl =\n",
              "          document.querySelector('#df-790c516d-c899-42ca-afe8-9a85e0f4de12 button.colab-df-convert');\n",
              "        buttonEl.style.display =\n",
              "          google.colab.kernel.accessAllowed ? 'block' : 'none';\n",
              "\n",
              "        async function convertToInteractive(key) {\n",
              "          const element = document.querySelector('#df-790c516d-c899-42ca-afe8-9a85e0f4de12');\n",
              "          const dataTable =\n",
              "            await google.colab.kernel.invokeFunction('convertToInteractive',\n",
              "                                                     [key], {});\n",
              "          if (!dataTable) return;\n",
              "\n",
              "          const docLinkHtml = 'Like what you see? Visit the ' +\n",
              "            '<a target=\"_blank\" href=https://colab.research.google.com/notebooks/data_table.ipynb>data table notebook</a>'\n",
              "            + ' to learn more about interactive tables.';\n",
              "          element.innerHTML = '';\n",
              "          dataTable['output_type'] = 'display_data';\n",
              "          await google.colab.output.renderOutput(dataTable, element);\n",
              "          const docLink = document.createElement('div');\n",
              "          docLink.innerHTML = docLinkHtml;\n",
              "          element.appendChild(docLink);\n",
              "        }\n",
              "      </script>\n",
              "    </div>\n",
              "  </div>\n",
              "  "
            ]
          },
          "metadata": {},
          "execution_count": 107
        }
      ]
    },
    {
      "cell_type": "markdown",
      "source": [
        "***Query to check if country name 'Saudi Arabia' is properly updated.***"
      ],
      "metadata": {
        "id": "hZQuzCw5z_x7"
      }
    },
    {
      "cell_type": "code",
      "source": [
        "query1 = \"SELECT * FROM df WHERE Country= 'Saudi Arabia'\"\n",
        "pysqldf(query1)"
      ],
      "metadata": {
        "id": "m03bIWvjUnBt",
        "colab": {
          "base_uri": "https://localhost:8080/",
          "height": 112
        },
        "outputId": "2d62affc-a7e1-405f-faab-7646dee9472e"
      },
      "execution_count": 108,
      "outputs": [
        {
          "output_type": "execute_result",
          "data": {
            "text/plain": [
              "                   Company   Ticker    Market Cap Stock Price  \\\n",
              "0            Al Rajhi Bank  1120.SR  8.237000e+10       20.59   \n",
              "1  The Saudi National Bank  1180.SR  5.722000e+10       12.89   \n",
              "\n",
              "   Today's Price Change (%) Price Status       Country  \n",
              "0                      1.78         Down  Saudi Arabia  \n",
              "1                      0.72         Down  Saudi Arabia  "
            ],
            "text/html": [
              "\n",
              "  <div id=\"df-9fe82d38-1299-4f0b-972e-da2afb70f6d9\">\n",
              "    <div class=\"colab-df-container\">\n",
              "      <div>\n",
              "<style scoped>\n",
              "    .dataframe tbody tr th:only-of-type {\n",
              "        vertical-align: middle;\n",
              "    }\n",
              "\n",
              "    .dataframe tbody tr th {\n",
              "        vertical-align: top;\n",
              "    }\n",
              "\n",
              "    .dataframe thead th {\n",
              "        text-align: right;\n",
              "    }\n",
              "</style>\n",
              "<table border=\"1\" class=\"dataframe\">\n",
              "  <thead>\n",
              "    <tr style=\"text-align: right;\">\n",
              "      <th></th>\n",
              "      <th>Company</th>\n",
              "      <th>Ticker</th>\n",
              "      <th>Market Cap</th>\n",
              "      <th>Stock Price</th>\n",
              "      <th>Today's Price Change (%)</th>\n",
              "      <th>Price Status</th>\n",
              "      <th>Country</th>\n",
              "    </tr>\n",
              "  </thead>\n",
              "  <tbody>\n",
              "    <tr>\n",
              "      <th>0</th>\n",
              "      <td>Al Rajhi Bank</td>\n",
              "      <td>1120.SR</td>\n",
              "      <td>8.237000e+10</td>\n",
              "      <td>20.59</td>\n",
              "      <td>1.78</td>\n",
              "      <td>Down</td>\n",
              "      <td>Saudi Arabia</td>\n",
              "    </tr>\n",
              "    <tr>\n",
              "      <th>1</th>\n",
              "      <td>The Saudi National Bank</td>\n",
              "      <td>1180.SR</td>\n",
              "      <td>5.722000e+10</td>\n",
              "      <td>12.89</td>\n",
              "      <td>0.72</td>\n",
              "      <td>Down</td>\n",
              "      <td>Saudi Arabia</td>\n",
              "    </tr>\n",
              "  </tbody>\n",
              "</table>\n",
              "</div>\n",
              "      <button class=\"colab-df-convert\" onclick=\"convertToInteractive('df-9fe82d38-1299-4f0b-972e-da2afb70f6d9')\"\n",
              "              title=\"Convert this dataframe to an interactive table.\"\n",
              "              style=\"display:none;\">\n",
              "        \n",
              "  <svg xmlns=\"http://www.w3.org/2000/svg\" height=\"24px\"viewBox=\"0 0 24 24\"\n",
              "       width=\"24px\">\n",
              "    <path d=\"M0 0h24v24H0V0z\" fill=\"none\"/>\n",
              "    <path d=\"M18.56 5.44l.94 2.06.94-2.06 2.06-.94-2.06-.94-.94-2.06-.94 2.06-2.06.94zm-11 1L8.5 8.5l.94-2.06 2.06-.94-2.06-.94L8.5 2.5l-.94 2.06-2.06.94zm10 10l.94 2.06.94-2.06 2.06-.94-2.06-.94-.94-2.06-.94 2.06-2.06.94z\"/><path d=\"M17.41 7.96l-1.37-1.37c-.4-.4-.92-.59-1.43-.59-.52 0-1.04.2-1.43.59L10.3 9.45l-7.72 7.72c-.78.78-.78 2.05 0 2.83L4 21.41c.39.39.9.59 1.41.59.51 0 1.02-.2 1.41-.59l7.78-7.78 2.81-2.81c.8-.78.8-2.07 0-2.86zM5.41 20L4 18.59l7.72-7.72 1.47 1.35L5.41 20z\"/>\n",
              "  </svg>\n",
              "      </button>\n",
              "      \n",
              "  <style>\n",
              "    .colab-df-container {\n",
              "      display:flex;\n",
              "      flex-wrap:wrap;\n",
              "      gap: 12px;\n",
              "    }\n",
              "\n",
              "    .colab-df-convert {\n",
              "      background-color: #E8F0FE;\n",
              "      border: none;\n",
              "      border-radius: 50%;\n",
              "      cursor: pointer;\n",
              "      display: none;\n",
              "      fill: #1967D2;\n",
              "      height: 32px;\n",
              "      padding: 0 0 0 0;\n",
              "      width: 32px;\n",
              "    }\n",
              "\n",
              "    .colab-df-convert:hover {\n",
              "      background-color: #E2EBFA;\n",
              "      box-shadow: 0px 1px 2px rgba(60, 64, 67, 0.3), 0px 1px 3px 1px rgba(60, 64, 67, 0.15);\n",
              "      fill: #174EA6;\n",
              "    }\n",
              "\n",
              "    [theme=dark] .colab-df-convert {\n",
              "      background-color: #3B4455;\n",
              "      fill: #D2E3FC;\n",
              "    }\n",
              "\n",
              "    [theme=dark] .colab-df-convert:hover {\n",
              "      background-color: #434B5C;\n",
              "      box-shadow: 0px 1px 3px 1px rgba(0, 0, 0, 0.15);\n",
              "      filter: drop-shadow(0px 1px 2px rgba(0, 0, 0, 0.3));\n",
              "      fill: #FFFFFF;\n",
              "    }\n",
              "  </style>\n",
              "\n",
              "      <script>\n",
              "        const buttonEl =\n",
              "          document.querySelector('#df-9fe82d38-1299-4f0b-972e-da2afb70f6d9 button.colab-df-convert');\n",
              "        buttonEl.style.display =\n",
              "          google.colab.kernel.accessAllowed ? 'block' : 'none';\n",
              "\n",
              "        async function convertToInteractive(key) {\n",
              "          const element = document.querySelector('#df-9fe82d38-1299-4f0b-972e-da2afb70f6d9');\n",
              "          const dataTable =\n",
              "            await google.colab.kernel.invokeFunction('convertToInteractive',\n",
              "                                                     [key], {});\n",
              "          if (!dataTable) return;\n",
              "\n",
              "          const docLinkHtml = 'Like what you see? Visit the ' +\n",
              "            '<a target=\"_blank\" href=https://colab.research.google.com/notebooks/data_table.ipynb>data table notebook</a>'\n",
              "            + ' to learn more about interactive tables.';\n",
              "          element.innerHTML = '';\n",
              "          dataTable['output_type'] = 'display_data';\n",
              "          await google.colab.output.renderOutput(dataTable, element);\n",
              "          const docLink = document.createElement('div');\n",
              "          docLink.innerHTML = docLinkHtml;\n",
              "          element.appendChild(docLink);\n",
              "        }\n",
              "      </script>\n",
              "    </div>\n",
              "  </div>\n",
              "  "
            ]
          },
          "metadata": {},
          "execution_count": 108
        }
      ]
    },
    {
      "cell_type": "markdown",
      "source": [
        "**Creating a data frame for big 5 banks of Canada.**"
      ],
      "metadata": {
        "id": "vMzy-LsVCtHZ"
      }
    },
    {
      "cell_type": "code",
      "source": [
        "df_big_five_canadian_banks = df[(df['Ticker'].isin(['BNS','CM','TD', 'RY', 'BMO']))]"
      ],
      "metadata": {
        "id": "6BXQZqnHDFNz"
      },
      "execution_count": 109,
      "outputs": []
    },
    {
      "cell_type": "code",
      "source": [
        "df_big_five_canadian_banks.head()"
      ],
      "metadata": {
        "id": "B_0nexkfFkVZ",
        "colab": {
          "base_uri": "https://localhost:8080/",
          "height": 206
        },
        "outputId": "9503394f-7367-499b-8348-9a514eb40259"
      },
      "execution_count": 110,
      "outputs": [
        {
          "output_type": "execute_result",
          "data": {
            "text/plain": [
              "                  Company Ticker    Market Cap Stock Price  \\\n",
              "11   Royal Bank Of Canada     RY  1.437200e+11      103.93   \n",
              "15  Toronto Dominion Bank     TD  1.268800e+11       69.69   \n",
              "28       Bank of Montreal    BMO  7.143000e+10      101.43   \n",
              "34             Scotiabank    BNS  6.573000e+10       55.12   \n",
              "68                   CIBC     CM  4.193000e+10       46.21   \n",
              "\n",
              "    Today's Price Change (%) Price Status Country  \n",
              "11                      0.54           Up  Canada  \n",
              "15                      1.26           Up  Canada  \n",
              "28                      0.52           Up  Canada  \n",
              "34                      1.47           Up  Canada  \n",
              "68                      1.09           Up  Canada  "
            ],
            "text/html": [
              "\n",
              "  <div id=\"df-22b9815b-658e-46b9-8857-6e446c59ffec\">\n",
              "    <div class=\"colab-df-container\">\n",
              "      <div>\n",
              "<style scoped>\n",
              "    .dataframe tbody tr th:only-of-type {\n",
              "        vertical-align: middle;\n",
              "    }\n",
              "\n",
              "    .dataframe tbody tr th {\n",
              "        vertical-align: top;\n",
              "    }\n",
              "\n",
              "    .dataframe thead th {\n",
              "        text-align: right;\n",
              "    }\n",
              "</style>\n",
              "<table border=\"1\" class=\"dataframe\">\n",
              "  <thead>\n",
              "    <tr style=\"text-align: right;\">\n",
              "      <th></th>\n",
              "      <th>Company</th>\n",
              "      <th>Ticker</th>\n",
              "      <th>Market Cap</th>\n",
              "      <th>Stock Price</th>\n",
              "      <th>Today's Price Change (%)</th>\n",
              "      <th>Price Status</th>\n",
              "      <th>Country</th>\n",
              "    </tr>\n",
              "  </thead>\n",
              "  <tbody>\n",
              "    <tr>\n",
              "      <th>11</th>\n",
              "      <td>Royal Bank Of Canada</td>\n",
              "      <td>RY</td>\n",
              "      <td>1.437200e+11</td>\n",
              "      <td>103.93</td>\n",
              "      <td>0.54</td>\n",
              "      <td>Up</td>\n",
              "      <td>Canada</td>\n",
              "    </tr>\n",
              "    <tr>\n",
              "      <th>15</th>\n",
              "      <td>Toronto Dominion Bank</td>\n",
              "      <td>TD</td>\n",
              "      <td>1.268800e+11</td>\n",
              "      <td>69.69</td>\n",
              "      <td>1.26</td>\n",
              "      <td>Up</td>\n",
              "      <td>Canada</td>\n",
              "    </tr>\n",
              "    <tr>\n",
              "      <th>28</th>\n",
              "      <td>Bank of Montreal</td>\n",
              "      <td>BMO</td>\n",
              "      <td>7.143000e+10</td>\n",
              "      <td>101.43</td>\n",
              "      <td>0.52</td>\n",
              "      <td>Up</td>\n",
              "      <td>Canada</td>\n",
              "    </tr>\n",
              "    <tr>\n",
              "      <th>34</th>\n",
              "      <td>Scotiabank</td>\n",
              "      <td>BNS</td>\n",
              "      <td>6.573000e+10</td>\n",
              "      <td>55.12</td>\n",
              "      <td>1.47</td>\n",
              "      <td>Up</td>\n",
              "      <td>Canada</td>\n",
              "    </tr>\n",
              "    <tr>\n",
              "      <th>68</th>\n",
              "      <td>CIBC</td>\n",
              "      <td>CM</td>\n",
              "      <td>4.193000e+10</td>\n",
              "      <td>46.21</td>\n",
              "      <td>1.09</td>\n",
              "      <td>Up</td>\n",
              "      <td>Canada</td>\n",
              "    </tr>\n",
              "  </tbody>\n",
              "</table>\n",
              "</div>\n",
              "      <button class=\"colab-df-convert\" onclick=\"convertToInteractive('df-22b9815b-658e-46b9-8857-6e446c59ffec')\"\n",
              "              title=\"Convert this dataframe to an interactive table.\"\n",
              "              style=\"display:none;\">\n",
              "        \n",
              "  <svg xmlns=\"http://www.w3.org/2000/svg\" height=\"24px\"viewBox=\"0 0 24 24\"\n",
              "       width=\"24px\">\n",
              "    <path d=\"M0 0h24v24H0V0z\" fill=\"none\"/>\n",
              "    <path d=\"M18.56 5.44l.94 2.06.94-2.06 2.06-.94-2.06-.94-.94-2.06-.94 2.06-2.06.94zm-11 1L8.5 8.5l.94-2.06 2.06-.94-2.06-.94L8.5 2.5l-.94 2.06-2.06.94zm10 10l.94 2.06.94-2.06 2.06-.94-2.06-.94-.94-2.06-.94 2.06-2.06.94z\"/><path d=\"M17.41 7.96l-1.37-1.37c-.4-.4-.92-.59-1.43-.59-.52 0-1.04.2-1.43.59L10.3 9.45l-7.72 7.72c-.78.78-.78 2.05 0 2.83L4 21.41c.39.39.9.59 1.41.59.51 0 1.02-.2 1.41-.59l7.78-7.78 2.81-2.81c.8-.78.8-2.07 0-2.86zM5.41 20L4 18.59l7.72-7.72 1.47 1.35L5.41 20z\"/>\n",
              "  </svg>\n",
              "      </button>\n",
              "      \n",
              "  <style>\n",
              "    .colab-df-container {\n",
              "      display:flex;\n",
              "      flex-wrap:wrap;\n",
              "      gap: 12px;\n",
              "    }\n",
              "\n",
              "    .colab-df-convert {\n",
              "      background-color: #E8F0FE;\n",
              "      border: none;\n",
              "      border-radius: 50%;\n",
              "      cursor: pointer;\n",
              "      display: none;\n",
              "      fill: #1967D2;\n",
              "      height: 32px;\n",
              "      padding: 0 0 0 0;\n",
              "      width: 32px;\n",
              "    }\n",
              "\n",
              "    .colab-df-convert:hover {\n",
              "      background-color: #E2EBFA;\n",
              "      box-shadow: 0px 1px 2px rgba(60, 64, 67, 0.3), 0px 1px 3px 1px rgba(60, 64, 67, 0.15);\n",
              "      fill: #174EA6;\n",
              "    }\n",
              "\n",
              "    [theme=dark] .colab-df-convert {\n",
              "      background-color: #3B4455;\n",
              "      fill: #D2E3FC;\n",
              "    }\n",
              "\n",
              "    [theme=dark] .colab-df-convert:hover {\n",
              "      background-color: #434B5C;\n",
              "      box-shadow: 0px 1px 3px 1px rgba(0, 0, 0, 0.15);\n",
              "      filter: drop-shadow(0px 1px 2px rgba(0, 0, 0, 0.3));\n",
              "      fill: #FFFFFF;\n",
              "    }\n",
              "  </style>\n",
              "\n",
              "      <script>\n",
              "        const buttonEl =\n",
              "          document.querySelector('#df-22b9815b-658e-46b9-8857-6e446c59ffec button.colab-df-convert');\n",
              "        buttonEl.style.display =\n",
              "          google.colab.kernel.accessAllowed ? 'block' : 'none';\n",
              "\n",
              "        async function convertToInteractive(key) {\n",
              "          const element = document.querySelector('#df-22b9815b-658e-46b9-8857-6e446c59ffec');\n",
              "          const dataTable =\n",
              "            await google.colab.kernel.invokeFunction('convertToInteractive',\n",
              "                                                     [key], {});\n",
              "          if (!dataTable) return;\n",
              "\n",
              "          const docLinkHtml = 'Like what you see? Visit the ' +\n",
              "            '<a target=\"_blank\" href=https://colab.research.google.com/notebooks/data_table.ipynb>data table notebook</a>'\n",
              "            + ' to learn more about interactive tables.';\n",
              "          element.innerHTML = '';\n",
              "          dataTable['output_type'] = 'display_data';\n",
              "          await google.colab.output.renderOutput(dataTable, element);\n",
              "          const docLink = document.createElement('div');\n",
              "          docLink.innerHTML = docLinkHtml;\n",
              "          element.appendChild(docLink);\n",
              "        }\n",
              "      </script>\n",
              "    </div>\n",
              "  </div>\n",
              "  "
            ]
          },
          "metadata": {},
          "execution_count": 110
        }
      ]
    },
    {
      "cell_type": "markdown",
      "source": [
        "**Data frame for financial services and banks from Canada.**"
      ],
      "metadata": {
        "id": "UnD54_eAG3rx"
      }
    },
    {
      "cell_type": "code",
      "source": [
        "df_canadian_companies = df[df['Country'] == 'Canada']"
      ],
      "metadata": {
        "id": "CWZ0pdrCGtkJ"
      },
      "execution_count": 111,
      "outputs": []
    },
    {
      "cell_type": "code",
      "source": [
        "df_canadian_companies.head()"
      ],
      "metadata": {
        "id": "dqi1KfSgIMan",
        "colab": {
          "base_uri": "https://localhost:8080/",
          "height": 206
        },
        "outputId": "03fd7058-9b0d-45ae-bf47-120538ad545e"
      },
      "execution_count": 112,
      "outputs": [
        {
          "output_type": "execute_result",
          "data": {
            "text/plain": [
              "                  Company Ticker    Market Cap Stock Price  \\\n",
              "11   Royal Bank Of Canada     RY  1.437200e+11      103.93   \n",
              "15  Toronto Dominion Bank     TD  1.268800e+11       69.69   \n",
              "28       Bank of Montreal    BMO  7.143000e+10      101.43   \n",
              "34             Scotiabank    BNS  6.573000e+10       55.12   \n",
              "68                   CIBC     CM  4.193000e+10       46.21   \n",
              "\n",
              "    Today's Price Change (%) Price Status Country  \n",
              "11                      0.54           Up  Canada  \n",
              "15                      1.26           Up  Canada  \n",
              "28                      0.52           Up  Canada  \n",
              "34                      1.47           Up  Canada  \n",
              "68                      1.09           Up  Canada  "
            ],
            "text/html": [
              "\n",
              "  <div id=\"df-bf1264c2-5497-4812-9a1e-091c9a7a509a\">\n",
              "    <div class=\"colab-df-container\">\n",
              "      <div>\n",
              "<style scoped>\n",
              "    .dataframe tbody tr th:only-of-type {\n",
              "        vertical-align: middle;\n",
              "    }\n",
              "\n",
              "    .dataframe tbody tr th {\n",
              "        vertical-align: top;\n",
              "    }\n",
              "\n",
              "    .dataframe thead th {\n",
              "        text-align: right;\n",
              "    }\n",
              "</style>\n",
              "<table border=\"1\" class=\"dataframe\">\n",
              "  <thead>\n",
              "    <tr style=\"text-align: right;\">\n",
              "      <th></th>\n",
              "      <th>Company</th>\n",
              "      <th>Ticker</th>\n",
              "      <th>Market Cap</th>\n",
              "      <th>Stock Price</th>\n",
              "      <th>Today's Price Change (%)</th>\n",
              "      <th>Price Status</th>\n",
              "      <th>Country</th>\n",
              "    </tr>\n",
              "  </thead>\n",
              "  <tbody>\n",
              "    <tr>\n",
              "      <th>11</th>\n",
              "      <td>Royal Bank Of Canada</td>\n",
              "      <td>RY</td>\n",
              "      <td>1.437200e+11</td>\n",
              "      <td>103.93</td>\n",
              "      <td>0.54</td>\n",
              "      <td>Up</td>\n",
              "      <td>Canada</td>\n",
              "    </tr>\n",
              "    <tr>\n",
              "      <th>15</th>\n",
              "      <td>Toronto Dominion Bank</td>\n",
              "      <td>TD</td>\n",
              "      <td>1.268800e+11</td>\n",
              "      <td>69.69</td>\n",
              "      <td>1.26</td>\n",
              "      <td>Up</td>\n",
              "      <td>Canada</td>\n",
              "    </tr>\n",
              "    <tr>\n",
              "      <th>28</th>\n",
              "      <td>Bank of Montreal</td>\n",
              "      <td>BMO</td>\n",
              "      <td>7.143000e+10</td>\n",
              "      <td>101.43</td>\n",
              "      <td>0.52</td>\n",
              "      <td>Up</td>\n",
              "      <td>Canada</td>\n",
              "    </tr>\n",
              "    <tr>\n",
              "      <th>34</th>\n",
              "      <td>Scotiabank</td>\n",
              "      <td>BNS</td>\n",
              "      <td>6.573000e+10</td>\n",
              "      <td>55.12</td>\n",
              "      <td>1.47</td>\n",
              "      <td>Up</td>\n",
              "      <td>Canada</td>\n",
              "    </tr>\n",
              "    <tr>\n",
              "      <th>68</th>\n",
              "      <td>CIBC</td>\n",
              "      <td>CM</td>\n",
              "      <td>4.193000e+10</td>\n",
              "      <td>46.21</td>\n",
              "      <td>1.09</td>\n",
              "      <td>Up</td>\n",
              "      <td>Canada</td>\n",
              "    </tr>\n",
              "  </tbody>\n",
              "</table>\n",
              "</div>\n",
              "      <button class=\"colab-df-convert\" onclick=\"convertToInteractive('df-bf1264c2-5497-4812-9a1e-091c9a7a509a')\"\n",
              "              title=\"Convert this dataframe to an interactive table.\"\n",
              "              style=\"display:none;\">\n",
              "        \n",
              "  <svg xmlns=\"http://www.w3.org/2000/svg\" height=\"24px\"viewBox=\"0 0 24 24\"\n",
              "       width=\"24px\">\n",
              "    <path d=\"M0 0h24v24H0V0z\" fill=\"none\"/>\n",
              "    <path d=\"M18.56 5.44l.94 2.06.94-2.06 2.06-.94-2.06-.94-.94-2.06-.94 2.06-2.06.94zm-11 1L8.5 8.5l.94-2.06 2.06-.94-2.06-.94L8.5 2.5l-.94 2.06-2.06.94zm10 10l.94 2.06.94-2.06 2.06-.94-2.06-.94-.94-2.06-.94 2.06-2.06.94z\"/><path d=\"M17.41 7.96l-1.37-1.37c-.4-.4-.92-.59-1.43-.59-.52 0-1.04.2-1.43.59L10.3 9.45l-7.72 7.72c-.78.78-.78 2.05 0 2.83L4 21.41c.39.39.9.59 1.41.59.51 0 1.02-.2 1.41-.59l7.78-7.78 2.81-2.81c.8-.78.8-2.07 0-2.86zM5.41 20L4 18.59l7.72-7.72 1.47 1.35L5.41 20z\"/>\n",
              "  </svg>\n",
              "      </button>\n",
              "      \n",
              "  <style>\n",
              "    .colab-df-container {\n",
              "      display:flex;\n",
              "      flex-wrap:wrap;\n",
              "      gap: 12px;\n",
              "    }\n",
              "\n",
              "    .colab-df-convert {\n",
              "      background-color: #E8F0FE;\n",
              "      border: none;\n",
              "      border-radius: 50%;\n",
              "      cursor: pointer;\n",
              "      display: none;\n",
              "      fill: #1967D2;\n",
              "      height: 32px;\n",
              "      padding: 0 0 0 0;\n",
              "      width: 32px;\n",
              "    }\n",
              "\n",
              "    .colab-df-convert:hover {\n",
              "      background-color: #E2EBFA;\n",
              "      box-shadow: 0px 1px 2px rgba(60, 64, 67, 0.3), 0px 1px 3px 1px rgba(60, 64, 67, 0.15);\n",
              "      fill: #174EA6;\n",
              "    }\n",
              "\n",
              "    [theme=dark] .colab-df-convert {\n",
              "      background-color: #3B4455;\n",
              "      fill: #D2E3FC;\n",
              "    }\n",
              "\n",
              "    [theme=dark] .colab-df-convert:hover {\n",
              "      background-color: #434B5C;\n",
              "      box-shadow: 0px 1px 3px 1px rgba(0, 0, 0, 0.15);\n",
              "      filter: drop-shadow(0px 1px 2px rgba(0, 0, 0, 0.3));\n",
              "      fill: #FFFFFF;\n",
              "    }\n",
              "  </style>\n",
              "\n",
              "      <script>\n",
              "        const buttonEl =\n",
              "          document.querySelector('#df-bf1264c2-5497-4812-9a1e-091c9a7a509a button.colab-df-convert');\n",
              "        buttonEl.style.display =\n",
              "          google.colab.kernel.accessAllowed ? 'block' : 'none';\n",
              "\n",
              "        async function convertToInteractive(key) {\n",
              "          const element = document.querySelector('#df-bf1264c2-5497-4812-9a1e-091c9a7a509a');\n",
              "          const dataTable =\n",
              "            await google.colab.kernel.invokeFunction('convertToInteractive',\n",
              "                                                     [key], {});\n",
              "          if (!dataTable) return;\n",
              "\n",
              "          const docLinkHtml = 'Like what you see? Visit the ' +\n",
              "            '<a target=\"_blank\" href=https://colab.research.google.com/notebooks/data_table.ipynb>data table notebook</a>'\n",
              "            + ' to learn more about interactive tables.';\n",
              "          element.innerHTML = '';\n",
              "          dataTable['output_type'] = 'display_data';\n",
              "          await google.colab.output.renderOutput(dataTable, element);\n",
              "          const docLink = document.createElement('div');\n",
              "          docLink.innerHTML = docLinkHtml;\n",
              "          element.appendChild(docLink);\n",
              "        }\n",
              "      </script>\n",
              "    </div>\n",
              "  </div>\n",
              "  "
            ]
          },
          "metadata": {},
          "execution_count": 112
        }
      ]
    },
    {
      "cell_type": "markdown",
      "source": [
        "***SQL Query to show all Canadian financial services companies from the top 100 market cap list of Financial Services.***"
      ],
      "metadata": {
        "id": "_8_Lfj1OI24t"
      }
    },
    {
      "cell_type": "code",
      "source": [
        "query = \"SELECT * FROM df_canadian_companies WHERE Country= 'Canada'\"\n",
        "pysqldf(query)"
      ],
      "metadata": {
        "id": "qpiUOSgQIwiL",
        "colab": {
          "base_uri": "https://localhost:8080/",
          "height": 269
        },
        "outputId": "8c8f853f-0f96-4f52-fd89-cb0787ba81b1"
      },
      "execution_count": 113,
      "outputs": [
        {
          "output_type": "execute_result",
          "data": {
            "text/plain": [
              "                 Company Ticker    Market Cap Stock Price  \\\n",
              "0   Royal Bank Of Canada     RY  1.437200e+11      103.93   \n",
              "1  Toronto Dominion Bank     TD  1.268800e+11       69.69   \n",
              "2       Bank of Montreal    BMO  7.143000e+10      101.43   \n",
              "3             Scotiabank    BNS  6.573000e+10       55.12   \n",
              "4                   CIBC     CM  4.193000e+10       46.21   \n",
              "5     Manulife Financial    MFC  3.646000e+10       19.55   \n",
              "6     Sun Life Financial    SLF  2.976000e+10       50.71   \n",
              "\n",
              "   Today's Price Change (%) Price Status Country  \n",
              "0                      0.54           Up  Canada  \n",
              "1                      1.26           Up  Canada  \n",
              "2                      0.52           Up  Canada  \n",
              "3                      1.47           Up  Canada  \n",
              "4                      1.09           Up  Canada  \n",
              "5                      0.62           Up  Canada  \n",
              "6                      0.00           Up  Canada  "
            ],
            "text/html": [
              "\n",
              "  <div id=\"df-c8c690bc-81ea-4e1d-925f-58f8bfc2a1aa\">\n",
              "    <div class=\"colab-df-container\">\n",
              "      <div>\n",
              "<style scoped>\n",
              "    .dataframe tbody tr th:only-of-type {\n",
              "        vertical-align: middle;\n",
              "    }\n",
              "\n",
              "    .dataframe tbody tr th {\n",
              "        vertical-align: top;\n",
              "    }\n",
              "\n",
              "    .dataframe thead th {\n",
              "        text-align: right;\n",
              "    }\n",
              "</style>\n",
              "<table border=\"1\" class=\"dataframe\">\n",
              "  <thead>\n",
              "    <tr style=\"text-align: right;\">\n",
              "      <th></th>\n",
              "      <th>Company</th>\n",
              "      <th>Ticker</th>\n",
              "      <th>Market Cap</th>\n",
              "      <th>Stock Price</th>\n",
              "      <th>Today's Price Change (%)</th>\n",
              "      <th>Price Status</th>\n",
              "      <th>Country</th>\n",
              "    </tr>\n",
              "  </thead>\n",
              "  <tbody>\n",
              "    <tr>\n",
              "      <th>0</th>\n",
              "      <td>Royal Bank Of Canada</td>\n",
              "      <td>RY</td>\n",
              "      <td>1.437200e+11</td>\n",
              "      <td>103.93</td>\n",
              "      <td>0.54</td>\n",
              "      <td>Up</td>\n",
              "      <td>Canada</td>\n",
              "    </tr>\n",
              "    <tr>\n",
              "      <th>1</th>\n",
              "      <td>Toronto Dominion Bank</td>\n",
              "      <td>TD</td>\n",
              "      <td>1.268800e+11</td>\n",
              "      <td>69.69</td>\n",
              "      <td>1.26</td>\n",
              "      <td>Up</td>\n",
              "      <td>Canada</td>\n",
              "    </tr>\n",
              "    <tr>\n",
              "      <th>2</th>\n",
              "      <td>Bank of Montreal</td>\n",
              "      <td>BMO</td>\n",
              "      <td>7.143000e+10</td>\n",
              "      <td>101.43</td>\n",
              "      <td>0.52</td>\n",
              "      <td>Up</td>\n",
              "      <td>Canada</td>\n",
              "    </tr>\n",
              "    <tr>\n",
              "      <th>3</th>\n",
              "      <td>Scotiabank</td>\n",
              "      <td>BNS</td>\n",
              "      <td>6.573000e+10</td>\n",
              "      <td>55.12</td>\n",
              "      <td>1.47</td>\n",
              "      <td>Up</td>\n",
              "      <td>Canada</td>\n",
              "    </tr>\n",
              "    <tr>\n",
              "      <th>4</th>\n",
              "      <td>CIBC</td>\n",
              "      <td>CM</td>\n",
              "      <td>4.193000e+10</td>\n",
              "      <td>46.21</td>\n",
              "      <td>1.09</td>\n",
              "      <td>Up</td>\n",
              "      <td>Canada</td>\n",
              "    </tr>\n",
              "    <tr>\n",
              "      <th>5</th>\n",
              "      <td>Manulife Financial</td>\n",
              "      <td>MFC</td>\n",
              "      <td>3.646000e+10</td>\n",
              "      <td>19.55</td>\n",
              "      <td>0.62</td>\n",
              "      <td>Up</td>\n",
              "      <td>Canada</td>\n",
              "    </tr>\n",
              "    <tr>\n",
              "      <th>6</th>\n",
              "      <td>Sun Life Financial</td>\n",
              "      <td>SLF</td>\n",
              "      <td>2.976000e+10</td>\n",
              "      <td>50.71</td>\n",
              "      <td>0.00</td>\n",
              "      <td>Up</td>\n",
              "      <td>Canada</td>\n",
              "    </tr>\n",
              "  </tbody>\n",
              "</table>\n",
              "</div>\n",
              "      <button class=\"colab-df-convert\" onclick=\"convertToInteractive('df-c8c690bc-81ea-4e1d-925f-58f8bfc2a1aa')\"\n",
              "              title=\"Convert this dataframe to an interactive table.\"\n",
              "              style=\"display:none;\">\n",
              "        \n",
              "  <svg xmlns=\"http://www.w3.org/2000/svg\" height=\"24px\"viewBox=\"0 0 24 24\"\n",
              "       width=\"24px\">\n",
              "    <path d=\"M0 0h24v24H0V0z\" fill=\"none\"/>\n",
              "    <path d=\"M18.56 5.44l.94 2.06.94-2.06 2.06-.94-2.06-.94-.94-2.06-.94 2.06-2.06.94zm-11 1L8.5 8.5l.94-2.06 2.06-.94-2.06-.94L8.5 2.5l-.94 2.06-2.06.94zm10 10l.94 2.06.94-2.06 2.06-.94-2.06-.94-.94-2.06-.94 2.06-2.06.94z\"/><path d=\"M17.41 7.96l-1.37-1.37c-.4-.4-.92-.59-1.43-.59-.52 0-1.04.2-1.43.59L10.3 9.45l-7.72 7.72c-.78.78-.78 2.05 0 2.83L4 21.41c.39.39.9.59 1.41.59.51 0 1.02-.2 1.41-.59l7.78-7.78 2.81-2.81c.8-.78.8-2.07 0-2.86zM5.41 20L4 18.59l7.72-7.72 1.47 1.35L5.41 20z\"/>\n",
              "  </svg>\n",
              "      </button>\n",
              "      \n",
              "  <style>\n",
              "    .colab-df-container {\n",
              "      display:flex;\n",
              "      flex-wrap:wrap;\n",
              "      gap: 12px;\n",
              "    }\n",
              "\n",
              "    .colab-df-convert {\n",
              "      background-color: #E8F0FE;\n",
              "      border: none;\n",
              "      border-radius: 50%;\n",
              "      cursor: pointer;\n",
              "      display: none;\n",
              "      fill: #1967D2;\n",
              "      height: 32px;\n",
              "      padding: 0 0 0 0;\n",
              "      width: 32px;\n",
              "    }\n",
              "\n",
              "    .colab-df-convert:hover {\n",
              "      background-color: #E2EBFA;\n",
              "      box-shadow: 0px 1px 2px rgba(60, 64, 67, 0.3), 0px 1px 3px 1px rgba(60, 64, 67, 0.15);\n",
              "      fill: #174EA6;\n",
              "    }\n",
              "\n",
              "    [theme=dark] .colab-df-convert {\n",
              "      background-color: #3B4455;\n",
              "      fill: #D2E3FC;\n",
              "    }\n",
              "\n",
              "    [theme=dark] .colab-df-convert:hover {\n",
              "      background-color: #434B5C;\n",
              "      box-shadow: 0px 1px 3px 1px rgba(0, 0, 0, 0.15);\n",
              "      filter: drop-shadow(0px 1px 2px rgba(0, 0, 0, 0.3));\n",
              "      fill: #FFFFFF;\n",
              "    }\n",
              "  </style>\n",
              "\n",
              "      <script>\n",
              "        const buttonEl =\n",
              "          document.querySelector('#df-c8c690bc-81ea-4e1d-925f-58f8bfc2a1aa button.colab-df-convert');\n",
              "        buttonEl.style.display =\n",
              "          google.colab.kernel.accessAllowed ? 'block' : 'none';\n",
              "\n",
              "        async function convertToInteractive(key) {\n",
              "          const element = document.querySelector('#df-c8c690bc-81ea-4e1d-925f-58f8bfc2a1aa');\n",
              "          const dataTable =\n",
              "            await google.colab.kernel.invokeFunction('convertToInteractive',\n",
              "                                                     [key], {});\n",
              "          if (!dataTable) return;\n",
              "\n",
              "          const docLinkHtml = 'Like what you see? Visit the ' +\n",
              "            '<a target=\"_blank\" href=https://colab.research.google.com/notebooks/data_table.ipynb>data table notebook</a>'\n",
              "            + ' to learn more about interactive tables.';\n",
              "          element.innerHTML = '';\n",
              "          dataTable['output_type'] = 'display_data';\n",
              "          await google.colab.output.renderOutput(dataTable, element);\n",
              "          const docLink = document.createElement('div');\n",
              "          docLink.innerHTML = docLinkHtml;\n",
              "          element.appendChild(docLink);\n",
              "        }\n",
              "      </script>\n",
              "    </div>\n",
              "  </div>\n",
              "  "
            ]
          },
          "metadata": {},
          "execution_count": 113
        }
      ]
    },
    {
      "cell_type": "markdown",
      "source": [
        "**Creating a CSV file now.**"
      ],
      "metadata": {
        "id": "LNoYsmcsKg7e"
      }
    },
    {
      "cell_type": "markdown",
      "source": [],
      "metadata": {
        "id": "uTreGcNGS0L3"
      }
    },
    {
      "cell_type": "code",
      "source": [
        "no_of_countries = df.Country.nunique()\n",
        "print(f'There are {no_of_countries} countries in the dataset')"
      ],
      "metadata": {
        "id": "ShCMW2o_JQ-e",
        "colab": {
          "base_uri": "https://localhost:8080/"
        },
        "outputId": "60c52736-6b5e-4a3d-8f27-0ee8022f059d"
      },
      "execution_count": 114,
      "outputs": [
        {
          "output_type": "stream",
          "name": "stdout",
          "text": [
            "There are 22 countries in the dataset\n"
          ]
        }
      ]
    },
    {
      "cell_type": "markdown",
      "source": [
        "**Data Visualisation**"
      ],
      "metadata": {
        "id": "vtR41RtiSy8N"
      }
    },
    {
      "cell_type": "markdown",
      "source": [
        "***Setting up default parameters.***"
      ],
      "metadata": {
        "id": "iyy9jKdJX35z"
      }
    },
    {
      "cell_type": "code",
      "source": [
        "%config InlineBackend.figure_format = 'retina'\n",
        "\n",
        "facecolor = '#3d3d5c'\n",
        "plt.rcParams['figure.facecolor'] = facecolor\n",
        "plt.rcParams['axes.facecolor'] = facecolor\n",
        "plt.rcParams['axes.edgecolor'] = 'white'\n",
        "plt.rcParams['xtick.color'] = 'white'\n",
        "plt.rcParams['ytick.color'] = 'white'\n",
        "plt.rcParams['axes.labelcolor'] = 'white'\n",
        "plt.rcParams['axes.titlecolor'] = 'white'\n",
        "\n",
        "plt.rcParams['axes.spines.right'] = False\n",
        "plt.rcParams['axes.spines.top'] = False\n",
        "\n",
        "font_size = 18\n",
        "plt.rcParams['axes.linewidth'] = 1.5\n",
        "plt.rcParams['axes.titlesize'] = 12 \n",
        "plt.rcParams['axes.labelsize'] = 12\n",
        "plt.rcParams['xtick.labelsize'] = 10\n",
        "plt.rcParams['ytick.labelsize'] = 10\n",
        "plt.rcParams['legend.fontsize'] = 10\n",
        "\n",
        "plt.rcParams['axes.titleweight'] = 'bold'\n",
        "plt.rcParams['font.family'] = 'Georgia'"
      ],
      "metadata": {
        "id": "HC7C0QScQrSC"
      },
      "execution_count": 115,
      "outputs": []
    },
    {
      "cell_type": "markdown",
      "source": [
        "**Countries having financial services company in the top 100 market cap list.**\n",
        "\n",
        "---\n",
        "\n"
      ],
      "metadata": {
        "id": "IzvFUgpTYXIs"
      }
    },
    {
      "cell_type": "code",
      "source": [
        "df_countries = pd.DataFrame({'Country': df['Country'].unique()})\n",
        "\n",
        "fig = px.choropleth(df_countries,\n",
        "                    locations='Country',\n",
        "                    color_discrete_sequence=np.full(no_of_countries, '#ffbf00'),\n",
        "                    locationmode='country names',\n",
        "                    fitbounds='locations')\n",
        "\n",
        "fig.update_layout(width=800,\n",
        "                  plot_bgcolor=facecolor,\n",
        "                  paper_bgcolor=facecolor,\n",
        "                  geo=dict(bgcolor=facecolor,\n",
        "                           landcolor='#663300',\n",
        "                           showlakes=False,\n",
        "                           showocean=True,\n",
        "                           oceancolor=facecolor),\n",
        "                  title={\n",
        "                      'text':\n",
        "                      'Countries having headquarters of Financial Services Companies.',\n",
        "                      'x': 0.5,\n",
        "                      'xanchor': 'center',\n",
        "                      'y': 0.95,\n",
        "                      'font': {'color': 'white', 'size': 22, 'family': 'Helvetica'}\n",
        "                  },\n",
        "                  margin={'r': 0, 't': 0, 'l': 0, 'b': 0})\n",
        "\n",
        "fig.update_traces(showlegend=False)\n",
        "fig.update_geos(resolution=50, visible=True)\n",
        "\n"
      ],
      "metadata": {
        "id": "0qE58ZM8Yn70",
        "colab": {
          "base_uri": "https://localhost:8080/",
          "height": 542
        },
        "outputId": "9d88851d-8640-47d1-8029-bfc815a5a3cc"
      },
      "execution_count": 116,
      "outputs": [
        {
          "output_type": "display_data",
          "data": {
            "text/html": [
              "<html>\n",
              "<head><meta charset=\"utf-8\" /></head>\n",
              "<body>\n",
              "    <div>            <script src=\"https://cdnjs.cloudflare.com/ajax/libs/mathjax/2.7.5/MathJax.js?config=TeX-AMS-MML_SVG\"></script><script type=\"text/javascript\">if (window.MathJax) {MathJax.Hub.Config({SVG: {font: \"STIX-Web\"}});}</script>                <script type=\"text/javascript\">window.PlotlyConfig = {MathJaxConfig: 'local'};</script>\n",
              "        <script src=\"https://cdn.plot.ly/plotly-2.8.3.min.js\"></script>                <div id=\"1c7737b9-32c1-460f-9e0c-1606652cb225\" class=\"plotly-graph-div\" style=\"height:525px; width:800px;\"></div>            <script type=\"text/javascript\">                                    window.PLOTLYENV=window.PLOTLYENV || {};                                    if (document.getElementById(\"1c7737b9-32c1-460f-9e0c-1606652cb225\")) {                    Plotly.newPlot(                        \"1c7737b9-32c1-460f-9e0c-1606652cb225\",                        [{\"colorscale\":[[0.0,\"#ffbf00\"],[1.0,\"#ffbf00\"]],\"geo\":\"geo\",\"hovertemplate\":\"Country=%{location}<extra></extra>\",\"locationmode\":\"country names\",\"locations\":[\"USA\",\"China\",\"Canada\",\"Australia\",\"India\",\"Japan\",\"France\",\"Saudi Arabia\",\"Indonesia\",\"Singapore\",\"Switzerland\",\"Spain\",\"Hong Kong\",\"UK\",\"Italy\",\"Netherlands\",\"Brazil\",\"Finland\",\"UAE\",\"Ireland\",\"Germany\",\"Norway\"],\"name\":\"\",\"showlegend\":false,\"showscale\":false,\"z\":[1,1,1,1,1,1,1,1,1,1,1,1,1,1,1,1,1,1,1,1,1,1],\"type\":\"choropleth\"}],                        {\"template\":{\"data\":{\"bar\":[{\"error_x\":{\"color\":\"#2a3f5f\"},\"error_y\":{\"color\":\"#2a3f5f\"},\"marker\":{\"line\":{\"color\":\"#E5ECF6\",\"width\":0.5},\"pattern\":{\"fillmode\":\"overlay\",\"size\":10,\"solidity\":0.2}},\"type\":\"bar\"}],\"barpolar\":[{\"marker\":{\"line\":{\"color\":\"#E5ECF6\",\"width\":0.5},\"pattern\":{\"fillmode\":\"overlay\",\"size\":10,\"solidity\":0.2}},\"type\":\"barpolar\"}],\"carpet\":[{\"aaxis\":{\"endlinecolor\":\"#2a3f5f\",\"gridcolor\":\"white\",\"linecolor\":\"white\",\"minorgridcolor\":\"white\",\"startlinecolor\":\"#2a3f5f\"},\"baxis\":{\"endlinecolor\":\"#2a3f5f\",\"gridcolor\":\"white\",\"linecolor\":\"white\",\"minorgridcolor\":\"white\",\"startlinecolor\":\"#2a3f5f\"},\"type\":\"carpet\"}],\"choropleth\":[{\"colorbar\":{\"outlinewidth\":0,\"ticks\":\"\"},\"type\":\"choropleth\"}],\"contour\":[{\"colorbar\":{\"outlinewidth\":0,\"ticks\":\"\"},\"colorscale\":[[0.0,\"#0d0887\"],[0.1111111111111111,\"#46039f\"],[0.2222222222222222,\"#7201a8\"],[0.3333333333333333,\"#9c179e\"],[0.4444444444444444,\"#bd3786\"],[0.5555555555555556,\"#d8576b\"],[0.6666666666666666,\"#ed7953\"],[0.7777777777777778,\"#fb9f3a\"],[0.8888888888888888,\"#fdca26\"],[1.0,\"#f0f921\"]],\"type\":\"contour\"}],\"contourcarpet\":[{\"colorbar\":{\"outlinewidth\":0,\"ticks\":\"\"},\"type\":\"contourcarpet\"}],\"heatmap\":[{\"colorbar\":{\"outlinewidth\":0,\"ticks\":\"\"},\"colorscale\":[[0.0,\"#0d0887\"],[0.1111111111111111,\"#46039f\"],[0.2222222222222222,\"#7201a8\"],[0.3333333333333333,\"#9c179e\"],[0.4444444444444444,\"#bd3786\"],[0.5555555555555556,\"#d8576b\"],[0.6666666666666666,\"#ed7953\"],[0.7777777777777778,\"#fb9f3a\"],[0.8888888888888888,\"#fdca26\"],[1.0,\"#f0f921\"]],\"type\":\"heatmap\"}],\"heatmapgl\":[{\"colorbar\":{\"outlinewidth\":0,\"ticks\":\"\"},\"colorscale\":[[0.0,\"#0d0887\"],[0.1111111111111111,\"#46039f\"],[0.2222222222222222,\"#7201a8\"],[0.3333333333333333,\"#9c179e\"],[0.4444444444444444,\"#bd3786\"],[0.5555555555555556,\"#d8576b\"],[0.6666666666666666,\"#ed7953\"],[0.7777777777777778,\"#fb9f3a\"],[0.8888888888888888,\"#fdca26\"],[1.0,\"#f0f921\"]],\"type\":\"heatmapgl\"}],\"histogram\":[{\"marker\":{\"pattern\":{\"fillmode\":\"overlay\",\"size\":10,\"solidity\":0.2}},\"type\":\"histogram\"}],\"histogram2d\":[{\"colorbar\":{\"outlinewidth\":0,\"ticks\":\"\"},\"colorscale\":[[0.0,\"#0d0887\"],[0.1111111111111111,\"#46039f\"],[0.2222222222222222,\"#7201a8\"],[0.3333333333333333,\"#9c179e\"],[0.4444444444444444,\"#bd3786\"],[0.5555555555555556,\"#d8576b\"],[0.6666666666666666,\"#ed7953\"],[0.7777777777777778,\"#fb9f3a\"],[0.8888888888888888,\"#fdca26\"],[1.0,\"#f0f921\"]],\"type\":\"histogram2d\"}],\"histogram2dcontour\":[{\"colorbar\":{\"outlinewidth\":0,\"ticks\":\"\"},\"colorscale\":[[0.0,\"#0d0887\"],[0.1111111111111111,\"#46039f\"],[0.2222222222222222,\"#7201a8\"],[0.3333333333333333,\"#9c179e\"],[0.4444444444444444,\"#bd3786\"],[0.5555555555555556,\"#d8576b\"],[0.6666666666666666,\"#ed7953\"],[0.7777777777777778,\"#fb9f3a\"],[0.8888888888888888,\"#fdca26\"],[1.0,\"#f0f921\"]],\"type\":\"histogram2dcontour\"}],\"mesh3d\":[{\"colorbar\":{\"outlinewidth\":0,\"ticks\":\"\"},\"type\":\"mesh3d\"}],\"parcoords\":[{\"line\":{\"colorbar\":{\"outlinewidth\":0,\"ticks\":\"\"}},\"type\":\"parcoords\"}],\"pie\":[{\"automargin\":true,\"type\":\"pie\"}],\"scatter\":[{\"marker\":{\"colorbar\":{\"outlinewidth\":0,\"ticks\":\"\"}},\"type\":\"scatter\"}],\"scatter3d\":[{\"line\":{\"colorbar\":{\"outlinewidth\":0,\"ticks\":\"\"}},\"marker\":{\"colorbar\":{\"outlinewidth\":0,\"ticks\":\"\"}},\"type\":\"scatter3d\"}],\"scattercarpet\":[{\"marker\":{\"colorbar\":{\"outlinewidth\":0,\"ticks\":\"\"}},\"type\":\"scattercarpet\"}],\"scattergeo\":[{\"marker\":{\"colorbar\":{\"outlinewidth\":0,\"ticks\":\"\"}},\"type\":\"scattergeo\"}],\"scattergl\":[{\"marker\":{\"colorbar\":{\"outlinewidth\":0,\"ticks\":\"\"}},\"type\":\"scattergl\"}],\"scattermapbox\":[{\"marker\":{\"colorbar\":{\"outlinewidth\":0,\"ticks\":\"\"}},\"type\":\"scattermapbox\"}],\"scatterpolar\":[{\"marker\":{\"colorbar\":{\"outlinewidth\":0,\"ticks\":\"\"}},\"type\":\"scatterpolar\"}],\"scatterpolargl\":[{\"marker\":{\"colorbar\":{\"outlinewidth\":0,\"ticks\":\"\"}},\"type\":\"scatterpolargl\"}],\"scatterternary\":[{\"marker\":{\"colorbar\":{\"outlinewidth\":0,\"ticks\":\"\"}},\"type\":\"scatterternary\"}],\"surface\":[{\"colorbar\":{\"outlinewidth\":0,\"ticks\":\"\"},\"colorscale\":[[0.0,\"#0d0887\"],[0.1111111111111111,\"#46039f\"],[0.2222222222222222,\"#7201a8\"],[0.3333333333333333,\"#9c179e\"],[0.4444444444444444,\"#bd3786\"],[0.5555555555555556,\"#d8576b\"],[0.6666666666666666,\"#ed7953\"],[0.7777777777777778,\"#fb9f3a\"],[0.8888888888888888,\"#fdca26\"],[1.0,\"#f0f921\"]],\"type\":\"surface\"}],\"table\":[{\"cells\":{\"fill\":{\"color\":\"#EBF0F8\"},\"line\":{\"color\":\"white\"}},\"header\":{\"fill\":{\"color\":\"#C8D4E3\"},\"line\":{\"color\":\"white\"}},\"type\":\"table\"}]},\"layout\":{\"annotationdefaults\":{\"arrowcolor\":\"#2a3f5f\",\"arrowhead\":0,\"arrowwidth\":1},\"autotypenumbers\":\"strict\",\"coloraxis\":{\"colorbar\":{\"outlinewidth\":0,\"ticks\":\"\"}},\"colorscale\":{\"diverging\":[[0,\"#8e0152\"],[0.1,\"#c51b7d\"],[0.2,\"#de77ae\"],[0.3,\"#f1b6da\"],[0.4,\"#fde0ef\"],[0.5,\"#f7f7f7\"],[0.6,\"#e6f5d0\"],[0.7,\"#b8e186\"],[0.8,\"#7fbc41\"],[0.9,\"#4d9221\"],[1,\"#276419\"]],\"sequential\":[[0.0,\"#0d0887\"],[0.1111111111111111,\"#46039f\"],[0.2222222222222222,\"#7201a8\"],[0.3333333333333333,\"#9c179e\"],[0.4444444444444444,\"#bd3786\"],[0.5555555555555556,\"#d8576b\"],[0.6666666666666666,\"#ed7953\"],[0.7777777777777778,\"#fb9f3a\"],[0.8888888888888888,\"#fdca26\"],[1.0,\"#f0f921\"]],\"sequentialminus\":[[0.0,\"#0d0887\"],[0.1111111111111111,\"#46039f\"],[0.2222222222222222,\"#7201a8\"],[0.3333333333333333,\"#9c179e\"],[0.4444444444444444,\"#bd3786\"],[0.5555555555555556,\"#d8576b\"],[0.6666666666666666,\"#ed7953\"],[0.7777777777777778,\"#fb9f3a\"],[0.8888888888888888,\"#fdca26\"],[1.0,\"#f0f921\"]]},\"colorway\":[\"#636efa\",\"#EF553B\",\"#00cc96\",\"#ab63fa\",\"#FFA15A\",\"#19d3f3\",\"#FF6692\",\"#B6E880\",\"#FF97FF\",\"#FECB52\"],\"font\":{\"color\":\"#2a3f5f\"},\"geo\":{\"bgcolor\":\"white\",\"lakecolor\":\"white\",\"landcolor\":\"#E5ECF6\",\"showlakes\":true,\"showland\":true,\"subunitcolor\":\"white\"},\"hoverlabel\":{\"align\":\"left\"},\"hovermode\":\"closest\",\"mapbox\":{\"style\":\"light\"},\"paper_bgcolor\":\"white\",\"plot_bgcolor\":\"#E5ECF6\",\"polar\":{\"angularaxis\":{\"gridcolor\":\"white\",\"linecolor\":\"white\",\"ticks\":\"\"},\"bgcolor\":\"#E5ECF6\",\"radialaxis\":{\"gridcolor\":\"white\",\"linecolor\":\"white\",\"ticks\":\"\"}},\"scene\":{\"xaxis\":{\"backgroundcolor\":\"#E5ECF6\",\"gridcolor\":\"white\",\"gridwidth\":2,\"linecolor\":\"white\",\"showbackground\":true,\"ticks\":\"\",\"zerolinecolor\":\"white\"},\"yaxis\":{\"backgroundcolor\":\"#E5ECF6\",\"gridcolor\":\"white\",\"gridwidth\":2,\"linecolor\":\"white\",\"showbackground\":true,\"ticks\":\"\",\"zerolinecolor\":\"white\"},\"zaxis\":{\"backgroundcolor\":\"#E5ECF6\",\"gridcolor\":\"white\",\"gridwidth\":2,\"linecolor\":\"white\",\"showbackground\":true,\"ticks\":\"\",\"zerolinecolor\":\"white\"}},\"shapedefaults\":{\"line\":{\"color\":\"#2a3f5f\"}},\"ternary\":{\"aaxis\":{\"gridcolor\":\"white\",\"linecolor\":\"white\",\"ticks\":\"\"},\"baxis\":{\"gridcolor\":\"white\",\"linecolor\":\"white\",\"ticks\":\"\"},\"bgcolor\":\"#E5ECF6\",\"caxis\":{\"gridcolor\":\"white\",\"linecolor\":\"white\",\"ticks\":\"\"}},\"title\":{\"x\":0.05},\"xaxis\":{\"automargin\":true,\"gridcolor\":\"white\",\"linecolor\":\"white\",\"ticks\":\"\",\"title\":{\"standoff\":15},\"zerolinecolor\":\"white\",\"zerolinewidth\":2},\"yaxis\":{\"automargin\":true,\"gridcolor\":\"white\",\"linecolor\":\"white\",\"ticks\":\"\",\"title\":{\"standoff\":15},\"zerolinecolor\":\"white\",\"zerolinewidth\":2}}},\"geo\":{\"domain\":{\"x\":[0.0,1.0],\"y\":[0.0,1.0]},\"center\":{},\"fitbounds\":\"locations\",\"bgcolor\":\"#3d3d5c\",\"landcolor\":\"#663300\",\"showlakes\":false,\"showocean\":true,\"oceancolor\":\"#3d3d5c\",\"resolution\":50,\"visible\":true},\"legend\":{\"tracegroupgap\":0},\"margin\":{\"t\":0,\"r\":0,\"l\":0,\"b\":0},\"title\":{\"font\":{\"color\":\"white\",\"size\":22,\"family\":\"Helvetica\"},\"text\":\"Countries having headquarters of Financial Services Companies.\",\"x\":0.5,\"xanchor\":\"center\",\"y\":0.95},\"width\":800,\"plot_bgcolor\":\"#3d3d5c\",\"paper_bgcolor\":\"#3d3d5c\"},                        {\"responsive\": true}                    ).then(function(){\n",
              "                            \n",
              "var gd = document.getElementById('1c7737b9-32c1-460f-9e0c-1606652cb225');\n",
              "var x = new MutationObserver(function (mutations, observer) {{\n",
              "        var display = window.getComputedStyle(gd).display;\n",
              "        if (!display || display === 'none') {{\n",
              "            console.log([gd, 'removed!']);\n",
              "            Plotly.purge(gd);\n",
              "            observer.disconnect();\n",
              "        }}\n",
              "}});\n",
              "\n",
              "// Listen for the removal of the full notebook cells\n",
              "var notebookContainer = gd.closest('#notebook-container');\n",
              "if (notebookContainer) {{\n",
              "    x.observe(notebookContainer, {childList: true});\n",
              "}}\n",
              "\n",
              "// Listen for the clearing of the current output cell\n",
              "var outputEl = gd.closest('.output');\n",
              "if (outputEl) {{\n",
              "    x.observe(outputEl, {childList: true});\n",
              "}}\n",
              "\n",
              "                        })                };                            </script>        </div>\n",
              "</body>\n",
              "</html>"
            ]
          },
          "metadata": {}
        }
      ]
    },
    {
      "cell_type": "markdown",
      "source": [
        "**Top 10 Countries with highest market cap.**"
      ],
      "metadata": {
        "id": "HQka6PVuhp1r"
      }
    },
    {
      "cell_type": "code",
      "source": [
        "df_total_market_cap = df.groupby('Country')['Market Cap'].sum().to_frame()\n",
        "df_total_market_cap.sort_values(by='Market Cap', ascending=False, inplace=True)"
      ],
      "metadata": {
        "id": "OCWVyR6Ajj55"
      },
      "execution_count": 117,
      "outputs": []
    },
    {
      "cell_type": "code",
      "source": [
        "fig, ax = plt.subplots(figsize=(14, 6), facecolor=facecolor)\n",
        "\n",
        "df_total_market_cap.head(10).plot(kind='bar',\n",
        "                          color='#cc0000',\n",
        "                          edgecolor='#ffff33',\n",
        "                          ax=ax)\n",
        "\n",
        "ax.set_title('Top 10 Countries In Terms Of Total Market Cap.', y=1.02)\n",
        "ax.set(xlabel='Country', ylabel='Total Market Cap. (Trillion)')\n",
        "\n",
        "#scale_y = 1e12\n",
        "#ticks_y = ticker.FuncFormatter(lambda x, pos: '{0:g}'.format(x / scale_y))\n",
        "#ax.yaxis.set_major_formatter(ticks_y)\n",
        "\n",
        "ax.tick_params(axis='x', labelrotation=0)\n",
        "ax.get_legend().remove();"
      ],
      "metadata": {
        "id": "vYYfZUtwjPM-",
        "colab": {
          "base_uri": "https://localhost:8080/",
          "height": 412
        },
        "outputId": "24269e17-370e-41e4-b772-b9498d40c8c8"
      },
      "execution_count": 118,
      "outputs": [
        {
          "output_type": "display_data",
          "data": {
            "text/plain": [
              "<Figure size 1008x432 with 1 Axes>"
            ],
            "image/png": "[encoded data removed]"
          },
          "metadata": {
            "image/png": {
              "width": 834,
              "height": 395
            }
          }
        }
      ]
    },
    {
      "cell_type": "markdown",
      "source": [
        "**Top 10 Countries with most financial services companies.**"
      ],
      "metadata": {
        "id": "XodBT1jwmSqi"
      }
    },
    {
      "cell_type": "code",
      "source": [
        "df_no_of_companies = df.groupby('Country')['Company'].count().reset_index(name=\"company_count\")"
      ],
      "metadata": {
        "id": "lFRzxWaOwvQc"
      },
      "execution_count": 119,
      "outputs": []
    },
    {
      "cell_type": "code",
      "source": [
        "df_no_of_companies.set_index('Country', inplace=True)\n"
      ],
      "metadata": {
        "id": "t8DYvI0g4Jkp"
      },
      "execution_count": 120,
      "outputs": []
    },
    {
      "cell_type": "code",
      "source": [
        "print(df_no_of_companies)"
      ],
      "metadata": {
        "id": "34CTwQX7yel4",
        "colab": {
          "base_uri": "https://localhost:8080/"
        },
        "outputId": "43480462-fa2b-4c95-a5e8-a766cedd5b8e"
      },
      "execution_count": 121,
      "outputs": [
        {
          "output_type": "stream",
          "name": "stdout",
          "text": [
            "              company_count\n",
            "Country                    \n",
            "Australia                 5\n",
            "Brazil                    2\n",
            "Canada                    7\n",
            "China                    13\n",
            "Finland                   1\n",
            "France                    2\n",
            "Germany                   1\n",
            "Hong Kong                 3\n",
            "India                     8\n",
            "Indonesia                 3\n",
            "Ireland                   1\n",
            "Italy                     2\n",
            "Japan                     5\n",
            "Netherlands               2\n",
            "Norway                    1\n",
            "Saudi Arabia              2\n",
            "Singapore                 3\n",
            "Spain                     3\n",
            "Switzerland               1\n",
            "UAE                       1\n",
            "UK                        4\n",
            "USA                      30\n"
          ]
        }
      ]
    },
    {
      "cell_type": "markdown",
      "source": [
        "**Sorting the countries with most company count in descending order.**"
      ],
      "metadata": {
        "id": "3VzHjOoN5w3F"
      }
    },
    {
      "cell_type": "code",
      "source": [
        "df_no_of_companies.sort_values(by='company_count', ascending=False, inplace=True)"
      ],
      "metadata": {
        "id": "aYGC0NZAx_Jl"
      },
      "execution_count": 122,
      "outputs": []
    },
    {
      "cell_type": "code",
      "source": [
        "print(\"Top 10 countries with most companies.\")\n",
        "df_no_of_companies.head(10)"
      ],
      "metadata": {
        "id": "gD4w12gEzh1I",
        "colab": {
          "base_uri": "https://localhost:8080/",
          "height": 412
        },
        "outputId": "a86205f7-af72-46ed-de77-e2352d2926e7"
      },
      "execution_count": 123,
      "outputs": [
        {
          "output_type": "stream",
          "name": "stdout",
          "text": [
            "Top 10 countries with most companies.\n"
          ]
        },
        {
          "output_type": "execute_result",
          "data": {
            "text/plain": [
              "           company_count\n",
              "Country                 \n",
              "USA                   30\n",
              "China                 13\n",
              "India                  8\n",
              "Canada                 7\n",
              "Japan                  5\n",
              "Australia              5\n",
              "UK                     4\n",
              "Hong Kong              3\n",
              "Indonesia              3\n",
              "Singapore              3"
            ],
            "text/html": [
              "\n",
              "  <div id=\"df-47c821cc-9212-443d-a2a6-fddbbbf380b5\">\n",
              "    <div class=\"colab-df-container\">\n",
              "      <div>\n",
              "<style scoped>\n",
              "    .dataframe tbody tr th:only-of-type {\n",
              "        vertical-align: middle;\n",
              "    }\n",
              "\n",
              "    .dataframe tbody tr th {\n",
              "        vertical-align: top;\n",
              "    }\n",
              "\n",
              "    .dataframe thead th {\n",
              "        text-align: right;\n",
              "    }\n",
              "</style>\n",
              "<table border=\"1\" class=\"dataframe\">\n",
              "  <thead>\n",
              "    <tr style=\"text-align: right;\">\n",
              "      <th></th>\n",
              "      <th>company_count</th>\n",
              "    </tr>\n",
              "    <tr>\n",
              "      <th>Country</th>\n",
              "      <th></th>\n",
              "    </tr>\n",
              "  </thead>\n",
              "  <tbody>\n",
              "    <tr>\n",
              "      <th>USA</th>\n",
              "      <td>30</td>\n",
              "    </tr>\n",
              "    <tr>\n",
              "      <th>China</th>\n",
              "      <td>13</td>\n",
              "    </tr>\n",
              "    <tr>\n",
              "      <th>India</th>\n",
              "      <td>8</td>\n",
              "    </tr>\n",
              "    <tr>\n",
              "      <th>Canada</th>\n",
              "      <td>7</td>\n",
              "    </tr>\n",
              "    <tr>\n",
              "      <th>Japan</th>\n",
              "      <td>5</td>\n",
              "    </tr>\n",
              "    <tr>\n",
              "      <th>Australia</th>\n",
              "      <td>5</td>\n",
              "    </tr>\n",
              "    <tr>\n",
              "      <th>UK</th>\n",
              "      <td>4</td>\n",
              "    </tr>\n",
              "    <tr>\n",
              "      <th>Hong Kong</th>\n",
              "      <td>3</td>\n",
              "    </tr>\n",
              "    <tr>\n",
              "      <th>Indonesia</th>\n",
              "      <td>3</td>\n",
              "    </tr>\n",
              "    <tr>\n",
              "      <th>Singapore</th>\n",
              "      <td>3</td>\n",
              "    </tr>\n",
              "  </tbody>\n",
              "</table>\n",
              "</div>\n",
              "      <button class=\"colab-df-convert\" onclick=\"convertToInteractive('df-47c821cc-9212-443d-a2a6-fddbbbf380b5')\"\n",
              "              title=\"Convert this dataframe to an interactive table.\"\n",
              "              style=\"display:none;\">\n",
              "        \n",
              "  <svg xmlns=\"http://www.w3.org/2000/svg\" height=\"24px\"viewBox=\"0 0 24 24\"\n",
              "       width=\"24px\">\n",
              "    <path d=\"M0 0h24v24H0V0z\" fill=\"none\"/>\n",
              "    <path d=\"M18.56 5.44l.94 2.06.94-2.06 2.06-.94-2.06-.94-.94-2.06-.94 2.06-2.06.94zm-11 1L8.5 8.5l.94-2.06 2.06-.94-2.06-.94L8.5 2.5l-.94 2.06-2.06.94zm10 10l.94 2.06.94-2.06 2.06-.94-2.06-.94-.94-2.06-.94 2.06-2.06.94z\"/><path d=\"M17.41 7.96l-1.37-1.37c-.4-.4-.92-.59-1.43-.59-.52 0-1.04.2-1.43.59L10.3 9.45l-7.72 7.72c-.78.78-.78 2.05 0 2.83L4 21.41c.39.39.9.59 1.41.59.51 0 1.02-.2 1.41-.59l7.78-7.78 2.81-2.81c.8-.78.8-2.07 0-2.86zM5.41 20L4 18.59l7.72-7.72 1.47 1.35L5.41 20z\"/>\n",
              "  </svg>\n",
              "      </button>\n",
              "      \n",
              "  <style>\n",
              "    .colab-df-container {\n",
              "      display:flex;\n",
              "      flex-wrap:wrap;\n",
              "      gap: 12px;\n",
              "    }\n",
              "\n",
              "    .colab-df-convert {\n",
              "      background-color: #E8F0FE;\n",
              "      border: none;\n",
              "      border-radius: 50%;\n",
              "      cursor: pointer;\n",
              "      display: none;\n",
              "      fill: #1967D2;\n",
              "      height: 32px;\n",
              "      padding: 0 0 0 0;\n",
              "      width: 32px;\n",
              "    }\n",
              "\n",
              "    .colab-df-convert:hover {\n",
              "      background-color: #E2EBFA;\n",
              "      box-shadow: 0px 1px 2px rgba(60, 64, 67, 0.3), 0px 1px 3px 1px rgba(60, 64, 67, 0.15);\n",
              "      fill: #174EA6;\n",
              "    }\n",
              "\n",
              "    [theme=dark] .colab-df-convert {\n",
              "      background-color: #3B4455;\n",
              "      fill: #D2E3FC;\n",
              "    }\n",
              "\n",
              "    [theme=dark] .colab-df-convert:hover {\n",
              "      background-color: #434B5C;\n",
              "      box-shadow: 0px 1px 3px 1px rgba(0, 0, 0, 0.15);\n",
              "      filter: drop-shadow(0px 1px 2px rgba(0, 0, 0, 0.3));\n",
              "      fill: #FFFFFF;\n",
              "    }\n",
              "  </style>\n",
              "\n",
              "      <script>\n",
              "        const buttonEl =\n",
              "          document.querySelector('#df-47c821cc-9212-443d-a2a6-fddbbbf380b5 button.colab-df-convert');\n",
              "        buttonEl.style.display =\n",
              "          google.colab.kernel.accessAllowed ? 'block' : 'none';\n",
              "\n",
              "        async function convertToInteractive(key) {\n",
              "          const element = document.querySelector('#df-47c821cc-9212-443d-a2a6-fddbbbf380b5');\n",
              "          const dataTable =\n",
              "            await google.colab.kernel.invokeFunction('convertToInteractive',\n",
              "                                                     [key], {});\n",
              "          if (!dataTable) return;\n",
              "\n",
              "          const docLinkHtml = 'Like what you see? Visit the ' +\n",
              "            '<a target=\"_blank\" href=https://colab.research.google.com/notebooks/data_table.ipynb>data table notebook</a>'\n",
              "            + ' to learn more about interactive tables.';\n",
              "          element.innerHTML = '';\n",
              "          dataTable['output_type'] = 'display_data';\n",
              "          await google.colab.output.renderOutput(dataTable, element);\n",
              "          const docLink = document.createElement('div');\n",
              "          docLink.innerHTML = docLinkHtml;\n",
              "          element.appendChild(docLink);\n",
              "        }\n",
              "      </script>\n",
              "    </div>\n",
              "  </div>\n",
              "  "
            ]
          },
          "metadata": {},
          "execution_count": 123
        }
      ]
    },
    {
      "cell_type": "markdown",
      "source": [
        "*Assigning the first 10 countries to a new data frame.*"
      ],
      "metadata": {
        "id": "rufkrVZX5pAB"
      }
    },
    {
      "cell_type": "code",
      "source": [
        "df_top_10_countries = df_no_of_companies.head(10)"
      ],
      "metadata": {
        "id": "T97SA7U5sh4S"
      },
      "execution_count": 124,
      "outputs": []
    },
    {
      "cell_type": "code",
      "source": [
        "print(df_top_10_countries)"
      ],
      "metadata": {
        "id": "rot_Qucc3vEc",
        "colab": {
          "base_uri": "https://localhost:8080/"
        },
        "outputId": "86e778c0-7b8b-498f-8c09-a113fd6fbdc1"
      },
      "execution_count": 125,
      "outputs": [
        {
          "output_type": "stream",
          "name": "stdout",
          "text": [
            "           company_count\n",
            "Country                 \n",
            "USA                   30\n",
            "China                 13\n",
            "India                  8\n",
            "Canada                 7\n",
            "Japan                  5\n",
            "Australia              5\n",
            "UK                     4\n",
            "Hong Kong              3\n",
            "Indonesia              3\n",
            "Singapore              3\n"
          ]
        }
      ]
    },
    {
      "cell_type": "code",
      "source": [
        "fig = px.pie(labels=df_top_10_countries.index, \n",
        "             values=df_top_10_countries.company_count.values,\n",
        "             title= \"Top 10 Countries with most financial services companies\",\n",
        "             names=df_top_10_countries.index\n",
        "             )\n",
        "fig.update_traces(textposition='outside', textinfo='percent+label')\n",
        "\n",
        "fig.show()\n",
        "\n",
        "\n",
        "\n"
      ],
      "metadata": {
        "id": "pivrAIcXmY5f",
        "colab": {
          "base_uri": "https://localhost:8080/",
          "height": 611
        },
        "outputId": "2392f6f4-75d5-4e49-c8f2-a44241052fcc"
      },
      "execution_count": 126,
      "outputs": [
        {
          "output_type": "stream",
          "name": "stderr",
          "text": [
            "/usr/local/lib/python3.8/dist-packages/plotly/express/_core.py:137: FutureWarning:\n",
            "\n",
            "Support for multi-dimensional indexing (e.g. `obj[:, None]`) is deprecated and will be removed in a future version.  Convert to a numpy array before indexing instead.\n",
            "\n"
          ]
        },
        {
          "output_type": "display_data",
          "data": {
            "text/html": [
              "<html>\n",
              "<head><meta charset=\"utf-8\" /></head>\n",
              "<body>\n",
              "    <div>            <script src=\"https://cdnjs.cloudflare.com/ajax/libs/mathjax/2.7.5/MathJax.js?config=TeX-AMS-MML_SVG\"></script><script type=\"text/javascript\">if (window.MathJax) {MathJax.Hub.Config({SVG: {font: \"STIX-Web\"}});}</script>                <script type=\"text/javascript\">window.PlotlyConfig = {MathJaxConfig: 'local'};</script>\n",
              "        <script src=\"https://cdn.plot.ly/plotly-2.8.3.min.js\"></script>                <div id=\"a4265dd0-5a83-4d75-b11a-083472083fec\" class=\"plotly-graph-div\" style=\"height:525px; width:100%;\"></div>            <script type=\"text/javascript\">                                    window.PLOTLYENV=window.PLOTLYENV || {};                                    if (document.getElementById(\"a4265dd0-5a83-4d75-b11a-083472083fec\")) {                    Plotly.newPlot(                        \"a4265dd0-5a83-4d75-b11a-083472083fec\",                        [{\"domain\":{\"x\":[0.0,1.0],\"y\":[0.0,1.0]},\"hovertemplate\":\"label=%{label}<br>value=%{value}<extra></extra>\",\"labels\":[\"USA\",\"China\",\"India\",\"Canada\",\"Japan\",\"Australia\",\"UK\",\"Hong Kong\",\"Indonesia\",\"Singapore\"],\"legendgroup\":\"\",\"name\":\"\",\"showlegend\":true,\"values\":[30,13,8,7,5,5,4,3,3,3],\"type\":\"pie\",\"textinfo\":\"percent+label\",\"textposition\":\"outside\"}],                        {\"template\":{\"data\":{\"bar\":[{\"error_x\":{\"color\":\"#2a3f5f\"},\"error_y\":{\"color\":\"#2a3f5f\"},\"marker\":{\"line\":{\"color\":\"#E5ECF6\",\"width\":0.5},\"pattern\":{\"fillmode\":\"overlay\",\"size\":10,\"solidity\":0.2}},\"type\":\"bar\"}],\"barpolar\":[{\"marker\":{\"line\":{\"color\":\"#E5ECF6\",\"width\":0.5},\"pattern\":{\"fillmode\":\"overlay\",\"size\":10,\"solidity\":0.2}},\"type\":\"barpolar\"}],\"carpet\":[{\"aaxis\":{\"endlinecolor\":\"#2a3f5f\",\"gridcolor\":\"white\",\"linecolor\":\"white\",\"minorgridcolor\":\"white\",\"startlinecolor\":\"#2a3f5f\"},\"baxis\":{\"endlinecolor\":\"#2a3f5f\",\"gridcolor\":\"white\",\"linecolor\":\"white\",\"minorgridcolor\":\"white\",\"startlinecolor\":\"#2a3f5f\"},\"type\":\"carpet\"}],\"choropleth\":[{\"colorbar\":{\"outlinewidth\":0,\"ticks\":\"\"},\"type\":\"choropleth\"}],\"contour\":[{\"colorbar\":{\"outlinewidth\":0,\"ticks\":\"\"},\"colorscale\":[[0.0,\"#0d0887\"],[0.1111111111111111,\"#46039f\"],[0.2222222222222222,\"#7201a8\"],[0.3333333333333333,\"#9c179e\"],[0.4444444444444444,\"#bd3786\"],[0.5555555555555556,\"#d8576b\"],[0.6666666666666666,\"#ed7953\"],[0.7777777777777778,\"#fb9f3a\"],[0.8888888888888888,\"#fdca26\"],[1.0,\"#f0f921\"]],\"type\":\"contour\"}],\"contourcarpet\":[{\"colorbar\":{\"outlinewidth\":0,\"ticks\":\"\"},\"type\":\"contourcarpet\"}],\"heatmap\":[{\"colorbar\":{\"outlinewidth\":0,\"ticks\":\"\"},\"colorscale\":[[0.0,\"#0d0887\"],[0.1111111111111111,\"#46039f\"],[0.2222222222222222,\"#7201a8\"],[0.3333333333333333,\"#9c179e\"],[0.4444444444444444,\"#bd3786\"],[0.5555555555555556,\"#d8576b\"],[0.6666666666666666,\"#ed7953\"],[0.7777777777777778,\"#fb9f3a\"],[0.8888888888888888,\"#fdca26\"],[1.0,\"#f0f921\"]],\"type\":\"heatmap\"}],\"heatmapgl\":[{\"colorbar\":{\"outlinewidth\":0,\"ticks\":\"\"},\"colorscale\":[[0.0,\"#0d0887\"],[0.1111111111111111,\"#46039f\"],[0.2222222222222222,\"#7201a8\"],[0.3333333333333333,\"#9c179e\"],[0.4444444444444444,\"#bd3786\"],[0.5555555555555556,\"#d8576b\"],[0.6666666666666666,\"#ed7953\"],[0.7777777777777778,\"#fb9f3a\"],[0.8888888888888888,\"#fdca26\"],[1.0,\"#f0f921\"]],\"type\":\"heatmapgl\"}],\"histogram\":[{\"marker\":{\"pattern\":{\"fillmode\":\"overlay\",\"size\":10,\"solidity\":0.2}},\"type\":\"histogram\"}],\"histogram2d\":[{\"colorbar\":{\"outlinewidth\":0,\"ticks\":\"\"},\"colorscale\":[[0.0,\"#0d0887\"],[0.1111111111111111,\"#46039f\"],[0.2222222222222222,\"#7201a8\"],[0.3333333333333333,\"#9c179e\"],[0.4444444444444444,\"#bd3786\"],[0.5555555555555556,\"#d8576b\"],[0.6666666666666666,\"#ed7953\"],[0.7777777777777778,\"#fb9f3a\"],[0.8888888888888888,\"#fdca26\"],[1.0,\"#f0f921\"]],\"type\":\"histogram2d\"}],\"histogram2dcontour\":[{\"colorbar\":{\"outlinewidth\":0,\"ticks\":\"\"},\"colorscale\":[[0.0,\"#0d0887\"],[0.1111111111111111,\"#46039f\"],[0.2222222222222222,\"#7201a8\"],[0.3333333333333333,\"#9c179e\"],[0.4444444444444444,\"#bd3786\"],[0.5555555555555556,\"#d8576b\"],[0.6666666666666666,\"#ed7953\"],[0.7777777777777778,\"#fb9f3a\"],[0.8888888888888888,\"#fdca26\"],[1.0,\"#f0f921\"]],\"type\":\"histogram2dcontour\"}],\"mesh3d\":[{\"colorbar\":{\"outlinewidth\":0,\"ticks\":\"\"},\"type\":\"mesh3d\"}],\"parcoords\":[{\"line\":{\"colorbar\":{\"outlinewidth\":0,\"ticks\":\"\"}},\"type\":\"parcoords\"}],\"pie\":[{\"automargin\":true,\"type\":\"pie\"}],\"scatter\":[{\"marker\":{\"colorbar\":{\"outlinewidth\":0,\"ticks\":\"\"}},\"type\":\"scatter\"}],\"scatter3d\":[{\"line\":{\"colorbar\":{\"outlinewidth\":0,\"ticks\":\"\"}},\"marker\":{\"colorbar\":{\"outlinewidth\":0,\"ticks\":\"\"}},\"type\":\"scatter3d\"}],\"scattercarpet\":[{\"marker\":{\"colorbar\":{\"outlinewidth\":0,\"ticks\":\"\"}},\"type\":\"scattercarpet\"}],\"scattergeo\":[{\"marker\":{\"colorbar\":{\"outlinewidth\":0,\"ticks\":\"\"}},\"type\":\"scattergeo\"}],\"scattergl\":[{\"marker\":{\"colorbar\":{\"outlinewidth\":0,\"ticks\":\"\"}},\"type\":\"scattergl\"}],\"scattermapbox\":[{\"marker\":{\"colorbar\":{\"outlinewidth\":0,\"ticks\":\"\"}},\"type\":\"scattermapbox\"}],\"scatterpolar\":[{\"marker\":{\"colorbar\":{\"outlinewidth\":0,\"ticks\":\"\"}},\"type\":\"scatterpolar\"}],\"scatterpolargl\":[{\"marker\":{\"colorbar\":{\"outlinewidth\":0,\"ticks\":\"\"}},\"type\":\"scatterpolargl\"}],\"scatterternary\":[{\"marker\":{\"colorbar\":{\"outlinewidth\":0,\"ticks\":\"\"}},\"type\":\"scatterternary\"}],\"surface\":[{\"colorbar\":{\"outlinewidth\":0,\"ticks\":\"\"},\"colorscale\":[[0.0,\"#0d0887\"],[0.1111111111111111,\"#46039f\"],[0.2222222222222222,\"#7201a8\"],[0.3333333333333333,\"#9c179e\"],[0.4444444444444444,\"#bd3786\"],[0.5555555555555556,\"#d8576b\"],[0.6666666666666666,\"#ed7953\"],[0.7777777777777778,\"#fb9f3a\"],[0.8888888888888888,\"#fdca26\"],[1.0,\"#f0f921\"]],\"type\":\"surface\"}],\"table\":[{\"cells\":{\"fill\":{\"color\":\"#EBF0F8\"},\"line\":{\"color\":\"white\"}},\"header\":{\"fill\":{\"color\":\"#C8D4E3\"},\"line\":{\"color\":\"white\"}},\"type\":\"table\"}]},\"layout\":{\"annotationdefaults\":{\"arrowcolor\":\"#2a3f5f\",\"arrowhead\":0,\"arrowwidth\":1},\"autotypenumbers\":\"strict\",\"coloraxis\":{\"colorbar\":{\"outlinewidth\":0,\"ticks\":\"\"}},\"colorscale\":{\"diverging\":[[0,\"#8e0152\"],[0.1,\"#c51b7d\"],[0.2,\"#de77ae\"],[0.3,\"#f1b6da\"],[0.4,\"#fde0ef\"],[0.5,\"#f7f7f7\"],[0.6,\"#e6f5d0\"],[0.7,\"#b8e186\"],[0.8,\"#7fbc41\"],[0.9,\"#4d9221\"],[1,\"#276419\"]],\"sequential\":[[0.0,\"#0d0887\"],[0.1111111111111111,\"#46039f\"],[0.2222222222222222,\"#7201a8\"],[0.3333333333333333,\"#9c179e\"],[0.4444444444444444,\"#bd3786\"],[0.5555555555555556,\"#d8576b\"],[0.6666666666666666,\"#ed7953\"],[0.7777777777777778,\"#fb9f3a\"],[0.8888888888888888,\"#fdca26\"],[1.0,\"#f0f921\"]],\"sequentialminus\":[[0.0,\"#0d0887\"],[0.1111111111111111,\"#46039f\"],[0.2222222222222222,\"#7201a8\"],[0.3333333333333333,\"#9c179e\"],[0.4444444444444444,\"#bd3786\"],[0.5555555555555556,\"#d8576b\"],[0.6666666666666666,\"#ed7953\"],[0.7777777777777778,\"#fb9f3a\"],[0.8888888888888888,\"#fdca26\"],[1.0,\"#f0f921\"]]},\"colorway\":[\"#636efa\",\"#EF553B\",\"#00cc96\",\"#ab63fa\",\"#FFA15A\",\"#19d3f3\",\"#FF6692\",\"#B6E880\",\"#FF97FF\",\"#FECB52\"],\"font\":{\"color\":\"#2a3f5f\"},\"geo\":{\"bgcolor\":\"white\",\"lakecolor\":\"white\",\"landcolor\":\"#E5ECF6\",\"showlakes\":true,\"showland\":true,\"subunitcolor\":\"white\"},\"hoverlabel\":{\"align\":\"left\"},\"hovermode\":\"closest\",\"mapbox\":{\"style\":\"light\"},\"paper_bgcolor\":\"white\",\"plot_bgcolor\":\"#E5ECF6\",\"polar\":{\"angularaxis\":{\"gridcolor\":\"white\",\"linecolor\":\"white\",\"ticks\":\"\"},\"bgcolor\":\"#E5ECF6\",\"radialaxis\":{\"gridcolor\":\"white\",\"linecolor\":\"white\",\"ticks\":\"\"}},\"scene\":{\"xaxis\":{\"backgroundcolor\":\"#E5ECF6\",\"gridcolor\":\"white\",\"gridwidth\":2,\"linecolor\":\"white\",\"showbackground\":true,\"ticks\":\"\",\"zerolinecolor\":\"white\"},\"yaxis\":{\"backgroundcolor\":\"#E5ECF6\",\"gridcolor\":\"white\",\"gridwidth\":2,\"linecolor\":\"white\",\"showbackground\":true,\"ticks\":\"\",\"zerolinecolor\":\"white\"},\"zaxis\":{\"backgroundcolor\":\"#E5ECF6\",\"gridcolor\":\"white\",\"gridwidth\":2,\"linecolor\":\"white\",\"showbackground\":true,\"ticks\":\"\",\"zerolinecolor\":\"white\"}},\"shapedefaults\":{\"line\":{\"color\":\"#2a3f5f\"}},\"ternary\":{\"aaxis\":{\"gridcolor\":\"white\",\"linecolor\":\"white\",\"ticks\":\"\"},\"baxis\":{\"gridcolor\":\"white\",\"linecolor\":\"white\",\"ticks\":\"\"},\"bgcolor\":\"#E5ECF6\",\"caxis\":{\"gridcolor\":\"white\",\"linecolor\":\"white\",\"ticks\":\"\"}},\"title\":{\"x\":0.05},\"xaxis\":{\"automargin\":true,\"gridcolor\":\"white\",\"linecolor\":\"white\",\"ticks\":\"\",\"title\":{\"standoff\":15},\"zerolinecolor\":\"white\",\"zerolinewidth\":2},\"yaxis\":{\"automargin\":true,\"gridcolor\":\"white\",\"linecolor\":\"white\",\"ticks\":\"\",\"title\":{\"standoff\":15},\"zerolinecolor\":\"white\",\"zerolinewidth\":2}}},\"legend\":{\"tracegroupgap\":0},\"title\":{\"text\":\"Top 10 Countries with most financial services companies\"}},                        {\"responsive\": true}                    ).then(function(){\n",
              "                            \n",
              "var gd = document.getElementById('a4265dd0-5a83-4d75-b11a-083472083fec');\n",
              "var x = new MutationObserver(function (mutations, observer) {{\n",
              "        var display = window.getComputedStyle(gd).display;\n",
              "        if (!display || display === 'none') {{\n",
              "            console.log([gd, 'removed!']);\n",
              "            Plotly.purge(gd);\n",
              "            observer.disconnect();\n",
              "        }}\n",
              "}});\n",
              "\n",
              "// Listen for the removal of the full notebook cells\n",
              "var notebookContainer = gd.closest('#notebook-container');\n",
              "if (notebookContainer) {{\n",
              "    x.observe(notebookContainer, {childList: true});\n",
              "}}\n",
              "\n",
              "// Listen for the clearing of the current output cell\n",
              "var outputEl = gd.closest('.output');\n",
              "if (outputEl) {{\n",
              "    x.observe(outputEl, {childList: true});\n",
              "}}\n",
              "\n",
              "                        })                };                            </script>        </div>\n",
              "</body>\n",
              "</html>"
            ]
          },
          "metadata": {}
        }
      ]
    },
    {
      "cell_type": "markdown",
      "source": [
        "Big 5 banks of Canada"
      ],
      "metadata": {
        "id": "oYTM2ftd54uS"
      }
    },
    {
      "cell_type": "code",
      "source": [
        "h_bar = px.bar(x = df_big_five_canadian_banks['Market Cap'].values,\n",
        "               y = df_big_five_canadian_banks.Company.values,\n",
        "               orientation='h',\n",
        "               title='Big 5 Canadian Banks by Market Cap')\n",
        "# As values of Y-axis are ascending from bottom to top. \n",
        "h_bar.update_layout(xaxis_title='Market Cap', yaxis_title='Bank', yaxis={'categoryorder' : 'total ascending'})\n",
        "h_bar.show()\n"
      ],
      "metadata": {
        "id": "EJx1ioL15-Ds",
        "colab": {
          "base_uri": "https://localhost:8080/",
          "height": 542
        },
        "outputId": "a6b6450a-e722-4176-d4e9-dd1fe1ec0921"
      },
      "execution_count": 127,
      "outputs": [
        {
          "output_type": "display_data",
          "data": {
            "text/html": [
              "<html>\n",
              "<head><meta charset=\"utf-8\" /></head>\n",
              "<body>\n",
              "    <div>            <script src=\"https://cdnjs.cloudflare.com/ajax/libs/mathjax/2.7.5/MathJax.js?config=TeX-AMS-MML_SVG\"></script><script type=\"text/javascript\">if (window.MathJax) {MathJax.Hub.Config({SVG: {font: \"STIX-Web\"}});}</script>                <script type=\"text/javascript\">window.PlotlyConfig = {MathJaxConfig: 'local'};</script>\n",
              "        <script src=\"https://cdn.plot.ly/plotly-2.8.3.min.js\"></script>                <div id=\"ada3f08d-e9d5-4d0d-90b6-44fcbb7c1c58\" class=\"plotly-graph-div\" style=\"height:525px; width:100%;\"></div>            <script type=\"text/javascript\">                                    window.PLOTLYENV=window.PLOTLYENV || {};                                    if (document.getElementById(\"ada3f08d-e9d5-4d0d-90b6-44fcbb7c1c58\")) {                    Plotly.newPlot(                        \"ada3f08d-e9d5-4d0d-90b6-44fcbb7c1c58\",                        [{\"alignmentgroup\":\"True\",\"hovertemplate\":\"x=%{x}<br>y=%{y}<extra></extra>\",\"legendgroup\":\"\",\"marker\":{\"color\":\"#636efa\",\"pattern\":{\"shape\":\"\"}},\"name\":\"\",\"offsetgroup\":\"\",\"orientation\":\"h\",\"showlegend\":false,\"textposition\":\"auto\",\"x\":[143720000000.0,126880000000.0,71430000000.0,65730000000.00001,41930000000.0],\"xaxis\":\"x\",\"y\":[\"Royal Bank Of Canada\",\"Toronto Dominion Bank\",\"Bank of Montreal\",\"Scotiabank\",\"CIBC\"],\"yaxis\":\"y\",\"type\":\"bar\"}],                        {\"template\":{\"data\":{\"bar\":[{\"error_x\":{\"color\":\"#2a3f5f\"},\"error_y\":{\"color\":\"#2a3f5f\"},\"marker\":{\"line\":{\"color\":\"#E5ECF6\",\"width\":0.5},\"pattern\":{\"fillmode\":\"overlay\",\"size\":10,\"solidity\":0.2}},\"type\":\"bar\"}],\"barpolar\":[{\"marker\":{\"line\":{\"color\":\"#E5ECF6\",\"width\":0.5},\"pattern\":{\"fillmode\":\"overlay\",\"size\":10,\"solidity\":0.2}},\"type\":\"barpolar\"}],\"carpet\":[{\"aaxis\":{\"endlinecolor\":\"#2a3f5f\",\"gridcolor\":\"white\",\"linecolor\":\"white\",\"minorgridcolor\":\"white\",\"startlinecolor\":\"#2a3f5f\"},\"baxis\":{\"endlinecolor\":\"#2a3f5f\",\"gridcolor\":\"white\",\"linecolor\":\"white\",\"minorgridcolor\":\"white\",\"startlinecolor\":\"#2a3f5f\"},\"type\":\"carpet\"}],\"choropleth\":[{\"colorbar\":{\"outlinewidth\":0,\"ticks\":\"\"},\"type\":\"choropleth\"}],\"contour\":[{\"colorbar\":{\"outlinewidth\":0,\"ticks\":\"\"},\"colorscale\":[[0.0,\"#0d0887\"],[0.1111111111111111,\"#46039f\"],[0.2222222222222222,\"#7201a8\"],[0.3333333333333333,\"#9c179e\"],[0.4444444444444444,\"#bd3786\"],[0.5555555555555556,\"#d8576b\"],[0.6666666666666666,\"#ed7953\"],[0.7777777777777778,\"#fb9f3a\"],[0.8888888888888888,\"#fdca26\"],[1.0,\"#f0f921\"]],\"type\":\"contour\"}],\"contourcarpet\":[{\"colorbar\":{\"outlinewidth\":0,\"ticks\":\"\"},\"type\":\"contourcarpet\"}],\"heatmap\":[{\"colorbar\":{\"outlinewidth\":0,\"ticks\":\"\"},\"colorscale\":[[0.0,\"#0d0887\"],[0.1111111111111111,\"#46039f\"],[0.2222222222222222,\"#7201a8\"],[0.3333333333333333,\"#9c179e\"],[0.4444444444444444,\"#bd3786\"],[0.5555555555555556,\"#d8576b\"],[0.6666666666666666,\"#ed7953\"],[0.7777777777777778,\"#fb9f3a\"],[0.8888888888888888,\"#fdca26\"],[1.0,\"#f0f921\"]],\"type\":\"heatmap\"}],\"heatmapgl\":[{\"colorbar\":{\"outlinewidth\":0,\"ticks\":\"\"},\"colorscale\":[[0.0,\"#0d0887\"],[0.1111111111111111,\"#46039f\"],[0.2222222222222222,\"#7201a8\"],[0.3333333333333333,\"#9c179e\"],[0.4444444444444444,\"#bd3786\"],[0.5555555555555556,\"#d8576b\"],[0.6666666666666666,\"#ed7953\"],[0.7777777777777778,\"#fb9f3a\"],[0.8888888888888888,\"#fdca26\"],[1.0,\"#f0f921\"]],\"type\":\"heatmapgl\"}],\"histogram\":[{\"marker\":{\"pattern\":{\"fillmode\":\"overlay\",\"size\":10,\"solidity\":0.2}},\"type\":\"histogram\"}],\"histogram2d\":[{\"colorbar\":{\"outlinewidth\":0,\"ticks\":\"\"},\"colorscale\":[[0.0,\"#0d0887\"],[0.1111111111111111,\"#46039f\"],[0.2222222222222222,\"#7201a8\"],[0.3333333333333333,\"#9c179e\"],[0.4444444444444444,\"#bd3786\"],[0.5555555555555556,\"#d8576b\"],[0.6666666666666666,\"#ed7953\"],[0.7777777777777778,\"#fb9f3a\"],[0.8888888888888888,\"#fdca26\"],[1.0,\"#f0f921\"]],\"type\":\"histogram2d\"}],\"histogram2dcontour\":[{\"colorbar\":{\"outlinewidth\":0,\"ticks\":\"\"},\"colorscale\":[[0.0,\"#0d0887\"],[0.1111111111111111,\"#46039f\"],[0.2222222222222222,\"#7201a8\"],[0.3333333333333333,\"#9c179e\"],[0.4444444444444444,\"#bd3786\"],[0.5555555555555556,\"#d8576b\"],[0.6666666666666666,\"#ed7953\"],[0.7777777777777778,\"#fb9f3a\"],[0.8888888888888888,\"#fdca26\"],[1.0,\"#f0f921\"]],\"type\":\"histogram2dcontour\"}],\"mesh3d\":[{\"colorbar\":{\"outlinewidth\":0,\"ticks\":\"\"},\"type\":\"mesh3d\"}],\"parcoords\":[{\"line\":{\"colorbar\":{\"outlinewidth\":0,\"ticks\":\"\"}},\"type\":\"parcoords\"}],\"pie\":[{\"automargin\":true,\"type\":\"pie\"}],\"scatter\":[{\"marker\":{\"colorbar\":{\"outlinewidth\":0,\"ticks\":\"\"}},\"type\":\"scatter\"}],\"scatter3d\":[{\"line\":{\"colorbar\":{\"outlinewidth\":0,\"ticks\":\"\"}},\"marker\":{\"colorbar\":{\"outlinewidth\":0,\"ticks\":\"\"}},\"type\":\"scatter3d\"}],\"scattercarpet\":[{\"marker\":{\"colorbar\":{\"outlinewidth\":0,\"ticks\":\"\"}},\"type\":\"scattercarpet\"}],\"scattergeo\":[{\"marker\":{\"colorbar\":{\"outlinewidth\":0,\"ticks\":\"\"}},\"type\":\"scattergeo\"}],\"scattergl\":[{\"marker\":{\"colorbar\":{\"outlinewidth\":0,\"ticks\":\"\"}},\"type\":\"scattergl\"}],\"scattermapbox\":[{\"marker\":{\"colorbar\":{\"outlinewidth\":0,\"ticks\":\"\"}},\"type\":\"scattermapbox\"}],\"scatterpolar\":[{\"marker\":{\"colorbar\":{\"outlinewidth\":0,\"ticks\":\"\"}},\"type\":\"scatterpolar\"}],\"scatterpolargl\":[{\"marker\":{\"colorbar\":{\"outlinewidth\":0,\"ticks\":\"\"}},\"type\":\"scatterpolargl\"}],\"scatterternary\":[{\"marker\":{\"colorbar\":{\"outlinewidth\":0,\"ticks\":\"\"}},\"type\":\"scatterternary\"}],\"surface\":[{\"colorbar\":{\"outlinewidth\":0,\"ticks\":\"\"},\"colorscale\":[[0.0,\"#0d0887\"],[0.1111111111111111,\"#46039f\"],[0.2222222222222222,\"#7201a8\"],[0.3333333333333333,\"#9c179e\"],[0.4444444444444444,\"#bd3786\"],[0.5555555555555556,\"#d8576b\"],[0.6666666666666666,\"#ed7953\"],[0.7777777777777778,\"#fb9f3a\"],[0.8888888888888888,\"#fdca26\"],[1.0,\"#f0f921\"]],\"type\":\"surface\"}],\"table\":[{\"cells\":{\"fill\":{\"color\":\"#EBF0F8\"},\"line\":{\"color\":\"white\"}},\"header\":{\"fill\":{\"color\":\"#C8D4E3\"},\"line\":{\"color\":\"white\"}},\"type\":\"table\"}]},\"layout\":{\"annotationdefaults\":{\"arrowcolor\":\"#2a3f5f\",\"arrowhead\":0,\"arrowwidth\":1},\"autotypenumbers\":\"strict\",\"coloraxis\":{\"colorbar\":{\"outlinewidth\":0,\"ticks\":\"\"}},\"colorscale\":{\"diverging\":[[0,\"#8e0152\"],[0.1,\"#c51b7d\"],[0.2,\"#de77ae\"],[0.3,\"#f1b6da\"],[0.4,\"#fde0ef\"],[0.5,\"#f7f7f7\"],[0.6,\"#e6f5d0\"],[0.7,\"#b8e186\"],[0.8,\"#7fbc41\"],[0.9,\"#4d9221\"],[1,\"#276419\"]],\"sequential\":[[0.0,\"#0d0887\"],[0.1111111111111111,\"#46039f\"],[0.2222222222222222,\"#7201a8\"],[0.3333333333333333,\"#9c179e\"],[0.4444444444444444,\"#bd3786\"],[0.5555555555555556,\"#d8576b\"],[0.6666666666666666,\"#ed7953\"],[0.7777777777777778,\"#fb9f3a\"],[0.8888888888888888,\"#fdca26\"],[1.0,\"#f0f921\"]],\"sequentialminus\":[[0.0,\"#0d0887\"],[0.1111111111111111,\"#46039f\"],[0.2222222222222222,\"#7201a8\"],[0.3333333333333333,\"#9c179e\"],[0.4444444444444444,\"#bd3786\"],[0.5555555555555556,\"#d8576b\"],[0.6666666666666666,\"#ed7953\"],[0.7777777777777778,\"#fb9f3a\"],[0.8888888888888888,\"#fdca26\"],[1.0,\"#f0f921\"]]},\"colorway\":[\"#636efa\",\"#EF553B\",\"#00cc96\",\"#ab63fa\",\"#FFA15A\",\"#19d3f3\",\"#FF6692\",\"#B6E880\",\"#FF97FF\",\"#FECB52\"],\"font\":{\"color\":\"#2a3f5f\"},\"geo\":{\"bgcolor\":\"white\",\"lakecolor\":\"white\",\"landcolor\":\"#E5ECF6\",\"showlakes\":true,\"showland\":true,\"subunitcolor\":\"white\"},\"hoverlabel\":{\"align\":\"left\"},\"hovermode\":\"closest\",\"mapbox\":{\"style\":\"light\"},\"paper_bgcolor\":\"white\",\"plot_bgcolor\":\"#E5ECF6\",\"polar\":{\"angularaxis\":{\"gridcolor\":\"white\",\"linecolor\":\"white\",\"ticks\":\"\"},\"bgcolor\":\"#E5ECF6\",\"radialaxis\":{\"gridcolor\":\"white\",\"linecolor\":\"white\",\"ticks\":\"\"}},\"scene\":{\"xaxis\":{\"backgroundcolor\":\"#E5ECF6\",\"gridcolor\":\"white\",\"gridwidth\":2,\"linecolor\":\"white\",\"showbackground\":true,\"ticks\":\"\",\"zerolinecolor\":\"white\"},\"yaxis\":{\"backgroundcolor\":\"#E5ECF6\",\"gridcolor\":\"white\",\"gridwidth\":2,\"linecolor\":\"white\",\"showbackground\":true,\"ticks\":\"\",\"zerolinecolor\":\"white\"},\"zaxis\":{\"backgroundcolor\":\"#E5ECF6\",\"gridcolor\":\"white\",\"gridwidth\":2,\"linecolor\":\"white\",\"showbackground\":true,\"ticks\":\"\",\"zerolinecolor\":\"white\"}},\"shapedefaults\":{\"line\":{\"color\":\"#2a3f5f\"}},\"ternary\":{\"aaxis\":{\"gridcolor\":\"white\",\"linecolor\":\"white\",\"ticks\":\"\"},\"baxis\":{\"gridcolor\":\"white\",\"linecolor\":\"white\",\"ticks\":\"\"},\"bgcolor\":\"#E5ECF6\",\"caxis\":{\"gridcolor\":\"white\",\"linecolor\":\"white\",\"ticks\":\"\"}},\"title\":{\"x\":0.05},\"xaxis\":{\"automargin\":true,\"gridcolor\":\"white\",\"linecolor\":\"white\",\"ticks\":\"\",\"title\":{\"standoff\":15},\"zerolinecolor\":\"white\",\"zerolinewidth\":2},\"yaxis\":{\"automargin\":true,\"gridcolor\":\"white\",\"linecolor\":\"white\",\"ticks\":\"\",\"title\":{\"standoff\":15},\"zerolinecolor\":\"white\",\"zerolinewidth\":2}}},\"xaxis\":{\"anchor\":\"y\",\"domain\":[0.0,1.0],\"title\":{\"text\":\"Market Cap\"}},\"yaxis\":{\"anchor\":\"x\",\"domain\":[0.0,1.0],\"title\":{\"text\":\"Bank\"},\"categoryorder\":\"total ascending\"},\"legend\":{\"tracegroupgap\":0},\"title\":{\"text\":\"Big 5 Canadian Banks by Market Cap\"},\"barmode\":\"relative\"},                        {\"responsive\": true}                    ).then(function(){\n",
              "                            \n",
              "var gd = document.getElementById('ada3f08d-e9d5-4d0d-90b6-44fcbb7c1c58');\n",
              "var x = new MutationObserver(function (mutations, observer) {{\n",
              "        var display = window.getComputedStyle(gd).display;\n",
              "        if (!display || display === 'none') {{\n",
              "            console.log([gd, 'removed!']);\n",
              "            Plotly.purge(gd);\n",
              "            observer.disconnect();\n",
              "        }}\n",
              "}});\n",
              "\n",
              "// Listen for the removal of the full notebook cells\n",
              "var notebookContainer = gd.closest('#notebook-container');\n",
              "if (notebookContainer) {{\n",
              "    x.observe(notebookContainer, {childList: true});\n",
              "}}\n",
              "\n",
              "// Listen for the clearing of the current output cell\n",
              "var outputEl = gd.closest('.output');\n",
              "if (outputEl) {{\n",
              "    x.observe(outputEl, {childList: true});\n",
              "}}\n",
              "\n",
              "                        })                };                            </script>        </div>\n",
              "</body>\n",
              "</html>"
            ]
          },
          "metadata": {}
        }
      ]
    },
    {
      "cell_type": "markdown",
      "source": [
        "Saving dataframe to a CSV file"
      ],
      "metadata": {
        "id": "Z3D1udN8SjLg"
      }
    },
    {
      "cell_type": "code",
      "source": [
        "df.to_csv('Largest Financial Services Companies.csv', index=False)"
      ],
      "metadata": {
        "id": "_t_deWsDSoTR"
      },
      "execution_count": 135,
      "outputs": []
    },
    {
      "cell_type": "code",
      "source": [],
      "metadata": {
        "id": "SaGh3tQMSzBB"
      },
      "execution_count": null,
      "outputs": []
    }
  ]
}